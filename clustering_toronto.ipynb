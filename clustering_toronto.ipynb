{
 "cells": [
  {
   "source": [
    "# Clustering Neighborhoods in Toronto Based on Nearby Venues\n",
    "This notebook is part of the capstone project of the IBM Data Science Proffesional Certificate course offered through Coursera."
   ],
   "cell_type": "markdown",
   "metadata": {}
  },
  {
   "source": [
    "from bs4 import BeautifulSoup\n",
    "import urllib.request\n",
    "import pandas as pd\n",
    "import geocoder\n",
    "import folium\n",
    "from geopy.geocoders import Nominatim\n",
    "import json\n",
    "import requests\n",
    "import numpy as np\n",
    "from sklearn.cluster import KMeans\n",
    "import matplotlib.cm as cm\n",
    "import matplotlib.colors as colors\n",
    "from sklearn.preprocessing import MinMaxScaler\n",
    "import matplotlib.pyplot as plt"
   ],
   "cell_type": "code",
   "metadata": {},
   "execution_count": 28,
   "outputs": []
  },
  {
   "source": [
    "### Get data from Wikipedia and scrape the table into python data structures\n",
    "The data in question is from [the Wikipedia page on postal codes in Canada for the Toronto area](https://en.wikipedia.org/wiki/List_of_postal_codes_of_Canada:_M).\n",
    "\n",
    "The table for the postal codes is scraped using [the BeautifulSoup python libray for web scraping](https://beautiful-soup-4.readthedocs.io/en/latest/index.html?highlight=attribute#)."
   ],
   "cell_type": "markdown",
   "metadata": {}
  },
  {
   "cell_type": "code",
   "execution_count": 29,
   "metadata": {},
   "outputs": [],
   "source": [
    "source = urllib.request.urlopen('https://en.wikipedia.org/wiki/List_of_postal_codes_of_Canada:_M').read()\n",
    "soup = BeautifulSoup(source)\n",
    "table = soup.find('table')\n",
    "table_rows = table.find_all('tr')\n",
    "table_headers = table.find_all('th')\n",
    "column_names = [header.text.strip('\\n') for header in table_headers]"
   ]
  },
  {
   "source": [
    "### Tranform the data into a _pandas_ dataframe\n",
    "\n",
    "After scraping the table, the data is read into a pandas datafram using the following criteria:\n",
    "\n",
    "* The dataframe will consist of three columns: PostalCode, Borough, and Neighbourhood.\n",
    "* Only postal codes with an assigned borough are processed.\n",
    "* Postal codes with multiple assigned neighbourhoods are consolidated into one row.\n",
    "* If a cell has an assigned borough but not an assigned neighbourhood, then the neighbourhood will be the same as the borough.\n",
    "\n",
    "The end result is a dataframe with 103 rows and 3 columns."
   ],
   "cell_type": "markdown",
   "metadata": {}
  },
  {
   "source": [
    "l = []\n",
    "for tr in table_rows:\n",
    "    td = tr.find_all('td')\n",
    "    row = [tr.text.strip('\\n') for tr in td]\n",
    "    if len(row) and row[1] != \"Not assigned\":\n",
    "        if row[2] == \"Not assigned\":\n",
    "            row[2] = row[1]\n",
    "        l.append(row)\n",
    "        print(row)\n",
    "df = pd.DataFrame(l, columns=column_names)"
   ],
   "cell_type": "code",
   "metadata": {},
   "execution_count": 30,
   "outputs": [
    {
     "output_type": "stream",
     "name": "stdout",
     "text": [
      "['M3A', 'North York', 'Parkwoods']\n['M4A', 'North York', 'Victoria Village']\n['M5A', 'Downtown Toronto', 'Regent Park, Harbourfront']\n['M6A', 'North York', 'Lawrence Manor, Lawrence Heights']\n['M7A', 'Downtown Toronto', \"Queen's Park, Ontario Provincial Government\"]\n['M9A', 'Etobicoke', 'Islington Avenue, Humber Valley Village']\n['M1B', 'Scarborough', 'Malvern, Rouge']\n['M3B', 'North York', 'Don Mills']\n['M4B', 'East York', 'Parkview Hill, Woodbine Gardens']\n['M5B', 'Downtown Toronto', 'Garden District, Ryerson']\n['M6B', 'North York', 'Glencairn']\n['M9B', 'Etobicoke', 'West Deane Park, Princess Gardens, Martin Grove, Islington, Cloverdale']\n['M1C', 'Scarborough', 'Rouge Hill, Port Union, Highland Creek']\n['M3C', 'North York', 'Don Mills']\n['M4C', 'East York', 'Woodbine Heights']\n['M5C', 'Downtown Toronto', 'St. James Town']\n['M6C', 'York', 'Humewood-Cedarvale']\n['M9C', 'Etobicoke', 'Eringate, Bloordale Gardens, Old Burnhamthorpe, Markland Wood']\n['M1E', 'Scarborough', 'Guildwood, Morningside, West Hill']\n['M4E', 'East Toronto', 'The Beaches']\n['M5E', 'Downtown Toronto', 'Berczy Park']\n['M6E', 'York', 'Caledonia-Fairbanks']\n['M1G', 'Scarborough', 'Woburn']\n['M4G', 'East York', 'Leaside']\n['M5G', 'Downtown Toronto', 'Central Bay Street']\n['M6G', 'Downtown Toronto', 'Christie']\n['M1H', 'Scarborough', 'Cedarbrae']\n['M2H', 'North York', 'Hillcrest Village']\n['M3H', 'North York', 'Bathurst Manor, Wilson Heights, Downsview North']\n['M4H', 'East York', 'Thorncliffe Park']\n['M5H', 'Downtown Toronto', 'Richmond, Adelaide, King']\n['M6H', 'West Toronto', 'Dufferin, Dovercourt Village']\n['M1J', 'Scarborough', 'Scarborough Village']\n['M2J', 'North York', 'Fairview, Henry Farm, Oriole']\n['M3J', 'North York', 'Northwood Park, York University']\n['M4J', 'East York', 'East Toronto, Broadview North (Old East York)']\n['M5J', 'Downtown Toronto', 'Harbourfront East, Union Station, Toronto Islands']\n['M6J', 'West Toronto', 'Little Portugal, Trinity']\n['M1K', 'Scarborough', 'Kennedy Park, Ionview, East Birchmount Park']\n['M2K', 'North York', 'Bayview Village']\n['M3K', 'North York', 'Downsview']\n['M4K', 'East Toronto', 'The Danforth West, Riverdale']\n['M5K', 'Downtown Toronto', 'Toronto Dominion Centre, Design Exchange']\n['M6K', 'West Toronto', 'Brockton, Parkdale Village, Exhibition Place']\n['M1L', 'Scarborough', 'Golden Mile, Clairlea, Oakridge']\n['M2L', 'North York', 'York Mills, Silver Hills']\n['M3L', 'North York', 'Downsview']\n['M4L', 'East Toronto', 'India Bazaar, The Beaches West']\n['M5L', 'Downtown Toronto', 'Commerce Court, Victoria Hotel']\n['M6L', 'North York', 'North Park, Maple Leaf Park, Upwood Park']\n['M9L', 'North York', 'Humber Summit']\n['M1M', 'Scarborough', 'Cliffside, Cliffcrest, Scarborough Village West']\n['M2M', 'North York', 'Willowdale, Newtonbrook']\n['M3M', 'North York', 'Downsview']\n['M4M', 'East Toronto', 'Studio District']\n['M5M', 'North York', 'Bedford Park, Lawrence Manor East']\n['M6M', 'York', 'Del Ray, Mount Dennis, Keelsdale and Silverthorn']\n['M9M', 'North York', 'Humberlea, Emery']\n['M1N', 'Scarborough', 'Birch Cliff, Cliffside West']\n['M2N', 'North York', 'Willowdale, Willowdale East']\n['M3N', 'North York', 'Downsview']\n['M4N', 'Central Toronto', 'Lawrence Park']\n['M5N', 'Central Toronto', 'Roselawn']\n['M6N', 'York', 'Runnymede, The Junction North']\n['M9N', 'York', 'Weston']\n['M1P', 'Scarborough', 'Dorset Park, Wexford Heights, Scarborough Town Centre']\n['M2P', 'North York', 'York Mills West']\n['M4P', 'Central Toronto', 'Davisville North']\n['M5P', 'Central Toronto', 'Forest Hill North & West, Forest Hill Road Park']\n['M6P', 'West Toronto', 'High Park, The Junction South']\n['M9P', 'Etobicoke', 'Westmount']\n['M1R', 'Scarborough', 'Wexford, Maryvale']\n['M2R', 'North York', 'Willowdale, Willowdale West']\n['M4R', 'Central Toronto', 'North Toronto West,  Lawrence Park']\n['M5R', 'Central Toronto', 'The Annex, North Midtown, Yorkville']\n['M6R', 'West Toronto', 'Parkdale, Roncesvalles']\n['M7R', 'Mississauga', 'Canada Post Gateway Processing Centre']\n['M9R', 'Etobicoke', 'Kingsview Village, St. Phillips, Martin Grove Gardens, Richview Gardens']\n['M1S', 'Scarborough', 'Agincourt']\n['M4S', 'Central Toronto', 'Davisville']\n['M5S', 'Downtown Toronto', 'University of Toronto, Harbord']\n['M6S', 'West Toronto', 'Runnymede, Swansea']\n['M1T', 'Scarborough', \"Clarks Corners, Tam O'Shanter, Sullivan\"]\n['M4T', 'Central Toronto', 'Moore Park, Summerhill East']\n['M5T', 'Downtown Toronto', 'Kensington Market, Chinatown, Grange Park']\n['M1V', 'Scarborough', \"Milliken, Agincourt North, Steeles East, L'Amoreaux East\"]\n['M4V', 'Central Toronto', 'Summerhill West, Rathnelly, South Hill, Forest Hill SE, Deer Park']\n['M5V', 'Downtown Toronto', 'CN Tower, King and Spadina, Railway Lands, Harbourfront West, Bathurst Quay, South Niagara, Island airport']\n['M8V', 'Etobicoke', 'New Toronto, Mimico South, Humber Bay Shores']\n['M9V', 'Etobicoke', 'South Steeles, Silverstone, Humbergate, Jamestown, Mount Olive, Beaumond Heights, Thistletown, Albion Gardens']\n['M1W', 'Scarborough', \"Steeles West, L'Amoreaux West\"]\n['M4W', 'Downtown Toronto', 'Rosedale']\n['M5W', 'Downtown Toronto', 'Stn A PO Boxes']\n['M8W', 'Etobicoke', 'Alderwood, Long Branch']\n['M9W', 'Etobicoke', 'Northwest, West Humber - Clairville']\n['M1X', 'Scarborough', 'Upper Rouge']\n['M4X', 'Downtown Toronto', 'St. James Town, Cabbagetown']\n['M5X', 'Downtown Toronto', 'First Canadian Place, Underground city']\n['M8X', 'Etobicoke', 'The Kingsway, Montgomery Road, Old Mill North']\n['M4Y', 'Downtown Toronto', 'Church and Wellesley']\n['M7Y', 'East Toronto', 'Business reply mail Processing Centre, South Central Letter Processing Plant Toronto']\n['M8Y', 'Etobicoke', \"Old Mill South, King's Mill Park, Sunnylea, Humber Bay, Mimico NE, The Queensway East, Royal York South East, Kingsway Park South East\"]\n['M8Z', 'Etobicoke', 'Mimico NW, The Queensway West, South of Bloor, Kingsway Park South West, Royal York South West']\n"
     ]
    }
   ]
  },
  {
   "cell_type": "code",
   "execution_count": 31,
   "metadata": {},
   "outputs": [
    {
     "output_type": "execute_result",
     "data": {
      "text/plain": [
       "    Postal Code           Borough  \\\n",
       "0           M3A        North York   \n",
       "1           M4A        North York   \n",
       "2           M5A  Downtown Toronto   \n",
       "3           M6A        North York   \n",
       "4           M7A  Downtown Toronto   \n",
       "..          ...               ...   \n",
       "98          M8X         Etobicoke   \n",
       "99          M4Y  Downtown Toronto   \n",
       "100         M7Y      East Toronto   \n",
       "101         M8Y         Etobicoke   \n",
       "102         M8Z         Etobicoke   \n",
       "\n",
       "                                         Neighbourhood  \n",
       "0                                            Parkwoods  \n",
       "1                                     Victoria Village  \n",
       "2                            Regent Park, Harbourfront  \n",
       "3                     Lawrence Manor, Lawrence Heights  \n",
       "4          Queen's Park, Ontario Provincial Government  \n",
       "..                                                 ...  \n",
       "98       The Kingsway, Montgomery Road, Old Mill North  \n",
       "99                                Church and Wellesley  \n",
       "100  Business reply mail Processing Centre, South C...  \n",
       "101  Old Mill South, King's Mill Park, Sunnylea, Hu...  \n",
       "102  Mimico NW, The Queensway West, South of Bloor,...  \n",
       "\n",
       "[103 rows x 3 columns]"
      ],
      "text/html": "<div>\n<style scoped>\n    .dataframe tbody tr th:only-of-type {\n        vertical-align: middle;\n    }\n\n    .dataframe tbody tr th {\n        vertical-align: top;\n    }\n\n    .dataframe thead th {\n        text-align: right;\n    }\n</style>\n<table border=\"1\" class=\"dataframe\">\n  <thead>\n    <tr style=\"text-align: right;\">\n      <th></th>\n      <th>Postal Code</th>\n      <th>Borough</th>\n      <th>Neighbourhood</th>\n    </tr>\n  </thead>\n  <tbody>\n    <tr>\n      <th>0</th>\n      <td>M3A</td>\n      <td>North York</td>\n      <td>Parkwoods</td>\n    </tr>\n    <tr>\n      <th>1</th>\n      <td>M4A</td>\n      <td>North York</td>\n      <td>Victoria Village</td>\n    </tr>\n    <tr>\n      <th>2</th>\n      <td>M5A</td>\n      <td>Downtown Toronto</td>\n      <td>Regent Park, Harbourfront</td>\n    </tr>\n    <tr>\n      <th>3</th>\n      <td>M6A</td>\n      <td>North York</td>\n      <td>Lawrence Manor, Lawrence Heights</td>\n    </tr>\n    <tr>\n      <th>4</th>\n      <td>M7A</td>\n      <td>Downtown Toronto</td>\n      <td>Queen's Park, Ontario Provincial Government</td>\n    </tr>\n    <tr>\n      <th>...</th>\n      <td>...</td>\n      <td>...</td>\n      <td>...</td>\n    </tr>\n    <tr>\n      <th>98</th>\n      <td>M8X</td>\n      <td>Etobicoke</td>\n      <td>The Kingsway, Montgomery Road, Old Mill North</td>\n    </tr>\n    <tr>\n      <th>99</th>\n      <td>M4Y</td>\n      <td>Downtown Toronto</td>\n      <td>Church and Wellesley</td>\n    </tr>\n    <tr>\n      <th>100</th>\n      <td>M7Y</td>\n      <td>East Toronto</td>\n      <td>Business reply mail Processing Centre, South C...</td>\n    </tr>\n    <tr>\n      <th>101</th>\n      <td>M8Y</td>\n      <td>Etobicoke</td>\n      <td>Old Mill South, King's Mill Park, Sunnylea, Hu...</td>\n    </tr>\n    <tr>\n      <th>102</th>\n      <td>M8Z</td>\n      <td>Etobicoke</td>\n      <td>Mimico NW, The Queensway West, South of Bloor,...</td>\n    </tr>\n  </tbody>\n</table>\n<p>103 rows × 3 columns</p>\n</div>"
     },
     "metadata": {},
     "execution_count": 31
    }
   ],
   "source": [
    "df"
   ]
  },
  {
   "cell_type": "code",
   "execution_count": 32,
   "metadata": {},
   "outputs": [
    {
     "output_type": "execute_result",
     "data": {
      "text/plain": [
       "(103, 3)"
      ]
     },
     "metadata": {},
     "execution_count": 32
    }
   ],
   "source": [
    "df.shape"
   ]
  },
  {
   "source": [
    "### Getting coordinates of each neighbourhood\n",
    "\n",
    "The assignment describes a procedure to use the geocoder library to acquire the coordinates of each neighbourhood. However, the library is very unreliable and I was unable to use it to properly request the coordinates. I used a backup .csv file that contained the coordinates instead and merged them into the existing dataframe."
   ],
   "cell_type": "markdown",
   "metadata": {}
  },
  {
   "cell_type": "code",
   "execution_count": 33,
   "metadata": {},
   "outputs": [
    {
     "output_type": "execute_result",
     "data": {
      "text/plain": [
       "    Postal Code   Latitude  Longitude\n",
       "0           M1B  43.806686 -79.194353\n",
       "1           M1C  43.784535 -79.160497\n",
       "2           M1E  43.763573 -79.188711\n",
       "3           M1G  43.770992 -79.216917\n",
       "4           M1H  43.773136 -79.239476\n",
       "..          ...        ...        ...\n",
       "98          M9N  43.706876 -79.518188\n",
       "99          M9P  43.696319 -79.532242\n",
       "100         M9R  43.688905 -79.554724\n",
       "101         M9V  43.739416 -79.588437\n",
       "102         M9W  43.706748 -79.594054\n",
       "\n",
       "[103 rows x 3 columns]"
      ],
      "text/html": "<div>\n<style scoped>\n    .dataframe tbody tr th:only-of-type {\n        vertical-align: middle;\n    }\n\n    .dataframe tbody tr th {\n        vertical-align: top;\n    }\n\n    .dataframe thead th {\n        text-align: right;\n    }\n</style>\n<table border=\"1\" class=\"dataframe\">\n  <thead>\n    <tr style=\"text-align: right;\">\n      <th></th>\n      <th>Postal Code</th>\n      <th>Latitude</th>\n      <th>Longitude</th>\n    </tr>\n  </thead>\n  <tbody>\n    <tr>\n      <th>0</th>\n      <td>M1B</td>\n      <td>43.806686</td>\n      <td>-79.194353</td>\n    </tr>\n    <tr>\n      <th>1</th>\n      <td>M1C</td>\n      <td>43.784535</td>\n      <td>-79.160497</td>\n    </tr>\n    <tr>\n      <th>2</th>\n      <td>M1E</td>\n      <td>43.763573</td>\n      <td>-79.188711</td>\n    </tr>\n    <tr>\n      <th>3</th>\n      <td>M1G</td>\n      <td>43.770992</td>\n      <td>-79.216917</td>\n    </tr>\n    <tr>\n      <th>4</th>\n      <td>M1H</td>\n      <td>43.773136</td>\n      <td>-79.239476</td>\n    </tr>\n    <tr>\n      <th>...</th>\n      <td>...</td>\n      <td>...</td>\n      <td>...</td>\n    </tr>\n    <tr>\n      <th>98</th>\n      <td>M9N</td>\n      <td>43.706876</td>\n      <td>-79.518188</td>\n    </tr>\n    <tr>\n      <th>99</th>\n      <td>M9P</td>\n      <td>43.696319</td>\n      <td>-79.532242</td>\n    </tr>\n    <tr>\n      <th>100</th>\n      <td>M9R</td>\n      <td>43.688905</td>\n      <td>-79.554724</td>\n    </tr>\n    <tr>\n      <th>101</th>\n      <td>M9V</td>\n      <td>43.739416</td>\n      <td>-79.588437</td>\n    </tr>\n    <tr>\n      <th>102</th>\n      <td>M9W</td>\n      <td>43.706748</td>\n      <td>-79.594054</td>\n    </tr>\n  </tbody>\n</table>\n<p>103 rows × 3 columns</p>\n</div>"
     },
     "metadata": {},
     "execution_count": 33
    }
   ],
   "source": [
    "coords = pd.read_csv(\"C:\\\\Users\\\\Patrick\\\\Documents\\\\Programming Projects\\\\Coursera_Capstone\\\\Coursera_Capstone\\\\Geospatial_Coordinates.csv\") #local filepath used for the sake of backup method, not intended for general use\n",
    "coords"
   ]
  },
  {
   "cell_type": "code",
   "execution_count": 34,
   "metadata": {},
   "outputs": [
    {
     "output_type": "execute_result",
     "data": {
      "text/plain": [
       "    Postal Code           Borough  \\\n",
       "0           M3A        North York   \n",
       "1           M4A        North York   \n",
       "2           M5A  Downtown Toronto   \n",
       "3           M6A        North York   \n",
       "4           M7A  Downtown Toronto   \n",
       "..          ...               ...   \n",
       "98          M8X         Etobicoke   \n",
       "99          M4Y  Downtown Toronto   \n",
       "100         M7Y      East Toronto   \n",
       "101         M8Y         Etobicoke   \n",
       "102         M8Z         Etobicoke   \n",
       "\n",
       "                                         Neighbourhood   Latitude  Longitude  \n",
       "0                                            Parkwoods  43.753259 -79.329656  \n",
       "1                                     Victoria Village  43.725882 -79.315572  \n",
       "2                            Regent Park, Harbourfront  43.654260 -79.360636  \n",
       "3                     Lawrence Manor, Lawrence Heights  43.718518 -79.464763  \n",
       "4          Queen's Park, Ontario Provincial Government  43.662301 -79.389494  \n",
       "..                                                 ...        ...        ...  \n",
       "98       The Kingsway, Montgomery Road, Old Mill North  43.653654 -79.506944  \n",
       "99                                Church and Wellesley  43.665860 -79.383160  \n",
       "100  Business reply mail Processing Centre, South C...  43.662744 -79.321558  \n",
       "101  Old Mill South, King's Mill Park, Sunnylea, Hu...  43.636258 -79.498509  \n",
       "102  Mimico NW, The Queensway West, South of Bloor,...  43.628841 -79.520999  \n",
       "\n",
       "[103 rows x 5 columns]"
      ],
      "text/html": "<div>\n<style scoped>\n    .dataframe tbody tr th:only-of-type {\n        vertical-align: middle;\n    }\n\n    .dataframe tbody tr th {\n        vertical-align: top;\n    }\n\n    .dataframe thead th {\n        text-align: right;\n    }\n</style>\n<table border=\"1\" class=\"dataframe\">\n  <thead>\n    <tr style=\"text-align: right;\">\n      <th></th>\n      <th>Postal Code</th>\n      <th>Borough</th>\n      <th>Neighbourhood</th>\n      <th>Latitude</th>\n      <th>Longitude</th>\n    </tr>\n  </thead>\n  <tbody>\n    <tr>\n      <th>0</th>\n      <td>M3A</td>\n      <td>North York</td>\n      <td>Parkwoods</td>\n      <td>43.753259</td>\n      <td>-79.329656</td>\n    </tr>\n    <tr>\n      <th>1</th>\n      <td>M4A</td>\n      <td>North York</td>\n      <td>Victoria Village</td>\n      <td>43.725882</td>\n      <td>-79.315572</td>\n    </tr>\n    <tr>\n      <th>2</th>\n      <td>M5A</td>\n      <td>Downtown Toronto</td>\n      <td>Regent Park, Harbourfront</td>\n      <td>43.654260</td>\n      <td>-79.360636</td>\n    </tr>\n    <tr>\n      <th>3</th>\n      <td>M6A</td>\n      <td>North York</td>\n      <td>Lawrence Manor, Lawrence Heights</td>\n      <td>43.718518</td>\n      <td>-79.464763</td>\n    </tr>\n    <tr>\n      <th>4</th>\n      <td>M7A</td>\n      <td>Downtown Toronto</td>\n      <td>Queen's Park, Ontario Provincial Government</td>\n      <td>43.662301</td>\n      <td>-79.389494</td>\n    </tr>\n    <tr>\n      <th>...</th>\n      <td>...</td>\n      <td>...</td>\n      <td>...</td>\n      <td>...</td>\n      <td>...</td>\n    </tr>\n    <tr>\n      <th>98</th>\n      <td>M8X</td>\n      <td>Etobicoke</td>\n      <td>The Kingsway, Montgomery Road, Old Mill North</td>\n      <td>43.653654</td>\n      <td>-79.506944</td>\n    </tr>\n    <tr>\n      <th>99</th>\n      <td>M4Y</td>\n      <td>Downtown Toronto</td>\n      <td>Church and Wellesley</td>\n      <td>43.665860</td>\n      <td>-79.383160</td>\n    </tr>\n    <tr>\n      <th>100</th>\n      <td>M7Y</td>\n      <td>East Toronto</td>\n      <td>Business reply mail Processing Centre, South C...</td>\n      <td>43.662744</td>\n      <td>-79.321558</td>\n    </tr>\n    <tr>\n      <th>101</th>\n      <td>M8Y</td>\n      <td>Etobicoke</td>\n      <td>Old Mill South, King's Mill Park, Sunnylea, Hu...</td>\n      <td>43.636258</td>\n      <td>-79.498509</td>\n    </tr>\n    <tr>\n      <th>102</th>\n      <td>M8Z</td>\n      <td>Etobicoke</td>\n      <td>Mimico NW, The Queensway West, South of Bloor,...</td>\n      <td>43.628841</td>\n      <td>-79.520999</td>\n    </tr>\n  </tbody>\n</table>\n<p>103 rows × 5 columns</p>\n</div>"
     },
     "metadata": {},
     "execution_count": 34
    }
   ],
   "source": [
    "df = pd.merge(df, coords)\n",
    "df"
   ]
  },
  {
   "cell_type": "code",
   "execution_count": 35,
   "metadata": {},
   "outputs": [],
   "source": [
    "neighborhoods = df"
   ]
  },
  {
   "source": [
    "### Graphing Toronto neighbourhoods\n",
    "\n",
    "For the sake of consistency, I processed only the postal codes of boroughs that contained the name \"Toronto,\" which left 39 rows in the dataframe. The neighbourhoods are graphed using the folium python library."
   ],
   "cell_type": "markdown",
   "metadata": {}
  },
  {
   "cell_type": "code",
   "execution_count": 36,
   "metadata": {},
   "outputs": [],
   "source": [
    "toronto_boroughs = neighborhoods[neighborhoods[\"Borough\"].str.contains(\"Toronto\")]"
   ]
  },
  {
   "cell_type": "code",
   "execution_count": 37,
   "metadata": {},
   "outputs": [
    {
     "output_type": "execute_result",
     "data": {
      "text/plain": [
       "(39, 5)"
      ]
     },
     "metadata": {},
     "execution_count": 37
    }
   ],
   "source": [
    "toronto_boroughs.shape"
   ]
  },
  {
   "cell_type": "code",
   "execution_count": 38,
   "metadata": {},
   "outputs": [
    {
     "output_type": "stream",
     "name": "stdout",
     "text": [
      "The geograpical coordinate of Toronto are 43.6534817, -79.3839347.\n"
     ]
    }
   ],
   "source": [
    "address = 'Toronto, Ontario'\n",
    "\n",
    "geolocator = Nominatim(user_agent=\"ny_explorer\")\n",
    "location = geolocator.geocode(address)\n",
    "latitude = location.latitude\n",
    "longitude = location.longitude\n",
    "print('The geograpical coordinate of Toronto are {}, {}.'.format(latitude, longitude))"
   ]
  },
  {
   "cell_type": "code",
   "execution_count": 39,
   "metadata": {},
   "outputs": [
    {
     "output_type": "execute_result",
     "data": {
      "text/plain": [
       "<folium.folium.Map at 0x1cea4554700>"
      ],
      "text/html": "<div style=\"width:100%;\"><div style=\"position:relative;width:100%;height:0;padding-bottom:60%;\"><span style=\"color:#565656\">Make this Notebook Trusted to load map: File -> Trust Notebook</span><iframe src=\"about:blank\" style=\"position:absolute;width:100%;height:100%;left:0;top:0;border:none !important;\" data-html=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 onload=\"this.contentDocument.open();this.contentDocument.write(atob(this.getAttribute('data-html')));this.contentDocument.close();\" allowfullscreen webkitallowfullscreen mozallowfullscreen></iframe></div></div>"
     },
     "metadata": {},
     "execution_count": 39
    }
   ],
   "source": [
    "# create map of New York using latitude and longitude values\n",
    "map_Toronto = folium.Map(location=[latitude, longitude], zoom_start=13)\n",
    "\n",
    "# add markers to map\n",
    "for lat, lng, borough, neighborhood in zip(toronto_boroughs['Latitude'], toronto_boroughs['Longitude'], toronto_boroughs['Borough'], toronto_boroughs['Neighbourhood']):\n",
    "    label = '{}, {}'.format(neighborhood, borough)\n",
    "    label = folium.Popup(label, parse_html=True)\n",
    "    folium.CircleMarker(\n",
    "        [lat, lng],\n",
    "        radius=5,\n",
    "        popup=label,\n",
    "        color='blue',\n",
    "        fill=True,\n",
    "        fill_color='#3186cc',\n",
    "        fill_opacity=0.7,\n",
    "        parse_html=False).add_to(map_Toronto)  \n",
    "    \n",
    "map_Toronto"
   ]
  },
  {
   "source": [
    "### Use Foursquare API to gather information about nearby venues\n",
    "\n",
    "The goal of the next few cells is to use the Foursquare API to request information about venues of different kinds (e.g. bars, cafes, stores, etc...) to use as a means of clustering neighbourhoods.\n",
    "\n",
    "The venues are loaded into a dataframe as well along with their latitude and longitude."
   ],
   "cell_type": "markdown",
   "metadata": {}
  },
  {
   "cell_type": "code",
   "execution_count": 40,
   "metadata": {},
   "outputs": [],
   "source": [
    "CLIENT_ID = 'IQOHIX5GIH4TJVTPELPKXYUXILVRPHH3VBL3ONNPOFDBJBME' # your Foursquare ID\n",
    "CLIENT_SECRET = 'IWK3HJPQS34VKD4ZOGSUPBMVEZCAU05YBG1QVSHUTSXLQERH' # your Foursquare Secret\n",
    "VERSION = '20180605' # Foursquare API version\n",
    "LIMIT = 100 # A default Foursquare API limit value"
   ]
  },
  {
   "cell_type": "code",
   "execution_count": 41,
   "metadata": {},
   "outputs": [
    {
     "output_type": "stream",
     "name": "stdout",
     "text": [
      "Your credentails:\nCLIENT_ID: IQOHIX5GIH4TJVTPELPKXYUXILVRPHH3VBL3ONNPOFDBJBME\nCLIENT_SECRET:IWK3HJPQS34VKD4ZOGSUPBMVEZCAU05YBG1QVSHUTSXLQERH\n"
     ]
    }
   ],
   "source": [
    "print('Your credentails:')\n",
    "print('CLIENT_ID: ' + CLIENT_ID)\n",
    "print('CLIENT_SECRET:' + CLIENT_SECRET)"
   ]
  },
  {
   "cell_type": "code",
   "execution_count": 42,
   "metadata": {},
   "outputs": [],
   "source": [
    "def getNearbyVenues(names, latitudes, longitudes, radius=500):\n",
    "    \n",
    "    venues_list=[]\n",
    "    for name, lat, lng in zip(names, latitudes, longitudes):\n",
    "        print(name)\n",
    "            \n",
    "        # create the API request URL\n",
    "        url = 'https://api.foursquare.com/v2/venues/explore?&client_id={}&client_secret={}&v={}&ll={},{}&radius={}&limit={}'.format(\n",
    "            CLIENT_ID, \n",
    "            CLIENT_SECRET, \n",
    "            VERSION, \n",
    "            lat, \n",
    "            lng, \n",
    "            radius, \n",
    "            LIMIT)\n",
    "            \n",
    "        # make the GET request\n",
    "        results = requests.get(url).json()[\"response\"]['groups'][0]['items']\n",
    "        \n",
    "        # return only relevant information for each nearby venue\n",
    "        venues_list.append([(\n",
    "            name, \n",
    "            lat, \n",
    "            lng, \n",
    "            v['venue']['name'], \n",
    "            v['venue']['location']['lat'], \n",
    "            v['venue']['location']['lng'],  \n",
    "            v['venue']['categories'][0]['name']) for v in results])\n",
    "\n",
    "    nearby_venues = pd.DataFrame([item for venue_list in venues_list for item in venue_list])\n",
    "    nearby_venues.columns = ['Neighbourhood', \n",
    "                  'Neighbourhood Latitude', \n",
    "                  'Neighbourhood Longitude', \n",
    "                  'Venue', \n",
    "                  'Venue Latitude', \n",
    "                  'Venue Longitude', \n",
    "                  'Venue Category']\n",
    "    \n",
    "    return(nearby_venues)"
   ]
  },
  {
   "cell_type": "code",
   "execution_count": 43,
   "metadata": {},
   "outputs": [
    {
     "output_type": "stream",
     "name": "stdout",
     "text": [
      "Regent Park, Harbourfront\n",
      "Queen's Park, Ontario Provincial Government\n",
      "Garden District, Ryerson\n",
      "St. James Town\n",
      "The Beaches\n",
      "Berczy Park\n",
      "Central Bay Street\n",
      "Christie\n",
      "Richmond, Adelaide, King\n",
      "Dufferin, Dovercourt Village\n",
      "Harbourfront East, Union Station, Toronto Islands\n",
      "Little Portugal, Trinity\n",
      "The Danforth West, Riverdale\n",
      "Toronto Dominion Centre, Design Exchange\n",
      "Brockton, Parkdale Village, Exhibition Place\n",
      "India Bazaar, The Beaches West\n",
      "Commerce Court, Victoria Hotel\n",
      "Studio District\n",
      "Lawrence Park\n",
      "Roselawn\n",
      "Davisville North\n",
      "Forest Hill North & West, Forest Hill Road Park\n",
      "High Park, The Junction South\n",
      "North Toronto West,  Lawrence Park\n",
      "The Annex, North Midtown, Yorkville\n",
      "Parkdale, Roncesvalles\n",
      "Davisville\n",
      "University of Toronto, Harbord\n",
      "Runnymede, Swansea\n",
      "Moore Park, Summerhill East\n",
      "Kensington Market, Chinatown, Grange Park\n",
      "Summerhill West, Rathnelly, South Hill, Forest Hill SE, Deer Park\n",
      "CN Tower, King and Spadina, Railway Lands, Harbourfront West, Bathurst Quay, South Niagara, Island airport\n",
      "Rosedale\n",
      "Stn A PO Boxes\n",
      "St. James Town, Cabbagetown\n",
      "First Canadian Place, Underground city\n",
      "Church and Wellesley\n",
      "Business reply mail Processing Centre, South Central Letter Processing Plant Toronto\n"
     ]
    }
   ],
   "source": [
    "toronto_venues = getNearbyVenues(names=toronto_boroughs['Neighbourhood'],\n",
    "                                   latitudes=toronto_boroughs['Latitude'],\n",
    "                                   longitudes=toronto_boroughs['Longitude']\n",
    "                                  )"
   ]
  },
  {
   "cell_type": "code",
   "execution_count": 44,
   "metadata": {},
   "outputs": [
    {
     "output_type": "stream",
     "name": "stdout",
     "text": [
      "(1618, 7)\n"
     ]
    },
    {
     "output_type": "execute_result",
     "data": {
      "text/plain": [
       "               Neighbourhood  Neighbourhood Latitude  Neighbourhood Longitude  \\\n",
       "0  Regent Park, Harbourfront                43.65426               -79.360636   \n",
       "1  Regent Park, Harbourfront                43.65426               -79.360636   \n",
       "2  Regent Park, Harbourfront                43.65426               -79.360636   \n",
       "3  Regent Park, Harbourfront                43.65426               -79.360636   \n",
       "4  Regent Park, Harbourfront                43.65426               -79.360636   \n",
       "\n",
       "                    Venue  Venue Latitude  Venue Longitude  \\\n",
       "0        Roselle Desserts       43.653447       -79.362017   \n",
       "1           Tandem Coffee       43.653559       -79.361809   \n",
       "2  Cooper Koo Family YMCA       43.653249       -79.358008   \n",
       "3      Morning Glory Cafe       43.653947       -79.361149   \n",
       "4     Body Blitz Spa East       43.654735       -79.359874   \n",
       "\n",
       "        Venue Category  \n",
       "0               Bakery  \n",
       "1          Coffee Shop  \n",
       "2  Distribution Center  \n",
       "3       Breakfast Spot  \n",
       "4                  Spa  "
      ],
      "text/html": "<div>\n<style scoped>\n    .dataframe tbody tr th:only-of-type {\n        vertical-align: middle;\n    }\n\n    .dataframe tbody tr th {\n        vertical-align: top;\n    }\n\n    .dataframe thead th {\n        text-align: right;\n    }\n</style>\n<table border=\"1\" class=\"dataframe\">\n  <thead>\n    <tr style=\"text-align: right;\">\n      <th></th>\n      <th>Neighbourhood</th>\n      <th>Neighbourhood Latitude</th>\n      <th>Neighbourhood Longitude</th>\n      <th>Venue</th>\n      <th>Venue Latitude</th>\n      <th>Venue Longitude</th>\n      <th>Venue Category</th>\n    </tr>\n  </thead>\n  <tbody>\n    <tr>\n      <th>0</th>\n      <td>Regent Park, Harbourfront</td>\n      <td>43.65426</td>\n      <td>-79.360636</td>\n      <td>Roselle Desserts</td>\n      <td>43.653447</td>\n      <td>-79.362017</td>\n      <td>Bakery</td>\n    </tr>\n    <tr>\n      <th>1</th>\n      <td>Regent Park, Harbourfront</td>\n      <td>43.65426</td>\n      <td>-79.360636</td>\n      <td>Tandem Coffee</td>\n      <td>43.653559</td>\n      <td>-79.361809</td>\n      <td>Coffee Shop</td>\n    </tr>\n    <tr>\n      <th>2</th>\n      <td>Regent Park, Harbourfront</td>\n      <td>43.65426</td>\n      <td>-79.360636</td>\n      <td>Cooper Koo Family YMCA</td>\n      <td>43.653249</td>\n      <td>-79.358008</td>\n      <td>Distribution Center</td>\n    </tr>\n    <tr>\n      <th>3</th>\n      <td>Regent Park, Harbourfront</td>\n      <td>43.65426</td>\n      <td>-79.360636</td>\n      <td>Morning Glory Cafe</td>\n      <td>43.653947</td>\n      <td>-79.361149</td>\n      <td>Breakfast Spot</td>\n    </tr>\n    <tr>\n      <th>4</th>\n      <td>Regent Park, Harbourfront</td>\n      <td>43.65426</td>\n      <td>-79.360636</td>\n      <td>Body Blitz Spa East</td>\n      <td>43.654735</td>\n      <td>-79.359874</td>\n      <td>Spa</td>\n    </tr>\n  </tbody>\n</table>\n</div>"
     },
     "metadata": {},
     "execution_count": 44
    }
   ],
   "source": [
    "print(toronto_venues.shape)\n",
    "toronto_venues.head()"
   ]
  },
  {
   "cell_type": "code",
   "execution_count": 45,
   "metadata": {},
   "outputs": [
    {
     "output_type": "execute_result",
     "data": {
      "text/plain": [
       "                                                    Neighbourhood Latitude  \\\n",
       "Neighbourhood                                                                \n",
       "Berczy Park                                                             58   \n",
       "Brockton, Parkdale Village, Exhibition Place                            23   \n",
       "Business reply mail Processing Centre, South Ce...                      16   \n",
       "CN Tower, King and Spadina, Railway Lands, Harb...                      16   \n",
       "Central Bay Street                                                      64   \n",
       "Christie                                                                16   \n",
       "Church and Wellesley                                                    80   \n",
       "Commerce Court, Victoria Hotel                                         100   \n",
       "Davisville                                                              33   \n",
       "Davisville North                                                         9   \n",
       "Dufferin, Dovercourt Village                                            17   \n",
       "First Canadian Place, Underground city                                 100   \n",
       "Forest Hill North & West, Forest Hill Road Park                          4   \n",
       "Garden District, Ryerson                                               100   \n",
       "Harbourfront East, Union Station, Toronto Islands                      100   \n",
       "High Park, The Junction South                                           24   \n",
       "India Bazaar, The Beaches West                                          20   \n",
       "Kensington Market, Chinatown, Grange Park                               64   \n",
       "Lawrence Park                                                            4   \n",
       "Little Portugal, Trinity                                                43   \n",
       "Moore Park, Summerhill East                                              2   \n",
       "North Toronto West,  Lawrence Park                                      19   \n",
       "Parkdale, Roncesvalles                                                  14   \n",
       "Queen's Park, Ontario Provincial Government                             32   \n",
       "Regent Park, Harbourfront                                               48   \n",
       "Richmond, Adelaide, King                                                96   \n",
       "Rosedale                                                                 4   \n",
       "Roselawn                                                                 4   \n",
       "Runnymede, Swansea                                                      35   \n",
       "St. James Town                                                          79   \n",
       "St. James Town, Cabbagetown                                             43   \n",
       "Stn A PO Boxes                                                          98   \n",
       "Studio District                                                         36   \n",
       "Summerhill West, Rathnelly, South Hill, Forest ...                      15   \n",
       "The Annex, North Midtown, Yorkville                                     21   \n",
       "The Beaches                                                              5   \n",
       "The Danforth West, Riverdale                                            43   \n",
       "Toronto Dominion Centre, Design Exchange                               100   \n",
       "University of Toronto, Harbord                                          33   \n",
       "\n",
       "                                                    Neighbourhood Longitude  \\\n",
       "Neighbourhood                                                                 \n",
       "Berczy Park                                                              58   \n",
       "Brockton, Parkdale Village, Exhibition Place                             23   \n",
       "Business reply mail Processing Centre, South Ce...                       16   \n",
       "CN Tower, King and Spadina, Railway Lands, Harb...                       16   \n",
       "Central Bay Street                                                       64   \n",
       "Christie                                                                 16   \n",
       "Church and Wellesley                                                     80   \n",
       "Commerce Court, Victoria Hotel                                          100   \n",
       "Davisville                                                               33   \n",
       "Davisville North                                                          9   \n",
       "Dufferin, Dovercourt Village                                             17   \n",
       "First Canadian Place, Underground city                                  100   \n",
       "Forest Hill North & West, Forest Hill Road Park                           4   \n",
       "Garden District, Ryerson                                                100   \n",
       "Harbourfront East, Union Station, Toronto Islands                       100   \n",
       "High Park, The Junction South                                            24   \n",
       "India Bazaar, The Beaches West                                           20   \n",
       "Kensington Market, Chinatown, Grange Park                                64   \n",
       "Lawrence Park                                                             4   \n",
       "Little Portugal, Trinity                                                 43   \n",
       "Moore Park, Summerhill East                                               2   \n",
       "North Toronto West,  Lawrence Park                                       19   \n",
       "Parkdale, Roncesvalles                                                   14   \n",
       "Queen's Park, Ontario Provincial Government                              32   \n",
       "Regent Park, Harbourfront                                                48   \n",
       "Richmond, Adelaide, King                                                 96   \n",
       "Rosedale                                                                  4   \n",
       "Roselawn                                                                  4   \n",
       "Runnymede, Swansea                                                       35   \n",
       "St. James Town                                                           79   \n",
       "St. James Town, Cabbagetown                                              43   \n",
       "Stn A PO Boxes                                                           98   \n",
       "Studio District                                                          36   \n",
       "Summerhill West, Rathnelly, South Hill, Forest ...                       15   \n",
       "The Annex, North Midtown, Yorkville                                      21   \n",
       "The Beaches                                                               5   \n",
       "The Danforth West, Riverdale                                             43   \n",
       "Toronto Dominion Centre, Design Exchange                                100   \n",
       "University of Toronto, Harbord                                           33   \n",
       "\n",
       "                                                    Venue  Venue Latitude  \\\n",
       "Neighbourhood                                                               \n",
       "Berczy Park                                            58              58   \n",
       "Brockton, Parkdale Village, Exhibition Place           23              23   \n",
       "Business reply mail Processing Centre, South Ce...     16              16   \n",
       "CN Tower, King and Spadina, Railway Lands, Harb...     16              16   \n",
       "Central Bay Street                                     64              64   \n",
       "Christie                                               16              16   \n",
       "Church and Wellesley                                   80              80   \n",
       "Commerce Court, Victoria Hotel                        100             100   \n",
       "Davisville                                             33              33   \n",
       "Davisville North                                        9               9   \n",
       "Dufferin, Dovercourt Village                           17              17   \n",
       "First Canadian Place, Underground city                100             100   \n",
       "Forest Hill North & West, Forest Hill Road Park         4               4   \n",
       "Garden District, Ryerson                              100             100   \n",
       "Harbourfront East, Union Station, Toronto Islands     100             100   \n",
       "High Park, The Junction South                          24              24   \n",
       "India Bazaar, The Beaches West                         20              20   \n",
       "Kensington Market, Chinatown, Grange Park              64              64   \n",
       "Lawrence Park                                           4               4   \n",
       "Little Portugal, Trinity                               43              43   \n",
       "Moore Park, Summerhill East                             2               2   \n",
       "North Toronto West,  Lawrence Park                     19              19   \n",
       "Parkdale, Roncesvalles                                 14              14   \n",
       "Queen's Park, Ontario Provincial Government            32              32   \n",
       "Regent Park, Harbourfront                              48              48   \n",
       "Richmond, Adelaide, King                               96              96   \n",
       "Rosedale                                                4               4   \n",
       "Roselawn                                                4               4   \n",
       "Runnymede, Swansea                                     35              35   \n",
       "St. James Town                                         79              79   \n",
       "St. James Town, Cabbagetown                            43              43   \n",
       "Stn A PO Boxes                                         98              98   \n",
       "Studio District                                        36              36   \n",
       "Summerhill West, Rathnelly, South Hill, Forest ...     15              15   \n",
       "The Annex, North Midtown, Yorkville                    21              21   \n",
       "The Beaches                                             5               5   \n",
       "The Danforth West, Riverdale                           43              43   \n",
       "Toronto Dominion Centre, Design Exchange              100             100   \n",
       "University of Toronto, Harbord                         33              33   \n",
       "\n",
       "                                                    Venue Longitude  \\\n",
       "Neighbourhood                                                         \n",
       "Berczy Park                                                      58   \n",
       "Brockton, Parkdale Village, Exhibition Place                     23   \n",
       "Business reply mail Processing Centre, South Ce...               16   \n",
       "CN Tower, King and Spadina, Railway Lands, Harb...               16   \n",
       "Central Bay Street                                               64   \n",
       "Christie                                                         16   \n",
       "Church and Wellesley                                             80   \n",
       "Commerce Court, Victoria Hotel                                  100   \n",
       "Davisville                                                       33   \n",
       "Davisville North                                                  9   \n",
       "Dufferin, Dovercourt Village                                     17   \n",
       "First Canadian Place, Underground city                          100   \n",
       "Forest Hill North & West, Forest Hill Road Park                   4   \n",
       "Garden District, Ryerson                                        100   \n",
       "Harbourfront East, Union Station, Toronto Islands               100   \n",
       "High Park, The Junction South                                    24   \n",
       "India Bazaar, The Beaches West                                   20   \n",
       "Kensington Market, Chinatown, Grange Park                        64   \n",
       "Lawrence Park                                                     4   \n",
       "Little Portugal, Trinity                                         43   \n",
       "Moore Park, Summerhill East                                       2   \n",
       "North Toronto West,  Lawrence Park                               19   \n",
       "Parkdale, Roncesvalles                                           14   \n",
       "Queen's Park, Ontario Provincial Government                      32   \n",
       "Regent Park, Harbourfront                                        48   \n",
       "Richmond, Adelaide, King                                         96   \n",
       "Rosedale                                                          4   \n",
       "Roselawn                                                          4   \n",
       "Runnymede, Swansea                                               35   \n",
       "St. James Town                                                   79   \n",
       "St. James Town, Cabbagetown                                      43   \n",
       "Stn A PO Boxes                                                   98   \n",
       "Studio District                                                  36   \n",
       "Summerhill West, Rathnelly, South Hill, Forest ...               15   \n",
       "The Annex, North Midtown, Yorkville                              21   \n",
       "The Beaches                                                       5   \n",
       "The Danforth West, Riverdale                                     43   \n",
       "Toronto Dominion Centre, Design Exchange                        100   \n",
       "University of Toronto, Harbord                                   33   \n",
       "\n",
       "                                                    Venue Category  \n",
       "Neighbourhood                                                       \n",
       "Berczy Park                                                     58  \n",
       "Brockton, Parkdale Village, Exhibition Place                    23  \n",
       "Business reply mail Processing Centre, South Ce...              16  \n",
       "CN Tower, King and Spadina, Railway Lands, Harb...              16  \n",
       "Central Bay Street                                              64  \n",
       "Christie                                                        16  \n",
       "Church and Wellesley                                            80  \n",
       "Commerce Court, Victoria Hotel                                 100  \n",
       "Davisville                                                      33  \n",
       "Davisville North                                                 9  \n",
       "Dufferin, Dovercourt Village                                    17  \n",
       "First Canadian Place, Underground city                         100  \n",
       "Forest Hill North & West, Forest Hill Road Park                  4  \n",
       "Garden District, Ryerson                                       100  \n",
       "Harbourfront East, Union Station, Toronto Islands              100  \n",
       "High Park, The Junction South                                   24  \n",
       "India Bazaar, The Beaches West                                  20  \n",
       "Kensington Market, Chinatown, Grange Park                       64  \n",
       "Lawrence Park                                                    4  \n",
       "Little Portugal, Trinity                                        43  \n",
       "Moore Park, Summerhill East                                      2  \n",
       "North Toronto West,  Lawrence Park                              19  \n",
       "Parkdale, Roncesvalles                                          14  \n",
       "Queen's Park, Ontario Provincial Government                     32  \n",
       "Regent Park, Harbourfront                                       48  \n",
       "Richmond, Adelaide, King                                        96  \n",
       "Rosedale                                                         4  \n",
       "Roselawn                                                         4  \n",
       "Runnymede, Swansea                                              35  \n",
       "St. James Town                                                  79  \n",
       "St. James Town, Cabbagetown                                     43  \n",
       "Stn A PO Boxes                                                  98  \n",
       "Studio District                                                 36  \n",
       "Summerhill West, Rathnelly, South Hill, Forest ...              15  \n",
       "The Annex, North Midtown, Yorkville                             21  \n",
       "The Beaches                                                      5  \n",
       "The Danforth West, Riverdale                                    43  \n",
       "Toronto Dominion Centre, Design Exchange                       100  \n",
       "University of Toronto, Harbord                                  33  "
      ],
      "text/html": "<div>\n<style scoped>\n    .dataframe tbody tr th:only-of-type {\n        vertical-align: middle;\n    }\n\n    .dataframe tbody tr th {\n        vertical-align: top;\n    }\n\n    .dataframe thead th {\n        text-align: right;\n    }\n</style>\n<table border=\"1\" class=\"dataframe\">\n  <thead>\n    <tr style=\"text-align: right;\">\n      <th></th>\n      <th>Neighbourhood Latitude</th>\n      <th>Neighbourhood Longitude</th>\n      <th>Venue</th>\n      <th>Venue Latitude</th>\n      <th>Venue Longitude</th>\n      <th>Venue Category</th>\n    </tr>\n    <tr>\n      <th>Neighbourhood</th>\n      <th></th>\n      <th></th>\n      <th></th>\n      <th></th>\n      <th></th>\n      <th></th>\n    </tr>\n  </thead>\n  <tbody>\n    <tr>\n      <th>Berczy Park</th>\n      <td>58</td>\n      <td>58</td>\n      <td>58</td>\n      <td>58</td>\n      <td>58</td>\n      <td>58</td>\n    </tr>\n    <tr>\n      <th>Brockton, Parkdale Village, Exhibition Place</th>\n      <td>23</td>\n      <td>23</td>\n      <td>23</td>\n      <td>23</td>\n      <td>23</td>\n      <td>23</td>\n    </tr>\n    <tr>\n      <th>Business reply mail Processing Centre, South Central Letter Processing Plant Toronto</th>\n      <td>16</td>\n      <td>16</td>\n      <td>16</td>\n      <td>16</td>\n      <td>16</td>\n      <td>16</td>\n    </tr>\n    <tr>\n      <th>CN Tower, King and Spadina, Railway Lands, Harbourfront West, Bathurst Quay, South Niagara, Island airport</th>\n      <td>16</td>\n      <td>16</td>\n      <td>16</td>\n      <td>16</td>\n      <td>16</td>\n      <td>16</td>\n    </tr>\n    <tr>\n      <th>Central Bay Street</th>\n      <td>64</td>\n      <td>64</td>\n      <td>64</td>\n      <td>64</td>\n      <td>64</td>\n      <td>64</td>\n    </tr>\n    <tr>\n      <th>Christie</th>\n      <td>16</td>\n      <td>16</td>\n      <td>16</td>\n      <td>16</td>\n      <td>16</td>\n      <td>16</td>\n    </tr>\n    <tr>\n      <th>Church and Wellesley</th>\n      <td>80</td>\n      <td>80</td>\n      <td>80</td>\n      <td>80</td>\n      <td>80</td>\n      <td>80</td>\n    </tr>\n    <tr>\n      <th>Commerce Court, Victoria Hotel</th>\n      <td>100</td>\n      <td>100</td>\n      <td>100</td>\n      <td>100</td>\n      <td>100</td>\n      <td>100</td>\n    </tr>\n    <tr>\n      <th>Davisville</th>\n      <td>33</td>\n      <td>33</td>\n      <td>33</td>\n      <td>33</td>\n      <td>33</td>\n      <td>33</td>\n    </tr>\n    <tr>\n      <th>Davisville North</th>\n      <td>9</td>\n      <td>9</td>\n      <td>9</td>\n      <td>9</td>\n      <td>9</td>\n      <td>9</td>\n    </tr>\n    <tr>\n      <th>Dufferin, Dovercourt Village</th>\n      <td>17</td>\n      <td>17</td>\n      <td>17</td>\n      <td>17</td>\n      <td>17</td>\n      <td>17</td>\n    </tr>\n    <tr>\n      <th>First Canadian Place, Underground city</th>\n      <td>100</td>\n      <td>100</td>\n      <td>100</td>\n      <td>100</td>\n      <td>100</td>\n      <td>100</td>\n    </tr>\n    <tr>\n      <th>Forest Hill North &amp; West, Forest Hill Road Park</th>\n      <td>4</td>\n      <td>4</td>\n      <td>4</td>\n      <td>4</td>\n      <td>4</td>\n      <td>4</td>\n    </tr>\n    <tr>\n      <th>Garden District, Ryerson</th>\n      <td>100</td>\n      <td>100</td>\n      <td>100</td>\n      <td>100</td>\n      <td>100</td>\n      <td>100</td>\n    </tr>\n    <tr>\n      <th>Harbourfront East, Union Station, Toronto Islands</th>\n      <td>100</td>\n      <td>100</td>\n      <td>100</td>\n      <td>100</td>\n      <td>100</td>\n      <td>100</td>\n    </tr>\n    <tr>\n      <th>High Park, The Junction South</th>\n      <td>24</td>\n      <td>24</td>\n      <td>24</td>\n      <td>24</td>\n      <td>24</td>\n      <td>24</td>\n    </tr>\n    <tr>\n      <th>India Bazaar, The Beaches West</th>\n      <td>20</td>\n      <td>20</td>\n      <td>20</td>\n      <td>20</td>\n      <td>20</td>\n      <td>20</td>\n    </tr>\n    <tr>\n      <th>Kensington Market, Chinatown, Grange Park</th>\n      <td>64</td>\n      <td>64</td>\n      <td>64</td>\n      <td>64</td>\n      <td>64</td>\n      <td>64</td>\n    </tr>\n    <tr>\n      <th>Lawrence Park</th>\n      <td>4</td>\n      <td>4</td>\n      <td>4</td>\n      <td>4</td>\n      <td>4</td>\n      <td>4</td>\n    </tr>\n    <tr>\n      <th>Little Portugal, Trinity</th>\n      <td>43</td>\n      <td>43</td>\n      <td>43</td>\n      <td>43</td>\n      <td>43</td>\n      <td>43</td>\n    </tr>\n    <tr>\n      <th>Moore Park, Summerhill East</th>\n      <td>2</td>\n      <td>2</td>\n      <td>2</td>\n      <td>2</td>\n      <td>2</td>\n      <td>2</td>\n    </tr>\n    <tr>\n      <th>North Toronto West,  Lawrence Park</th>\n      <td>19</td>\n      <td>19</td>\n      <td>19</td>\n      <td>19</td>\n      <td>19</td>\n      <td>19</td>\n    </tr>\n    <tr>\n      <th>Parkdale, Roncesvalles</th>\n      <td>14</td>\n      <td>14</td>\n      <td>14</td>\n      <td>14</td>\n      <td>14</td>\n      <td>14</td>\n    </tr>\n    <tr>\n      <th>Queen's Park, Ontario Provincial Government</th>\n      <td>32</td>\n      <td>32</td>\n      <td>32</td>\n      <td>32</td>\n      <td>32</td>\n      <td>32</td>\n    </tr>\n    <tr>\n      <th>Regent Park, Harbourfront</th>\n      <td>48</td>\n      <td>48</td>\n      <td>48</td>\n      <td>48</td>\n      <td>48</td>\n      <td>48</td>\n    </tr>\n    <tr>\n      <th>Richmond, Adelaide, King</th>\n      <td>96</td>\n      <td>96</td>\n      <td>96</td>\n      <td>96</td>\n      <td>96</td>\n      <td>96</td>\n    </tr>\n    <tr>\n      <th>Rosedale</th>\n      <td>4</td>\n      <td>4</td>\n      <td>4</td>\n      <td>4</td>\n      <td>4</td>\n      <td>4</td>\n    </tr>\n    <tr>\n      <th>Roselawn</th>\n      <td>4</td>\n      <td>4</td>\n      <td>4</td>\n      <td>4</td>\n      <td>4</td>\n      <td>4</td>\n    </tr>\n    <tr>\n      <th>Runnymede, Swansea</th>\n      <td>35</td>\n      <td>35</td>\n      <td>35</td>\n      <td>35</td>\n      <td>35</td>\n      <td>35</td>\n    </tr>\n    <tr>\n      <th>St. James Town</th>\n      <td>79</td>\n      <td>79</td>\n      <td>79</td>\n      <td>79</td>\n      <td>79</td>\n      <td>79</td>\n    </tr>\n    <tr>\n      <th>St. James Town, Cabbagetown</th>\n      <td>43</td>\n      <td>43</td>\n      <td>43</td>\n      <td>43</td>\n      <td>43</td>\n      <td>43</td>\n    </tr>\n    <tr>\n      <th>Stn A PO Boxes</th>\n      <td>98</td>\n      <td>98</td>\n      <td>98</td>\n      <td>98</td>\n      <td>98</td>\n      <td>98</td>\n    </tr>\n    <tr>\n      <th>Studio District</th>\n      <td>36</td>\n      <td>36</td>\n      <td>36</td>\n      <td>36</td>\n      <td>36</td>\n      <td>36</td>\n    </tr>\n    <tr>\n      <th>Summerhill West, Rathnelly, South Hill, Forest Hill SE, Deer Park</th>\n      <td>15</td>\n      <td>15</td>\n      <td>15</td>\n      <td>15</td>\n      <td>15</td>\n      <td>15</td>\n    </tr>\n    <tr>\n      <th>The Annex, North Midtown, Yorkville</th>\n      <td>21</td>\n      <td>21</td>\n      <td>21</td>\n      <td>21</td>\n      <td>21</td>\n      <td>21</td>\n    </tr>\n    <tr>\n      <th>The Beaches</th>\n      <td>5</td>\n      <td>5</td>\n      <td>5</td>\n      <td>5</td>\n      <td>5</td>\n      <td>5</td>\n    </tr>\n    <tr>\n      <th>The Danforth West, Riverdale</th>\n      <td>43</td>\n      <td>43</td>\n      <td>43</td>\n      <td>43</td>\n      <td>43</td>\n      <td>43</td>\n    </tr>\n    <tr>\n      <th>Toronto Dominion Centre, Design Exchange</th>\n      <td>100</td>\n      <td>100</td>\n      <td>100</td>\n      <td>100</td>\n      <td>100</td>\n      <td>100</td>\n    </tr>\n    <tr>\n      <th>University of Toronto, Harbord</th>\n      <td>33</td>\n      <td>33</td>\n      <td>33</td>\n      <td>33</td>\n      <td>33</td>\n      <td>33</td>\n    </tr>\n  </tbody>\n</table>\n</div>"
     },
     "metadata": {},
     "execution_count": 45
    }
   ],
   "source": [
    "toronto_venues.groupby('Neighbourhood').count()"
   ]
  },
  {
   "cell_type": "code",
   "execution_count": 46,
   "metadata": {},
   "outputs": [
    {
     "output_type": "stream",
     "name": "stdout",
     "text": [
      "There are 235 uniques categories.\n"
     ]
    }
   ],
   "source": [
    "print('There are {} uniques categories.'.format(len(toronto_venues['Venue Category'].unique())))"
   ]
  },
  {
   "source": [
    "### One-Hot encoding of venue categories\n",
    "\n",
    "In order to normalize the venue categories for clustering, I used one-hot encoding across all of the venues and then took the mean of the frequency of the occurence of each category."
   ],
   "cell_type": "markdown",
   "metadata": {}
  },
  {
   "cell_type": "code",
   "execution_count": 47,
   "metadata": {},
   "outputs": [
    {
     "output_type": "execute_result",
     "data": {
      "text/plain": [
       "               Neighbourhood  Adult Boutique  Afghan Restaurant  Airport  \\\n",
       "0  Regent Park, Harbourfront               0                  0        0   \n",
       "1  Regent Park, Harbourfront               0                  0        0   \n",
       "2  Regent Park, Harbourfront               0                  0        0   \n",
       "3  Regent Park, Harbourfront               0                  0        0   \n",
       "4  Regent Park, Harbourfront               0                  0        0   \n",
       "\n",
       "   Airport Food Court  Airport Gate  Airport Lounge  Airport Service  \\\n",
       "0                   0             0               0                0   \n",
       "1                   0             0               0                0   \n",
       "2                   0             0               0                0   \n",
       "3                   0             0               0                0   \n",
       "4                   0             0               0                0   \n",
       "\n",
       "   Airport Terminal  American Restaurant  ...  Theme Restaurant  \\\n",
       "0                 0                    0  ...                 0   \n",
       "1                 0                    0  ...                 0   \n",
       "2                 0                    0  ...                 0   \n",
       "3                 0                    0  ...                 0   \n",
       "4                 0                    0  ...                 0   \n",
       "\n",
       "   Tibetan Restaurant  Toy / Game Store  Trail  Train Station  \\\n",
       "0                   0                 0      0              0   \n",
       "1                   0                 0      0              0   \n",
       "2                   0                 0      0              0   \n",
       "3                   0                 0      0              0   \n",
       "4                   0                 0      0              0   \n",
       "\n",
       "   Vegetarian / Vegan Restaurant  Video Game Store  Vietnamese Restaurant  \\\n",
       "0                              0                 0                      0   \n",
       "1                              0                 0                      0   \n",
       "2                              0                 0                      0   \n",
       "3                              0                 0                      0   \n",
       "4                              0                 0                      0   \n",
       "\n",
       "   Wine Bar  Yoga Studio  \n",
       "0         0            0  \n",
       "1         0            0  \n",
       "2         0            0  \n",
       "3         0            0  \n",
       "4         0            0  \n",
       "\n",
       "[5 rows x 236 columns]"
      ],
      "text/html": "<div>\n<style scoped>\n    .dataframe tbody tr th:only-of-type {\n        vertical-align: middle;\n    }\n\n    .dataframe tbody tr th {\n        vertical-align: top;\n    }\n\n    .dataframe thead th {\n        text-align: right;\n    }\n</style>\n<table border=\"1\" class=\"dataframe\">\n  <thead>\n    <tr style=\"text-align: right;\">\n      <th></th>\n      <th>Neighbourhood</th>\n      <th>Adult Boutique</th>\n      <th>Afghan Restaurant</th>\n      <th>Airport</th>\n      <th>Airport Food Court</th>\n      <th>Airport Gate</th>\n      <th>Airport Lounge</th>\n      <th>Airport Service</th>\n      <th>Airport Terminal</th>\n      <th>American Restaurant</th>\n      <th>...</th>\n      <th>Theme Restaurant</th>\n      <th>Tibetan Restaurant</th>\n      <th>Toy / Game Store</th>\n      <th>Trail</th>\n      <th>Train Station</th>\n      <th>Vegetarian / Vegan Restaurant</th>\n      <th>Video Game Store</th>\n      <th>Vietnamese Restaurant</th>\n      <th>Wine Bar</th>\n      <th>Yoga Studio</th>\n    </tr>\n  </thead>\n  <tbody>\n    <tr>\n      <th>0</th>\n      <td>Regent Park, Harbourfront</td>\n      <td>0</td>\n      <td>0</td>\n      <td>0</td>\n      <td>0</td>\n      <td>0</td>\n      <td>0</td>\n      <td>0</td>\n      <td>0</td>\n      <td>0</td>\n      <td>...</td>\n      <td>0</td>\n      <td>0</td>\n      <td>0</td>\n      <td>0</td>\n      <td>0</td>\n      <td>0</td>\n      <td>0</td>\n      <td>0</td>\n      <td>0</td>\n      <td>0</td>\n    </tr>\n    <tr>\n      <th>1</th>\n      <td>Regent Park, Harbourfront</td>\n      <td>0</td>\n      <td>0</td>\n      <td>0</td>\n      <td>0</td>\n      <td>0</td>\n      <td>0</td>\n      <td>0</td>\n      <td>0</td>\n      <td>0</td>\n      <td>...</td>\n      <td>0</td>\n      <td>0</td>\n      <td>0</td>\n      <td>0</td>\n      <td>0</td>\n      <td>0</td>\n      <td>0</td>\n      <td>0</td>\n      <td>0</td>\n      <td>0</td>\n    </tr>\n    <tr>\n      <th>2</th>\n      <td>Regent Park, Harbourfront</td>\n      <td>0</td>\n      <td>0</td>\n      <td>0</td>\n      <td>0</td>\n      <td>0</td>\n      <td>0</td>\n      <td>0</td>\n      <td>0</td>\n      <td>0</td>\n      <td>...</td>\n      <td>0</td>\n      <td>0</td>\n      <td>0</td>\n      <td>0</td>\n      <td>0</td>\n      <td>0</td>\n      <td>0</td>\n      <td>0</td>\n      <td>0</td>\n      <td>0</td>\n    </tr>\n    <tr>\n      <th>3</th>\n      <td>Regent Park, Harbourfront</td>\n      <td>0</td>\n      <td>0</td>\n      <td>0</td>\n      <td>0</td>\n      <td>0</td>\n      <td>0</td>\n      <td>0</td>\n      <td>0</td>\n      <td>0</td>\n      <td>...</td>\n      <td>0</td>\n      <td>0</td>\n      <td>0</td>\n      <td>0</td>\n      <td>0</td>\n      <td>0</td>\n      <td>0</td>\n      <td>0</td>\n      <td>0</td>\n      <td>0</td>\n    </tr>\n    <tr>\n      <th>4</th>\n      <td>Regent Park, Harbourfront</td>\n      <td>0</td>\n      <td>0</td>\n      <td>0</td>\n      <td>0</td>\n      <td>0</td>\n      <td>0</td>\n      <td>0</td>\n      <td>0</td>\n      <td>0</td>\n      <td>...</td>\n      <td>0</td>\n      <td>0</td>\n      <td>0</td>\n      <td>0</td>\n      <td>0</td>\n      <td>0</td>\n      <td>0</td>\n      <td>0</td>\n      <td>0</td>\n      <td>0</td>\n    </tr>\n  </tbody>\n</table>\n<p>5 rows × 236 columns</p>\n</div>"
     },
     "metadata": {},
     "execution_count": 47
    }
   ],
   "source": [
    "# one hot encoding\n",
    "toronto_onehot = pd.get_dummies(toronto_venues[['Venue Category']], prefix=\"\", prefix_sep=\"\")\n",
    "\n",
    "# add neighborhood column back to dataframe\n",
    "toronto_onehot['Neighbourhood'] = toronto_venues['Neighbourhood'] \n",
    "\n",
    "# move neighborhood column to the first column\n",
    "fixed_columns = [toronto_onehot.columns[-1]] + list(toronto_onehot.columns[:-1])\n",
    "toronto_onehot = toronto_onehot[fixed_columns]\n",
    "\n",
    "toronto_onehot.head()"
   ]
  },
  {
   "cell_type": "code",
   "execution_count": 48,
   "metadata": {},
   "outputs": [
    {
     "output_type": "execute_result",
     "data": {
      "text/plain": [
       "(1618, 236)"
      ]
     },
     "metadata": {},
     "execution_count": 48
    }
   ],
   "source": [
    "toronto_onehot.shape"
   ]
  },
  {
   "cell_type": "code",
   "execution_count": 49,
   "metadata": {},
   "outputs": [
    {
     "output_type": "execute_result",
     "data": {
      "text/plain": [
       "                                        Neighbourhood  Adult Boutique  \\\n",
       "0                                         Berczy Park          0.0000   \n",
       "1        Brockton, Parkdale Village, Exhibition Place          0.0000   \n",
       "2   Business reply mail Processing Centre, South C...          0.0000   \n",
       "3   CN Tower, King and Spadina, Railway Lands, Har...          0.0000   \n",
       "4                                  Central Bay Street          0.0000   \n",
       "5                                            Christie          0.0000   \n",
       "6                                Church and Wellesley          0.0125   \n",
       "7                      Commerce Court, Victoria Hotel          0.0000   \n",
       "8                                          Davisville          0.0000   \n",
       "9                                    Davisville North          0.0000   \n",
       "10                       Dufferin, Dovercourt Village          0.0000   \n",
       "11             First Canadian Place, Underground city          0.0000   \n",
       "12    Forest Hill North & West, Forest Hill Road Park          0.0000   \n",
       "13                           Garden District, Ryerson          0.0000   \n",
       "14  Harbourfront East, Union Station, Toronto Islands          0.0000   \n",
       "15                      High Park, The Junction South          0.0000   \n",
       "16                     India Bazaar, The Beaches West          0.0000   \n",
       "17          Kensington Market, Chinatown, Grange Park          0.0000   \n",
       "18                                      Lawrence Park          0.0000   \n",
       "19                           Little Portugal, Trinity          0.0000   \n",
       "20                        Moore Park, Summerhill East          0.0000   \n",
       "21                 North Toronto West,  Lawrence Park          0.0000   \n",
       "22                             Parkdale, Roncesvalles          0.0000   \n",
       "23        Queen's Park, Ontario Provincial Government          0.0000   \n",
       "24                          Regent Park, Harbourfront          0.0000   \n",
       "25                           Richmond, Adelaide, King          0.0000   \n",
       "26                                           Rosedale          0.0000   \n",
       "27                                           Roselawn          0.0000   \n",
       "28                                 Runnymede, Swansea          0.0000   \n",
       "29                                     St. James Town          0.0000   \n",
       "30                        St. James Town, Cabbagetown          0.0000   \n",
       "31                                     Stn A PO Boxes          0.0000   \n",
       "32                                    Studio District          0.0000   \n",
       "33  Summerhill West, Rathnelly, South Hill, Forest...          0.0000   \n",
       "34                The Annex, North Midtown, Yorkville          0.0000   \n",
       "35                                        The Beaches          0.0000   \n",
       "36                       The Danforth West, Riverdale          0.0000   \n",
       "37           Toronto Dominion Centre, Design Exchange          0.0000   \n",
       "38                     University of Toronto, Harbord          0.0000   \n",
       "\n",
       "    Afghan Restaurant  Airport  Airport Food Court  Airport Gate  \\\n",
       "0              0.0000   0.0000              0.0000        0.0000   \n",
       "1              0.0000   0.0000              0.0000        0.0000   \n",
       "2              0.0000   0.0000              0.0000        0.0000   \n",
       "3              0.0000   0.0625              0.0625        0.0625   \n",
       "4              0.0000   0.0000              0.0000        0.0000   \n",
       "5              0.0000   0.0000              0.0000        0.0000   \n",
       "6              0.0125   0.0000              0.0000        0.0000   \n",
       "7              0.0000   0.0000              0.0000        0.0000   \n",
       "8              0.0000   0.0000              0.0000        0.0000   \n",
       "9              0.0000   0.0000              0.0000        0.0000   \n",
       "10             0.0000   0.0000              0.0000        0.0000   \n",
       "11             0.0000   0.0000              0.0000        0.0000   \n",
       "12             0.0000   0.0000              0.0000        0.0000   \n",
       "13             0.0000   0.0000              0.0000        0.0000   \n",
       "14             0.0000   0.0000              0.0000        0.0000   \n",
       "15             0.0000   0.0000              0.0000        0.0000   \n",
       "16             0.0000   0.0000              0.0000        0.0000   \n",
       "17             0.0000   0.0000              0.0000        0.0000   \n",
       "18             0.0000   0.0000              0.0000        0.0000   \n",
       "19             0.0000   0.0000              0.0000        0.0000   \n",
       "20             0.0000   0.0000              0.0000        0.0000   \n",
       "21             0.0000   0.0000              0.0000        0.0000   \n",
       "22             0.0000   0.0000              0.0000        0.0000   \n",
       "23             0.0000   0.0000              0.0000        0.0000   \n",
       "24             0.0000   0.0000              0.0000        0.0000   \n",
       "25             0.0000   0.0000              0.0000        0.0000   \n",
       "26             0.0000   0.0000              0.0000        0.0000   \n",
       "27             0.0000   0.0000              0.0000        0.0000   \n",
       "28             0.0000   0.0000              0.0000        0.0000   \n",
       "29             0.0000   0.0000              0.0000        0.0000   \n",
       "30             0.0000   0.0000              0.0000        0.0000   \n",
       "31             0.0000   0.0000              0.0000        0.0000   \n",
       "32             0.0000   0.0000              0.0000        0.0000   \n",
       "33             0.0000   0.0000              0.0000        0.0000   \n",
       "34             0.0000   0.0000              0.0000        0.0000   \n",
       "35             0.0000   0.0000              0.0000        0.0000   \n",
       "36             0.0000   0.0000              0.0000        0.0000   \n",
       "37             0.0000   0.0000              0.0000        0.0000   \n",
       "38             0.0000   0.0000              0.0000        0.0000   \n",
       "\n",
       "    Airport Lounge  Airport Service  Airport Terminal  American Restaurant  \\\n",
       "0            0.000           0.0000             0.000             0.000000   \n",
       "1            0.000           0.0000             0.000             0.000000   \n",
       "2            0.000           0.0000             0.000             0.000000   \n",
       "3            0.125           0.1875             0.125             0.000000   \n",
       "4            0.000           0.0000             0.000             0.000000   \n",
       "5            0.000           0.0000             0.000             0.000000   \n",
       "6            0.000           0.0000             0.000             0.012500   \n",
       "7            0.000           0.0000             0.000             0.040000   \n",
       "8            0.000           0.0000             0.000             0.000000   \n",
       "9            0.000           0.0000             0.000             0.000000   \n",
       "10           0.000           0.0000             0.000             0.000000   \n",
       "11           0.000           0.0000             0.000             0.030000   \n",
       "12           0.000           0.0000             0.000             0.000000   \n",
       "13           0.000           0.0000             0.000             0.000000   \n",
       "14           0.000           0.0000             0.000             0.000000   \n",
       "15           0.000           0.0000             0.000             0.000000   \n",
       "16           0.000           0.0000             0.000             0.000000   \n",
       "17           0.000           0.0000             0.000             0.000000   \n",
       "18           0.000           0.0000             0.000             0.000000   \n",
       "19           0.000           0.0000             0.000             0.000000   \n",
       "20           0.000           0.0000             0.000             0.000000   \n",
       "21           0.000           0.0000             0.000             0.000000   \n",
       "22           0.000           0.0000             0.000             0.000000   \n",
       "23           0.000           0.0000             0.000             0.000000   \n",
       "24           0.000           0.0000             0.000             0.000000   \n",
       "25           0.000           0.0000             0.000             0.020833   \n",
       "26           0.000           0.0000             0.000             0.000000   \n",
       "27           0.000           0.0000             0.000             0.000000   \n",
       "28           0.000           0.0000             0.000             0.000000   \n",
       "29           0.000           0.0000             0.000             0.037975   \n",
       "30           0.000           0.0000             0.000             0.000000   \n",
       "31           0.000           0.0000             0.000             0.010204   \n",
       "32           0.000           0.0000             0.000             0.055556   \n",
       "33           0.000           0.0000             0.000             0.066667   \n",
       "34           0.000           0.0000             0.000             0.000000   \n",
       "35           0.000           0.0000             0.000             0.000000   \n",
       "36           0.000           0.0000             0.000             0.023256   \n",
       "37           0.000           0.0000             0.000             0.030000   \n",
       "38           0.000           0.0000             0.000             0.000000   \n",
       "\n",
       "    ...  Theme Restaurant  Tibetan Restaurant  Toy / Game Store     Trail  \\\n",
       "0   ...            0.0000            0.000000          0.000000  0.000000   \n",
       "1   ...            0.0000            0.000000          0.000000  0.000000   \n",
       "2   ...            0.0000            0.000000          0.000000  0.000000   \n",
       "3   ...            0.0000            0.000000          0.000000  0.000000   \n",
       "4   ...            0.0000            0.000000          0.000000  0.000000   \n",
       "5   ...            0.0000            0.000000          0.000000  0.000000   \n",
       "6   ...            0.0125            0.000000          0.000000  0.000000   \n",
       "7   ...            0.0000            0.000000          0.000000  0.000000   \n",
       "8   ...            0.0000            0.000000          0.030303  0.000000   \n",
       "9   ...            0.0000            0.000000          0.000000  0.000000   \n",
       "10  ...            0.0000            0.000000          0.000000  0.000000   \n",
       "11  ...            0.0000            0.000000          0.000000  0.000000   \n",
       "12  ...            0.0000            0.000000          0.000000  0.250000   \n",
       "13  ...            0.0000            0.000000          0.000000  0.000000   \n",
       "14  ...            0.0000            0.000000          0.000000  0.000000   \n",
       "15  ...            0.0000            0.000000          0.000000  0.000000   \n",
       "16  ...            0.0000            0.000000          0.000000  0.000000   \n",
       "17  ...            0.0000            0.000000          0.000000  0.000000   \n",
       "18  ...            0.0000            0.000000          0.000000  0.000000   \n",
       "19  ...            0.0000            0.000000          0.000000  0.000000   \n",
       "20  ...            0.0000            0.000000          0.000000  0.000000   \n",
       "21  ...            0.0000            0.000000          0.000000  0.000000   \n",
       "22  ...            0.0000            0.000000          0.000000  0.000000   \n",
       "23  ...            0.0000            0.000000          0.000000  0.000000   \n",
       "24  ...            0.0000            0.000000          0.000000  0.000000   \n",
       "25  ...            0.0000            0.000000          0.000000  0.000000   \n",
       "26  ...            0.0000            0.000000          0.000000  0.250000   \n",
       "27  ...            0.0000            0.000000          0.000000  0.000000   \n",
       "28  ...            0.0000            0.000000          0.000000  0.000000   \n",
       "29  ...            0.0000            0.000000          0.000000  0.000000   \n",
       "30  ...            0.0000            0.000000          0.000000  0.000000   \n",
       "31  ...            0.0000            0.000000          0.000000  0.000000   \n",
       "32  ...            0.0000            0.000000          0.000000  0.000000   \n",
       "33  ...            0.0000            0.000000          0.000000  0.000000   \n",
       "34  ...            0.0000            0.000000          0.000000  0.000000   \n",
       "35  ...            0.0000            0.000000          0.000000  0.200000   \n",
       "36  ...            0.0000            0.023256          0.000000  0.023256   \n",
       "37  ...            0.0000            0.000000          0.000000  0.000000   \n",
       "38  ...            0.0000            0.000000          0.000000  0.000000   \n",
       "\n",
       "    Train Station  Vegetarian / Vegan Restaurant  Video Game Store  \\\n",
       "0            0.00                       0.017241          0.000000   \n",
       "1            0.00                       0.000000          0.000000   \n",
       "2            0.00                       0.000000          0.000000   \n",
       "3            0.00                       0.000000          0.000000   \n",
       "4            0.00                       0.015625          0.000000   \n",
       "5            0.00                       0.000000          0.000000   \n",
       "6            0.00                       0.000000          0.000000   \n",
       "7            0.00                       0.020000          0.000000   \n",
       "8            0.00                       0.000000          0.000000   \n",
       "9            0.00                       0.000000          0.000000   \n",
       "10           0.00                       0.000000          0.000000   \n",
       "11           0.01                       0.010000          0.000000   \n",
       "12           0.00                       0.000000          0.000000   \n",
       "13           0.00                       0.000000          0.010000   \n",
       "14           0.01                       0.010000          0.000000   \n",
       "15           0.00                       0.000000          0.000000   \n",
       "16           0.00                       0.000000          0.000000   \n",
       "17           0.00                       0.062500          0.000000   \n",
       "18           0.00                       0.000000          0.000000   \n",
       "19           0.00                       0.046512          0.000000   \n",
       "20           0.00                       0.000000          0.000000   \n",
       "21           0.00                       0.000000          0.000000   \n",
       "22           0.00                       0.000000          0.000000   \n",
       "23           0.00                       0.031250          0.000000   \n",
       "24           0.00                       0.000000          0.000000   \n",
       "25           0.00                       0.010417          0.000000   \n",
       "26           0.00                       0.000000          0.000000   \n",
       "27           0.00                       0.000000          0.000000   \n",
       "28           0.00                       0.028571          0.000000   \n",
       "29           0.00                       0.012658          0.000000   \n",
       "30           0.00                       0.000000          0.000000   \n",
       "31           0.00                       0.010204          0.000000   \n",
       "32           0.00                       0.000000          0.000000   \n",
       "33           0.00                       0.000000          0.000000   \n",
       "34           0.00                       0.000000          0.000000   \n",
       "35           0.00                       0.000000          0.000000   \n",
       "36           0.00                       0.000000          0.000000   \n",
       "37           0.01                       0.010000          0.000000   \n",
       "38           0.00                       0.000000          0.030303   \n",
       "\n",
       "    Vietnamese Restaurant  Wine Bar  Yoga Studio  \n",
       "0                0.000000  0.000000     0.000000  \n",
       "1                0.000000  0.000000     0.000000  \n",
       "2                0.000000  0.000000     0.062500  \n",
       "3                0.000000  0.000000     0.000000  \n",
       "4                0.000000  0.015625     0.015625  \n",
       "5                0.000000  0.000000     0.000000  \n",
       "6                0.012500  0.000000     0.025000  \n",
       "7                0.000000  0.010000     0.000000  \n",
       "8                0.000000  0.000000     0.000000  \n",
       "9                0.000000  0.000000     0.000000  \n",
       "10               0.000000  0.000000     0.000000  \n",
       "11               0.000000  0.010000     0.000000  \n",
       "12               0.000000  0.000000     0.000000  \n",
       "13               0.010000  0.010000     0.000000  \n",
       "14               0.000000  0.010000     0.000000  \n",
       "15               0.000000  0.000000     0.000000  \n",
       "16               0.000000  0.000000     0.000000  \n",
       "17               0.046875  0.015625     0.000000  \n",
       "18               0.000000  0.000000     0.000000  \n",
       "19               0.046512  0.023256     0.023256  \n",
       "20               0.000000  0.000000     0.000000  \n",
       "21               0.000000  0.000000     0.052632  \n",
       "22               0.000000  0.000000     0.000000  \n",
       "23               0.000000  0.000000     0.031250  \n",
       "24               0.000000  0.000000     0.020833  \n",
       "25               0.000000  0.000000     0.000000  \n",
       "26               0.000000  0.000000     0.000000  \n",
       "27               0.000000  0.000000     0.000000  \n",
       "28               0.000000  0.000000     0.028571  \n",
       "29               0.000000  0.012658     0.000000  \n",
       "30               0.000000  0.000000     0.000000  \n",
       "31               0.000000  0.000000     0.010204  \n",
       "32               0.000000  0.000000     0.027778  \n",
       "33               0.066667  0.000000     0.000000  \n",
       "34               0.000000  0.000000     0.000000  \n",
       "35               0.000000  0.000000     0.000000  \n",
       "36               0.000000  0.000000     0.023256  \n",
       "37               0.000000  0.010000     0.000000  \n",
       "38               0.000000  0.000000     0.030303  \n",
       "\n",
       "[39 rows x 236 columns]"
      ],
      "text/html": "<div>\n<style scoped>\n    .dataframe tbody tr th:only-of-type {\n        vertical-align: middle;\n    }\n\n    .dataframe tbody tr th {\n        vertical-align: top;\n    }\n\n    .dataframe thead th {\n        text-align: right;\n    }\n</style>\n<table border=\"1\" class=\"dataframe\">\n  <thead>\n    <tr style=\"text-align: right;\">\n      <th></th>\n      <th>Neighbourhood</th>\n      <th>Adult Boutique</th>\n      <th>Afghan Restaurant</th>\n      <th>Airport</th>\n      <th>Airport Food Court</th>\n      <th>Airport Gate</th>\n      <th>Airport Lounge</th>\n      <th>Airport Service</th>\n      <th>Airport Terminal</th>\n      <th>American Restaurant</th>\n      <th>...</th>\n      <th>Theme Restaurant</th>\n      <th>Tibetan Restaurant</th>\n      <th>Toy / Game Store</th>\n      <th>Trail</th>\n      <th>Train Station</th>\n      <th>Vegetarian / Vegan Restaurant</th>\n      <th>Video Game Store</th>\n      <th>Vietnamese Restaurant</th>\n      <th>Wine Bar</th>\n      <th>Yoga Studio</th>\n    </tr>\n  </thead>\n  <tbody>\n    <tr>\n      <th>0</th>\n      <td>Berczy Park</td>\n      <td>0.0000</td>\n      <td>0.0000</td>\n      <td>0.0000</td>\n      <td>0.0000</td>\n      <td>0.0000</td>\n      <td>0.000</td>\n      <td>0.0000</td>\n      <td>0.000</td>\n      <td>0.000000</td>\n      <td>...</td>\n      <td>0.0000</td>\n      <td>0.000000</td>\n      <td>0.000000</td>\n      <td>0.000000</td>\n      <td>0.00</td>\n      <td>0.017241</td>\n      <td>0.000000</td>\n      <td>0.000000</td>\n      <td>0.000000</td>\n      <td>0.000000</td>\n    </tr>\n    <tr>\n      <th>1</th>\n      <td>Brockton, Parkdale Village, Exhibition Place</td>\n      <td>0.0000</td>\n      <td>0.0000</td>\n      <td>0.0000</td>\n      <td>0.0000</td>\n      <td>0.0000</td>\n      <td>0.000</td>\n      <td>0.0000</td>\n      <td>0.000</td>\n      <td>0.000000</td>\n      <td>...</td>\n      <td>0.0000</td>\n      <td>0.000000</td>\n      <td>0.000000</td>\n      <td>0.000000</td>\n      <td>0.00</td>\n      <td>0.000000</td>\n      <td>0.000000</td>\n      <td>0.000000</td>\n      <td>0.000000</td>\n      <td>0.000000</td>\n    </tr>\n    <tr>\n      <th>2</th>\n      <td>Business reply mail Processing Centre, South C...</td>\n      <td>0.0000</td>\n      <td>0.0000</td>\n      <td>0.0000</td>\n      <td>0.0000</td>\n      <td>0.0000</td>\n      <td>0.000</td>\n      <td>0.0000</td>\n      <td>0.000</td>\n      <td>0.000000</td>\n      <td>...</td>\n      <td>0.0000</td>\n      <td>0.000000</td>\n      <td>0.000000</td>\n      <td>0.000000</td>\n      <td>0.00</td>\n      <td>0.000000</td>\n      <td>0.000000</td>\n      <td>0.000000</td>\n      <td>0.000000</td>\n      <td>0.062500</td>\n    </tr>\n    <tr>\n      <th>3</th>\n      <td>CN Tower, King and Spadina, Railway Lands, Har...</td>\n      <td>0.0000</td>\n      <td>0.0000</td>\n      <td>0.0625</td>\n      <td>0.0625</td>\n      <td>0.0625</td>\n      <td>0.125</td>\n      <td>0.1875</td>\n      <td>0.125</td>\n      <td>0.000000</td>\n      <td>...</td>\n      <td>0.0000</td>\n      <td>0.000000</td>\n      <td>0.000000</td>\n      <td>0.000000</td>\n      <td>0.00</td>\n      <td>0.000000</td>\n      <td>0.000000</td>\n      <td>0.000000</td>\n      <td>0.000000</td>\n      <td>0.000000</td>\n    </tr>\n    <tr>\n      <th>4</th>\n      <td>Central Bay Street</td>\n      <td>0.0000</td>\n      <td>0.0000</td>\n      <td>0.0000</td>\n      <td>0.0000</td>\n      <td>0.0000</td>\n      <td>0.000</td>\n      <td>0.0000</td>\n      <td>0.000</td>\n      <td>0.000000</td>\n      <td>...</td>\n      <td>0.0000</td>\n      <td>0.000000</td>\n      <td>0.000000</td>\n      <td>0.000000</td>\n      <td>0.00</td>\n      <td>0.015625</td>\n      <td>0.000000</td>\n      <td>0.000000</td>\n      <td>0.015625</td>\n      <td>0.015625</td>\n    </tr>\n    <tr>\n      <th>5</th>\n      <td>Christie</td>\n      <td>0.0000</td>\n      <td>0.0000</td>\n      <td>0.0000</td>\n      <td>0.0000</td>\n      <td>0.0000</td>\n      <td>0.000</td>\n      <td>0.0000</td>\n      <td>0.000</td>\n      <td>0.000000</td>\n      <td>...</td>\n      <td>0.0000</td>\n      <td>0.000000</td>\n      <td>0.000000</td>\n      <td>0.000000</td>\n      <td>0.00</td>\n      <td>0.000000</td>\n      <td>0.000000</td>\n      <td>0.000000</td>\n      <td>0.000000</td>\n      <td>0.000000</td>\n    </tr>\n    <tr>\n      <th>6</th>\n      <td>Church and Wellesley</td>\n      <td>0.0125</td>\n      <td>0.0125</td>\n      <td>0.0000</td>\n      <td>0.0000</td>\n      <td>0.0000</td>\n      <td>0.000</td>\n      <td>0.0000</td>\n      <td>0.000</td>\n      <td>0.012500</td>\n      <td>...</td>\n      <td>0.0125</td>\n      <td>0.000000</td>\n      <td>0.000000</td>\n      <td>0.000000</td>\n      <td>0.00</td>\n      <td>0.000000</td>\n      <td>0.000000</td>\n      <td>0.012500</td>\n      <td>0.000000</td>\n      <td>0.025000</td>\n    </tr>\n    <tr>\n      <th>7</th>\n      <td>Commerce Court, Victoria Hotel</td>\n      <td>0.0000</td>\n      <td>0.0000</td>\n      <td>0.0000</td>\n      <td>0.0000</td>\n      <td>0.0000</td>\n      <td>0.000</td>\n      <td>0.0000</td>\n      <td>0.000</td>\n      <td>0.040000</td>\n      <td>...</td>\n      <td>0.0000</td>\n      <td>0.000000</td>\n      <td>0.000000</td>\n      <td>0.000000</td>\n      <td>0.00</td>\n      <td>0.020000</td>\n      <td>0.000000</td>\n      <td>0.000000</td>\n      <td>0.010000</td>\n      <td>0.000000</td>\n    </tr>\n    <tr>\n      <th>8</th>\n      <td>Davisville</td>\n      <td>0.0000</td>\n      <td>0.0000</td>\n      <td>0.0000</td>\n      <td>0.0000</td>\n      <td>0.0000</td>\n      <td>0.000</td>\n      <td>0.0000</td>\n      <td>0.000</td>\n      <td>0.000000</td>\n      <td>...</td>\n      <td>0.0000</td>\n      <td>0.000000</td>\n      <td>0.030303</td>\n      <td>0.000000</td>\n      <td>0.00</td>\n      <td>0.000000</td>\n      <td>0.000000</td>\n      <td>0.000000</td>\n      <td>0.000000</td>\n      <td>0.000000</td>\n    </tr>\n    <tr>\n      <th>9</th>\n      <td>Davisville North</td>\n      <td>0.0000</td>\n      <td>0.0000</td>\n      <td>0.0000</td>\n      <td>0.0000</td>\n      <td>0.0000</td>\n      <td>0.000</td>\n      <td>0.0000</td>\n      <td>0.000</td>\n      <td>0.000000</td>\n      <td>...</td>\n      <td>0.0000</td>\n      <td>0.000000</td>\n      <td>0.000000</td>\n      <td>0.000000</td>\n      <td>0.00</td>\n      <td>0.000000</td>\n      <td>0.000000</td>\n      <td>0.000000</td>\n      <td>0.000000</td>\n      <td>0.000000</td>\n    </tr>\n    <tr>\n      <th>10</th>\n      <td>Dufferin, Dovercourt Village</td>\n      <td>0.0000</td>\n      <td>0.0000</td>\n      <td>0.0000</td>\n      <td>0.0000</td>\n      <td>0.0000</td>\n      <td>0.000</td>\n      <td>0.0000</td>\n      <td>0.000</td>\n      <td>0.000000</td>\n      <td>...</td>\n      <td>0.0000</td>\n      <td>0.000000</td>\n      <td>0.000000</td>\n      <td>0.000000</td>\n      <td>0.00</td>\n      <td>0.000000</td>\n      <td>0.000000</td>\n      <td>0.000000</td>\n      <td>0.000000</td>\n      <td>0.000000</td>\n    </tr>\n    <tr>\n      <th>11</th>\n      <td>First Canadian Place, Underground city</td>\n      <td>0.0000</td>\n      <td>0.0000</td>\n      <td>0.0000</td>\n      <td>0.0000</td>\n      <td>0.0000</td>\n      <td>0.000</td>\n      <td>0.0000</td>\n      <td>0.000</td>\n      <td>0.030000</td>\n      <td>...</td>\n      <td>0.0000</td>\n      <td>0.000000</td>\n      <td>0.000000</td>\n      <td>0.000000</td>\n      <td>0.01</td>\n      <td>0.010000</td>\n      <td>0.000000</td>\n      <td>0.000000</td>\n      <td>0.010000</td>\n      <td>0.000000</td>\n    </tr>\n    <tr>\n      <th>12</th>\n      <td>Forest Hill North &amp; West, Forest Hill Road Park</td>\n      <td>0.0000</td>\n      <td>0.0000</td>\n      <td>0.0000</td>\n      <td>0.0000</td>\n      <td>0.0000</td>\n      <td>0.000</td>\n      <td>0.0000</td>\n      <td>0.000</td>\n      <td>0.000000</td>\n      <td>...</td>\n      <td>0.0000</td>\n      <td>0.000000</td>\n      <td>0.000000</td>\n      <td>0.250000</td>\n      <td>0.00</td>\n      <td>0.000000</td>\n      <td>0.000000</td>\n      <td>0.000000</td>\n      <td>0.000000</td>\n      <td>0.000000</td>\n    </tr>\n    <tr>\n      <th>13</th>\n      <td>Garden District, Ryerson</td>\n      <td>0.0000</td>\n      <td>0.0000</td>\n      <td>0.0000</td>\n      <td>0.0000</td>\n      <td>0.0000</td>\n      <td>0.000</td>\n      <td>0.0000</td>\n      <td>0.000</td>\n      <td>0.000000</td>\n      <td>...</td>\n      <td>0.0000</td>\n      <td>0.000000</td>\n      <td>0.000000</td>\n      <td>0.000000</td>\n      <td>0.00</td>\n      <td>0.000000</td>\n      <td>0.010000</td>\n      <td>0.010000</td>\n      <td>0.010000</td>\n      <td>0.000000</td>\n    </tr>\n    <tr>\n      <th>14</th>\n      <td>Harbourfront East, Union Station, Toronto Islands</td>\n      <td>0.0000</td>\n      <td>0.0000</td>\n      <td>0.0000</td>\n      <td>0.0000</td>\n      <td>0.0000</td>\n      <td>0.000</td>\n      <td>0.0000</td>\n      <td>0.000</td>\n      <td>0.000000</td>\n      <td>...</td>\n      <td>0.0000</td>\n      <td>0.000000</td>\n      <td>0.000000</td>\n      <td>0.000000</td>\n      <td>0.01</td>\n      <td>0.010000</td>\n      <td>0.000000</td>\n      <td>0.000000</td>\n      <td>0.010000</td>\n      <td>0.000000</td>\n    </tr>\n    <tr>\n      <th>15</th>\n      <td>High Park, The Junction South</td>\n      <td>0.0000</td>\n      <td>0.0000</td>\n      <td>0.0000</td>\n      <td>0.0000</td>\n      <td>0.0000</td>\n      <td>0.000</td>\n      <td>0.0000</td>\n      <td>0.000</td>\n      <td>0.000000</td>\n      <td>...</td>\n      <td>0.0000</td>\n      <td>0.000000</td>\n      <td>0.000000</td>\n      <td>0.000000</td>\n      <td>0.00</td>\n      <td>0.000000</td>\n      <td>0.000000</td>\n      <td>0.000000</td>\n      <td>0.000000</td>\n      <td>0.000000</td>\n    </tr>\n    <tr>\n      <th>16</th>\n      <td>India Bazaar, The Beaches West</td>\n      <td>0.0000</td>\n      <td>0.0000</td>\n      <td>0.0000</td>\n      <td>0.0000</td>\n      <td>0.0000</td>\n      <td>0.000</td>\n      <td>0.0000</td>\n      <td>0.000</td>\n      <td>0.000000</td>\n      <td>...</td>\n      <td>0.0000</td>\n      <td>0.000000</td>\n      <td>0.000000</td>\n      <td>0.000000</td>\n      <td>0.00</td>\n      <td>0.000000</td>\n      <td>0.000000</td>\n      <td>0.000000</td>\n      <td>0.000000</td>\n      <td>0.000000</td>\n    </tr>\n    <tr>\n      <th>17</th>\n      <td>Kensington Market, Chinatown, Grange Park</td>\n      <td>0.0000</td>\n      <td>0.0000</td>\n      <td>0.0000</td>\n      <td>0.0000</td>\n      <td>0.0000</td>\n      <td>0.000</td>\n      <td>0.0000</td>\n      <td>0.000</td>\n      <td>0.000000</td>\n      <td>...</td>\n      <td>0.0000</td>\n      <td>0.000000</td>\n      <td>0.000000</td>\n      <td>0.000000</td>\n      <td>0.00</td>\n      <td>0.062500</td>\n      <td>0.000000</td>\n      <td>0.046875</td>\n      <td>0.015625</td>\n      <td>0.000000</td>\n    </tr>\n    <tr>\n      <th>18</th>\n      <td>Lawrence Park</td>\n      <td>0.0000</td>\n      <td>0.0000</td>\n      <td>0.0000</td>\n      <td>0.0000</td>\n      <td>0.0000</td>\n      <td>0.000</td>\n      <td>0.0000</td>\n      <td>0.000</td>\n      <td>0.000000</td>\n      <td>...</td>\n      <td>0.0000</td>\n      <td>0.000000</td>\n      <td>0.000000</td>\n      <td>0.000000</td>\n      <td>0.00</td>\n      <td>0.000000</td>\n      <td>0.000000</td>\n      <td>0.000000</td>\n      <td>0.000000</td>\n      <td>0.000000</td>\n    </tr>\n    <tr>\n      <th>19</th>\n      <td>Little Portugal, Trinity</td>\n      <td>0.0000</td>\n      <td>0.0000</td>\n      <td>0.0000</td>\n      <td>0.0000</td>\n      <td>0.0000</td>\n      <td>0.000</td>\n      <td>0.0000</td>\n      <td>0.000</td>\n      <td>0.000000</td>\n      <td>...</td>\n      <td>0.0000</td>\n      <td>0.000000</td>\n      <td>0.000000</td>\n      <td>0.000000</td>\n      <td>0.00</td>\n      <td>0.046512</td>\n      <td>0.000000</td>\n      <td>0.046512</td>\n      <td>0.023256</td>\n      <td>0.023256</td>\n    </tr>\n    <tr>\n      <th>20</th>\n      <td>Moore Park, Summerhill East</td>\n      <td>0.0000</td>\n      <td>0.0000</td>\n      <td>0.0000</td>\n      <td>0.0000</td>\n      <td>0.0000</td>\n      <td>0.000</td>\n      <td>0.0000</td>\n      <td>0.000</td>\n      <td>0.000000</td>\n      <td>...</td>\n      <td>0.0000</td>\n      <td>0.000000</td>\n      <td>0.000000</td>\n      <td>0.000000</td>\n      <td>0.00</td>\n      <td>0.000000</td>\n      <td>0.000000</td>\n      <td>0.000000</td>\n      <td>0.000000</td>\n      <td>0.000000</td>\n    </tr>\n    <tr>\n      <th>21</th>\n      <td>North Toronto West,  Lawrence Park</td>\n      <td>0.0000</td>\n      <td>0.0000</td>\n      <td>0.0000</td>\n      <td>0.0000</td>\n      <td>0.0000</td>\n      <td>0.000</td>\n      <td>0.0000</td>\n      <td>0.000</td>\n      <td>0.000000</td>\n      <td>...</td>\n      <td>0.0000</td>\n      <td>0.000000</td>\n      <td>0.000000</td>\n      <td>0.000000</td>\n      <td>0.00</td>\n      <td>0.000000</td>\n      <td>0.000000</td>\n      <td>0.000000</td>\n      <td>0.000000</td>\n      <td>0.052632</td>\n    </tr>\n    <tr>\n      <th>22</th>\n      <td>Parkdale, Roncesvalles</td>\n      <td>0.0000</td>\n      <td>0.0000</td>\n      <td>0.0000</td>\n      <td>0.0000</td>\n      <td>0.0000</td>\n      <td>0.000</td>\n      <td>0.0000</td>\n      <td>0.000</td>\n      <td>0.000000</td>\n      <td>...</td>\n      <td>0.0000</td>\n      <td>0.000000</td>\n      <td>0.000000</td>\n      <td>0.000000</td>\n      <td>0.00</td>\n      <td>0.000000</td>\n      <td>0.000000</td>\n      <td>0.000000</td>\n      <td>0.000000</td>\n      <td>0.000000</td>\n    </tr>\n    <tr>\n      <th>23</th>\n      <td>Queen's Park, Ontario Provincial Government</td>\n      <td>0.0000</td>\n      <td>0.0000</td>\n      <td>0.0000</td>\n      <td>0.0000</td>\n      <td>0.0000</td>\n      <td>0.000</td>\n      <td>0.0000</td>\n      <td>0.000</td>\n      <td>0.000000</td>\n      <td>...</td>\n      <td>0.0000</td>\n      <td>0.000000</td>\n      <td>0.000000</td>\n      <td>0.000000</td>\n      <td>0.00</td>\n      <td>0.031250</td>\n      <td>0.000000</td>\n      <td>0.000000</td>\n      <td>0.000000</td>\n      <td>0.031250</td>\n    </tr>\n    <tr>\n      <th>24</th>\n      <td>Regent Park, Harbourfront</td>\n      <td>0.0000</td>\n      <td>0.0000</td>\n      <td>0.0000</td>\n      <td>0.0000</td>\n      <td>0.0000</td>\n      <td>0.000</td>\n      <td>0.0000</td>\n      <td>0.000</td>\n      <td>0.000000</td>\n      <td>...</td>\n      <td>0.0000</td>\n      <td>0.000000</td>\n      <td>0.000000</td>\n      <td>0.000000</td>\n      <td>0.00</td>\n      <td>0.000000</td>\n      <td>0.000000</td>\n      <td>0.000000</td>\n      <td>0.000000</td>\n      <td>0.020833</td>\n    </tr>\n    <tr>\n      <th>25</th>\n      <td>Richmond, Adelaide, King</td>\n      <td>0.0000</td>\n      <td>0.0000</td>\n      <td>0.0000</td>\n      <td>0.0000</td>\n      <td>0.0000</td>\n      <td>0.000</td>\n      <td>0.0000</td>\n      <td>0.000</td>\n      <td>0.020833</td>\n      <td>...</td>\n      <td>0.0000</td>\n      <td>0.000000</td>\n      <td>0.000000</td>\n      <td>0.000000</td>\n      <td>0.00</td>\n      <td>0.010417</td>\n      <td>0.000000</td>\n      <td>0.000000</td>\n      <td>0.000000</td>\n      <td>0.000000</td>\n    </tr>\n    <tr>\n      <th>26</th>\n      <td>Rosedale</td>\n      <td>0.0000</td>\n      <td>0.0000</td>\n      <td>0.0000</td>\n      <td>0.0000</td>\n      <td>0.0000</td>\n      <td>0.000</td>\n      <td>0.0000</td>\n      <td>0.000</td>\n      <td>0.000000</td>\n      <td>...</td>\n      <td>0.0000</td>\n      <td>0.000000</td>\n      <td>0.000000</td>\n      <td>0.250000</td>\n      <td>0.00</td>\n      <td>0.000000</td>\n      <td>0.000000</td>\n      <td>0.000000</td>\n      <td>0.000000</td>\n      <td>0.000000</td>\n    </tr>\n    <tr>\n      <th>27</th>\n      <td>Roselawn</td>\n      <td>0.0000</td>\n      <td>0.0000</td>\n      <td>0.0000</td>\n      <td>0.0000</td>\n      <td>0.0000</td>\n      <td>0.000</td>\n      <td>0.0000</td>\n      <td>0.000</td>\n      <td>0.000000</td>\n      <td>...</td>\n      <td>0.0000</td>\n      <td>0.000000</td>\n      <td>0.000000</td>\n      <td>0.000000</td>\n      <td>0.00</td>\n      <td>0.000000</td>\n      <td>0.000000</td>\n      <td>0.000000</td>\n      <td>0.000000</td>\n      <td>0.000000</td>\n    </tr>\n    <tr>\n      <th>28</th>\n      <td>Runnymede, Swansea</td>\n      <td>0.0000</td>\n      <td>0.0000</td>\n      <td>0.0000</td>\n      <td>0.0000</td>\n      <td>0.0000</td>\n      <td>0.000</td>\n      <td>0.0000</td>\n      <td>0.000</td>\n      <td>0.000000</td>\n      <td>...</td>\n      <td>0.0000</td>\n      <td>0.000000</td>\n      <td>0.000000</td>\n      <td>0.000000</td>\n      <td>0.00</td>\n      <td>0.028571</td>\n      <td>0.000000</td>\n      <td>0.000000</td>\n      <td>0.000000</td>\n      <td>0.028571</td>\n    </tr>\n    <tr>\n      <th>29</th>\n      <td>St. James Town</td>\n      <td>0.0000</td>\n      <td>0.0000</td>\n      <td>0.0000</td>\n      <td>0.0000</td>\n      <td>0.0000</td>\n      <td>0.000</td>\n      <td>0.0000</td>\n      <td>0.000</td>\n      <td>0.037975</td>\n      <td>...</td>\n      <td>0.0000</td>\n      <td>0.000000</td>\n      <td>0.000000</td>\n      <td>0.000000</td>\n      <td>0.00</td>\n      <td>0.012658</td>\n      <td>0.000000</td>\n      <td>0.000000</td>\n      <td>0.012658</td>\n      <td>0.000000</td>\n    </tr>\n    <tr>\n      <th>30</th>\n      <td>St. James Town, Cabbagetown</td>\n      <td>0.0000</td>\n      <td>0.0000</td>\n      <td>0.0000</td>\n      <td>0.0000</td>\n      <td>0.0000</td>\n      <td>0.000</td>\n      <td>0.0000</td>\n      <td>0.000</td>\n      <td>0.000000</td>\n      <td>...</td>\n      <td>0.0000</td>\n      <td>0.000000</td>\n      <td>0.000000</td>\n      <td>0.000000</td>\n      <td>0.00</td>\n      <td>0.000000</td>\n      <td>0.000000</td>\n      <td>0.000000</td>\n      <td>0.000000</td>\n      <td>0.000000</td>\n    </tr>\n    <tr>\n      <th>31</th>\n      <td>Stn A PO Boxes</td>\n      <td>0.0000</td>\n      <td>0.0000</td>\n      <td>0.0000</td>\n      <td>0.0000</td>\n      <td>0.0000</td>\n      <td>0.000</td>\n      <td>0.0000</td>\n      <td>0.000</td>\n      <td>0.010204</td>\n      <td>...</td>\n      <td>0.0000</td>\n      <td>0.000000</td>\n      <td>0.000000</td>\n      <td>0.000000</td>\n      <td>0.00</td>\n      <td>0.010204</td>\n      <td>0.000000</td>\n      <td>0.000000</td>\n      <td>0.000000</td>\n      <td>0.010204</td>\n    </tr>\n    <tr>\n      <th>32</th>\n      <td>Studio District</td>\n      <td>0.0000</td>\n      <td>0.0000</td>\n      <td>0.0000</td>\n      <td>0.0000</td>\n      <td>0.0000</td>\n      <td>0.000</td>\n      <td>0.0000</td>\n      <td>0.000</td>\n      <td>0.055556</td>\n      <td>...</td>\n      <td>0.0000</td>\n      <td>0.000000</td>\n      <td>0.000000</td>\n      <td>0.000000</td>\n      <td>0.00</td>\n      <td>0.000000</td>\n      <td>0.000000</td>\n      <td>0.000000</td>\n      <td>0.000000</td>\n      <td>0.027778</td>\n    </tr>\n    <tr>\n      <th>33</th>\n      <td>Summerhill West, Rathnelly, South Hill, Forest...</td>\n      <td>0.0000</td>\n      <td>0.0000</td>\n      <td>0.0000</td>\n      <td>0.0000</td>\n      <td>0.0000</td>\n      <td>0.000</td>\n      <td>0.0000</td>\n      <td>0.000</td>\n      <td>0.066667</td>\n      <td>...</td>\n      <td>0.0000</td>\n      <td>0.000000</td>\n      <td>0.000000</td>\n      <td>0.000000</td>\n      <td>0.00</td>\n      <td>0.000000</td>\n      <td>0.000000</td>\n      <td>0.066667</td>\n      <td>0.000000</td>\n      <td>0.000000</td>\n    </tr>\n    <tr>\n      <th>34</th>\n      <td>The Annex, North Midtown, Yorkville</td>\n      <td>0.0000</td>\n      <td>0.0000</td>\n      <td>0.0000</td>\n      <td>0.0000</td>\n      <td>0.0000</td>\n      <td>0.000</td>\n      <td>0.0000</td>\n      <td>0.000</td>\n      <td>0.000000</td>\n      <td>...</td>\n      <td>0.0000</td>\n      <td>0.000000</td>\n      <td>0.000000</td>\n      <td>0.000000</td>\n      <td>0.00</td>\n      <td>0.000000</td>\n      <td>0.000000</td>\n      <td>0.000000</td>\n      <td>0.000000</td>\n      <td>0.000000</td>\n    </tr>\n    <tr>\n      <th>35</th>\n      <td>The Beaches</td>\n      <td>0.0000</td>\n      <td>0.0000</td>\n      <td>0.0000</td>\n      <td>0.0000</td>\n      <td>0.0000</td>\n      <td>0.000</td>\n      <td>0.0000</td>\n      <td>0.000</td>\n      <td>0.000000</td>\n      <td>...</td>\n      <td>0.0000</td>\n      <td>0.000000</td>\n      <td>0.000000</td>\n      <td>0.200000</td>\n      <td>0.00</td>\n      <td>0.000000</td>\n      <td>0.000000</td>\n      <td>0.000000</td>\n      <td>0.000000</td>\n      <td>0.000000</td>\n    </tr>\n    <tr>\n      <th>36</th>\n      <td>The Danforth West, Riverdale</td>\n      <td>0.0000</td>\n      <td>0.0000</td>\n      <td>0.0000</td>\n      <td>0.0000</td>\n      <td>0.0000</td>\n      <td>0.000</td>\n      <td>0.0000</td>\n      <td>0.000</td>\n      <td>0.023256</td>\n      <td>...</td>\n      <td>0.0000</td>\n      <td>0.023256</td>\n      <td>0.000000</td>\n      <td>0.023256</td>\n      <td>0.00</td>\n      <td>0.000000</td>\n      <td>0.000000</td>\n      <td>0.000000</td>\n      <td>0.000000</td>\n      <td>0.023256</td>\n    </tr>\n    <tr>\n      <th>37</th>\n      <td>Toronto Dominion Centre, Design Exchange</td>\n      <td>0.0000</td>\n      <td>0.0000</td>\n      <td>0.0000</td>\n      <td>0.0000</td>\n      <td>0.0000</td>\n      <td>0.000</td>\n      <td>0.0000</td>\n      <td>0.000</td>\n      <td>0.030000</td>\n      <td>...</td>\n      <td>0.0000</td>\n      <td>0.000000</td>\n      <td>0.000000</td>\n      <td>0.000000</td>\n      <td>0.01</td>\n      <td>0.010000</td>\n      <td>0.000000</td>\n      <td>0.000000</td>\n      <td>0.010000</td>\n      <td>0.000000</td>\n    </tr>\n    <tr>\n      <th>38</th>\n      <td>University of Toronto, Harbord</td>\n      <td>0.0000</td>\n      <td>0.0000</td>\n      <td>0.0000</td>\n      <td>0.0000</td>\n      <td>0.0000</td>\n      <td>0.000</td>\n      <td>0.0000</td>\n      <td>0.000</td>\n      <td>0.000000</td>\n      <td>...</td>\n      <td>0.0000</td>\n      <td>0.000000</td>\n      <td>0.000000</td>\n      <td>0.000000</td>\n      <td>0.00</td>\n      <td>0.000000</td>\n      <td>0.030303</td>\n      <td>0.000000</td>\n      <td>0.000000</td>\n      <td>0.030303</td>\n    </tr>\n  </tbody>\n</table>\n<p>39 rows × 236 columns</p>\n</div>"
     },
     "metadata": {},
     "execution_count": 49
    }
   ],
   "source": [
    "toronto_grouped = toronto_onehot.groupby('Neighbourhood').mean().reset_index()\n",
    "toronto_grouped"
   ]
  },
  {
   "cell_type": "code",
   "execution_count": 50,
   "metadata": {},
   "outputs": [
    {
     "output_type": "execute_result",
     "data": {
      "text/plain": [
       "(39, 236)"
      ]
     },
     "metadata": {},
     "execution_count": 50
    }
   ],
   "source": [
    "toronto_grouped.shape"
   ]
  },
  {
   "source": [
    "### Observe top venues and sort them into a dataframe\n",
    "\n",
    "Below, the top venu categories for each neighbourhood are displayed. Then the top 10 venue categories for each neighbourhood are put into a dataframe for clustering."
   ],
   "cell_type": "markdown",
   "metadata": {}
  },
  {
   "cell_type": "code",
   "execution_count": 51,
   "metadata": {},
   "outputs": [
    {
     "output_type": "stream",
     "name": "stdout",
     "text": [
      "----Berczy Park----\n            venue  freq\n0     Coffee Shop  0.09\n1    Cocktail Bar  0.05\n2        Beer Bar  0.03\n3  Farmers Market  0.03\n4        Pharmacy  0.03\n\n\n----Brockton, Parkdale Village, Exhibition Place----\n            venue  freq\n0            Café  0.13\n1  Breakfast Spot  0.09\n2     Coffee Shop  0.09\n3       Pet Store  0.04\n4          Office  0.04\n\n\n----Business reply mail Processing Centre, South Central Letter Processing Plant Toronto----\n                  venue  freq\n0    Light Rail Station  0.12\n1  Gym / Fitness Center  0.06\n2         Auto Workshop  0.06\n3            Skate Park  0.06\n4            Restaurant  0.06\n\n\n----CN Tower, King and Spadina, Railway Lands, Harbourfront West, Bathurst Quay, South Niagara, Island airport----\n              venue  freq\n0   Airport Service  0.19\n1    Airport Lounge  0.12\n2  Airport Terminal  0.12\n3             Plane  0.06\n4   Harbor / Marina  0.06\n\n\n----Central Bay Street----\n                venue  freq\n0         Coffee Shop  0.17\n1                Café  0.06\n2      Sandwich Place  0.06\n3  Italian Restaurant  0.06\n4     Thai Restaurant  0.03\n\n\n----Christie----\n           venue  freq\n0  Grocery Store  0.25\n1           Café  0.19\n2           Park  0.12\n3    Coffee Shop  0.06\n4     Baby Store  0.06\n\n\n----Church and Wellesley----\n                 venue  freq\n0          Coffee Shop  0.08\n1     Sushi Restaurant  0.06\n2  Japanese Restaurant  0.06\n3           Restaurant  0.04\n4              Gay Bar  0.04\n\n\n----Commerce Court, Victoria Hotel----\n         venue  freq\n0  Coffee Shop  0.12\n1   Restaurant  0.07\n2         Café  0.06\n3        Hotel  0.05\n4          Gym  0.04\n\n\n----Davisville----\n              venue  freq\n0      Dessert Shop  0.09\n1    Sandwich Place  0.09\n2  Sushi Restaurant  0.06\n3       Coffee Shop  0.06\n4              Café  0.06\n\n\n----Davisville North----\n                  venue  freq\n0                 Hotel  0.22\n1  Gym / Fitness Center  0.11\n2        Breakfast Spot  0.11\n3     Food & Drink Shop  0.11\n4      Department Store  0.11\n\n\n----Dufferin, Dovercourt Village----\n                       venue  freq\n0                   Pharmacy  0.12\n1                     Bakery  0.12\n2                Art Gallery  0.06\n3  Middle Eastern Restaurant  0.06\n4                       Café  0.06\n\n\n----First Canadian Place, Underground city----\n         venue  freq\n0  Coffee Shop  0.09\n1         Café  0.07\n2        Hotel  0.05\n3   Restaurant  0.04\n4          Gym  0.04\n\n\n----Forest Hill North & West, Forest Hill Road Park----\n                venue  freq\n0  Mexican Restaurant  0.25\n1               Trail  0.25\n2       Jewelry Store  0.25\n3    Sushi Restaurant  0.25\n4      Adult Boutique  0.00\n\n\n----Garden District, Ryerson----\n             venue  freq\n0      Coffee Shop  0.10\n1   Clothing Store  0.09\n2             Café  0.04\n3   Cosmetics Shop  0.03\n4  Bubble Tea Shop  0.03\n\n\n----Harbourfront East, Union Station, Toronto Islands----\n         venue  freq\n0  Coffee Shop  0.13\n1     Aquarium  0.05\n2         Café  0.04\n3        Hotel  0.04\n4      Brewery  0.03\n\n\n----High Park, The Junction South----\n                venue  freq\n0                Café  0.08\n1  Mexican Restaurant  0.08\n2     Thai Restaurant  0.08\n3           Speakeasy  0.04\n4  Italian Restaurant  0.04\n\n\n----India Bazaar, The Beaches West----\n                  venue  freq\n0  Fast Food Restaurant  0.10\n1                  Park  0.10\n2        Sandwich Place  0.10\n3                   Pub  0.05\n4               Brewery  0.05\n\n\n----Kensington Market, Chinatown, Grange Park----\n                           venue  freq\n0                           Café  0.08\n1  Vegetarian / Vegan Restaurant  0.06\n2                   Dessert Shop  0.05\n3                    Coffee Shop  0.05\n4          Vietnamese Restaurant  0.05\n\n\n----Lawrence Park----\n                        venue  freq\n0  Construction & Landscaping  0.25\n1                        Park  0.25\n2                    Bus Line  0.25\n3                 Swim School  0.25\n4              Adult Boutique  0.00\n\n\n----Little Portugal, Trinity----\n                           venue  freq\n0                            Bar  0.09\n1               Asian Restaurant  0.05\n2          Vietnamese Restaurant  0.05\n3  Vegetarian / Vegan Restaurant  0.05\n4                    Men's Store  0.05\n\n\n----Moore Park, Summerhill East----\n            venue  freq\n0             Gym   0.5\n1            Park   0.5\n2  Adult Boutique   0.0\n3          Museum   0.0\n4  Massage Studio   0.0\n\n\n----North Toronto West,  Lawrence Park----\n                 venue  freq\n0       Clothing Store  0.16\n1          Coffee Shop  0.11\n2          Yoga Studio  0.05\n3  Sporting Goods Shop  0.05\n4                Diner  0.05\n\n\n----Parkdale, Roncesvalles----\n            venue  freq\n0  Breakfast Spot  0.14\n1       Gift Shop  0.14\n2      Restaurant  0.07\n3     Coffee Shop  0.07\n4   Movie Theater  0.07\n\n\n----Queen's Park, Ontario Provincial Government----\n                   venue  freq\n0            Coffee Shop  0.22\n1       Sushi Restaurant  0.06\n2            Yoga Studio  0.03\n3  Portuguese Restaurant  0.03\n4          Smoothie Shop  0.03\n\n\n----Regent Park, Harbourfront----\n         venue  freq\n0  Coffee Shop  0.17\n1         Café  0.06\n2          Pub  0.06\n3         Park  0.06\n4       Bakery  0.06\n\n\n----Richmond, Adelaide, King----\n             venue  freq\n0      Coffee Shop  0.09\n1             Café  0.05\n2            Hotel  0.04\n3       Restaurant  0.04\n4  Thai Restaurant  0.03\n\n\n----Rosedale----\n            venue  freq\n0            Park  0.50\n1      Playground  0.25\n2           Trail  0.25\n3  Adult Boutique  0.00\n4   Movie Theater  0.00\n\n\n----Roselawn----\n                      venue  freq\n0                    Garden  0.25\n1               Music Venue  0.25\n2              Home Service  0.25\n3            Ice Cream Shop  0.25\n4  Mediterranean Restaurant  0.00\n\n\n----Runnymede, Swansea----\n                venue  freq\n0                Café  0.09\n1  Italian Restaurant  0.06\n2    Sushi Restaurant  0.06\n3         Pizza Place  0.06\n4                 Pub  0.06\n\n\n----St. James Town----\n                 venue  freq\n0          Coffee Shop  0.08\n1                 Café  0.05\n2       Cosmetics Shop  0.04\n3  American Restaurant  0.04\n4         Cocktail Bar  0.04\n\n\n----St. James Town, Cabbagetown----\n                venue  freq\n0         Pizza Place  0.07\n1         Coffee Shop  0.07\n2  Italian Restaurant  0.05\n3                Café  0.05\n4              Bakery  0.05\n\n\n----Stn A PO Boxes----\n                 venue  freq\n0          Coffee Shop  0.11\n1   Seafood Restaurant  0.04\n2             Beer Bar  0.03\n3  Japanese Restaurant  0.03\n4   Italian Restaurant  0.03\n\n\n----Studio District----\n         venue  freq\n0  Coffee Shop  0.08\n1      Brewery  0.06\n2    Gastropub  0.06\n3         Café  0.06\n4       Bakery  0.06\n\n\n----Summerhill West, Rathnelly, South Hill, Forest Hill SE, Deer Park----\n                 venue  freq\n0          Coffee Shop  0.13\n1         Liquor Store  0.07\n2                  Pub  0.07\n3   Light Rail Station  0.07\n4  Fried Chicken Joint  0.07\n\n\n----The Annex, North Midtown, Yorkville----\n            venue  freq\n0  Sandwich Place  0.14\n1            Café  0.14\n2     Coffee Shop  0.10\n3  History Museum  0.05\n4       BBQ Joint  0.05\n\n\n----The Beaches----\n               venue  freq\n0  Health Food Store   0.2\n1       Neighborhood   0.2\n2   Asian Restaurant   0.2\n3              Trail   0.2\n4                Pub   0.2\n\n\n----The Danforth West, Riverdale----\n                    venue  freq\n0        Greek Restaurant  0.19\n1      Italian Restaurant  0.07\n2             Coffee Shop  0.07\n3  Furniture / Home Store  0.05\n4          Ice Cream Shop  0.05\n\n\n----Toronto Dominion Centre, Design Exchange----\n         venue  freq\n0  Coffee Shop  0.11\n1        Hotel  0.07\n2         Café  0.06\n3   Restaurant  0.04\n4  Salad Place  0.04\n\n\n----University of Toronto, Harbord----\n                 venue  freq\n0                 Café  0.15\n1   Italian Restaurant  0.06\n2            Bookstore  0.06\n3                  Bar  0.06\n4  Japanese Restaurant  0.06\n\n\n"
     ]
    }
   ],
   "source": [
    "num_top_venues = 5\n",
    "\n",
    "for hood in toronto_grouped['Neighbourhood']:\n",
    "    print(\"----\"+hood+\"----\")\n",
    "    temp = toronto_grouped[toronto_grouped['Neighbourhood'] == hood].T.reset_index()\n",
    "    temp.columns = ['venue','freq']\n",
    "    temp = temp.iloc[1:]\n",
    "    temp['freq'] = temp['freq'].astype(float)\n",
    "    temp = temp.round({'freq': 2})\n",
    "    print(temp.sort_values('freq', ascending=False).reset_index(drop=True).head(num_top_venues))\n",
    "    print('\\n')"
   ]
  },
  {
   "cell_type": "code",
   "execution_count": 52,
   "metadata": {},
   "outputs": [],
   "source": [
    "def return_most_common_venues(row, num_top_venues):\n",
    "    row_categories = row.iloc[1:]\n",
    "    row_categories_sorted = row_categories.sort_values(ascending=False)\n",
    "    \n",
    "    return row_categories_sorted.index.values[0:num_top_venues]"
   ]
  },
  {
   "cell_type": "code",
   "execution_count": 53,
   "metadata": {},
   "outputs": [
    {
     "output_type": "execute_result",
     "data": {
      "text/plain": [
       "                                       Neighbourhood 1st Most Common Venue  \\\n",
       "0                                        Berczy Park           Coffee Shop   \n",
       "1       Brockton, Parkdale Village, Exhibition Place                  Café   \n",
       "2  Business reply mail Processing Centre, South C...    Light Rail Station   \n",
       "3  CN Tower, King and Spadina, Railway Lands, Har...       Airport Service   \n",
       "4                                 Central Bay Street           Coffee Shop   \n",
       "\n",
       "  2nd Most Common Venue 3rd Most Common Venue   4th Most Common Venue  \\\n",
       "0          Cocktail Bar              Beer Bar          Farmers Market   \n",
       "1        Breakfast Spot           Coffee Shop  Furniture / Home Store   \n",
       "2           Yoga Studio            Skate Park           Auto Workshop   \n",
       "3      Airport Terminal        Airport Lounge           Boat or Ferry   \n",
       "4        Sandwich Place                  Café      Italian Restaurant   \n",
       "\n",
       "  5th Most Common Venue 6th Most Common Venue 7th Most Common Venue  \\\n",
       "0                Bakery    Seafood Restaurant            Restaurant   \n",
       "1                Office                   Bar          Intersection   \n",
       "2               Brewery         Burrito Place            Comic Shop   \n",
       "3   Rental Car Location                   Bar                 Plane   \n",
       "4       Bubble Tea Shop           Salad Place       Thai Restaurant   \n",
       "\n",
       "  8th Most Common Venue       9th Most Common Venue 10th Most Common Venue  \n",
       "0              Pharmacy                 Cheese Shop                    Pub  \n",
       "1                Bakery                  Restaurant           Climbing Gym  \n",
       "2        Farmers Market        Fast Food Restaurant                 Garden  \n",
       "3       Harbor / Marina            Sculpture Garden           Airport Gate  \n",
       "4          Burger Joint  Modern European Restaurant    Japanese Restaurant  "
      ],
      "text/html": "<div>\n<style scoped>\n    .dataframe tbody tr th:only-of-type {\n        vertical-align: middle;\n    }\n\n    .dataframe tbody tr th {\n        vertical-align: top;\n    }\n\n    .dataframe thead th {\n        text-align: right;\n    }\n</style>\n<table border=\"1\" class=\"dataframe\">\n  <thead>\n    <tr style=\"text-align: right;\">\n      <th></th>\n      <th>Neighbourhood</th>\n      <th>1st Most Common Venue</th>\n      <th>2nd Most Common Venue</th>\n      <th>3rd Most Common Venue</th>\n      <th>4th Most Common Venue</th>\n      <th>5th Most Common Venue</th>\n      <th>6th Most Common Venue</th>\n      <th>7th Most Common Venue</th>\n      <th>8th Most Common Venue</th>\n      <th>9th Most Common Venue</th>\n      <th>10th Most Common Venue</th>\n    </tr>\n  </thead>\n  <tbody>\n    <tr>\n      <th>0</th>\n      <td>Berczy Park</td>\n      <td>Coffee Shop</td>\n      <td>Cocktail Bar</td>\n      <td>Beer Bar</td>\n      <td>Farmers Market</td>\n      <td>Bakery</td>\n      <td>Seafood Restaurant</td>\n      <td>Restaurant</td>\n      <td>Pharmacy</td>\n      <td>Cheese Shop</td>\n      <td>Pub</td>\n    </tr>\n    <tr>\n      <th>1</th>\n      <td>Brockton, Parkdale Village, Exhibition Place</td>\n      <td>Café</td>\n      <td>Breakfast Spot</td>\n      <td>Coffee Shop</td>\n      <td>Furniture / Home Store</td>\n      <td>Office</td>\n      <td>Bar</td>\n      <td>Intersection</td>\n      <td>Bakery</td>\n      <td>Restaurant</td>\n      <td>Climbing Gym</td>\n    </tr>\n    <tr>\n      <th>2</th>\n      <td>Business reply mail Processing Centre, South C...</td>\n      <td>Light Rail Station</td>\n      <td>Yoga Studio</td>\n      <td>Skate Park</td>\n      <td>Auto Workshop</td>\n      <td>Brewery</td>\n      <td>Burrito Place</td>\n      <td>Comic Shop</td>\n      <td>Farmers Market</td>\n      <td>Fast Food Restaurant</td>\n      <td>Garden</td>\n    </tr>\n    <tr>\n      <th>3</th>\n      <td>CN Tower, King and Spadina, Railway Lands, Har...</td>\n      <td>Airport Service</td>\n      <td>Airport Terminal</td>\n      <td>Airport Lounge</td>\n      <td>Boat or Ferry</td>\n      <td>Rental Car Location</td>\n      <td>Bar</td>\n      <td>Plane</td>\n      <td>Harbor / Marina</td>\n      <td>Sculpture Garden</td>\n      <td>Airport Gate</td>\n    </tr>\n    <tr>\n      <th>4</th>\n      <td>Central Bay Street</td>\n      <td>Coffee Shop</td>\n      <td>Sandwich Place</td>\n      <td>Café</td>\n      <td>Italian Restaurant</td>\n      <td>Bubble Tea Shop</td>\n      <td>Salad Place</td>\n      <td>Thai Restaurant</td>\n      <td>Burger Joint</td>\n      <td>Modern European Restaurant</td>\n      <td>Japanese Restaurant</td>\n    </tr>\n  </tbody>\n</table>\n</div>"
     },
     "metadata": {},
     "execution_count": 53
    }
   ],
   "source": [
    "num_top_venues = 10\n",
    "\n",
    "indicators = ['st', 'nd', 'rd']\n",
    "\n",
    "# create columns according to number of top venues\n",
    "columns = ['Neighbourhood']\n",
    "for ind in np.arange(num_top_venues):\n",
    "    try:\n",
    "        columns.append('{}{} Most Common Venue'.format(ind+1, indicators[ind]))\n",
    "    except:\n",
    "        columns.append('{}th Most Common Venue'.format(ind+1))\n",
    "\n",
    "# create a new dataframe\n",
    "neighborhoods_venues_sorted = pd.DataFrame(columns=columns)\n",
    "neighborhoods_venues_sorted['Neighbourhood'] = toronto_grouped['Neighbourhood']\n",
    "\n",
    "for ind in np.arange(toronto_grouped.shape[0]):\n",
    "    neighborhoods_venues_sorted.iloc[ind, 1:] = return_most_common_venues(toronto_grouped.iloc[ind, :], num_top_venues)\n",
    "\n",
    "neighborhoods_venues_sorted.head()"
   ]
  },
  {
   "source": [
    "### Determing optimal number of cluster for k-Means clustering\n",
    "\n",
    "The elbow method is used with the graph below to choose a suitable number of clusters. I chose 20 as a good number."
   ],
   "cell_type": "markdown",
   "metadata": {}
  },
  {
   "cell_type": "code",
   "execution_count": 54,
   "metadata": {},
   "outputs": [],
   "source": [
    "mms = MinMaxScaler()\n",
    "toronto_grouped_clustering = toronto_grouped.drop('Neighbourhood', 1)\n",
    "mms.fit(toronto_grouped_clustering)\n",
    "data_transformed = mms.transform(toronto_grouped_clustering)"
   ]
  },
  {
   "cell_type": "code",
   "execution_count": 55,
   "metadata": {},
   "outputs": [],
   "source": [
    "Sum_of_squared_distances = []\n",
    "K = range(1,40)\n",
    "for k in K:\n",
    "    km = KMeans(n_clusters=k)\n",
    "    km = km.fit(toronto_grouped_clustering)\n",
    "    Sum_of_squared_distances.append(km.inertia_)"
   ]
  },
  {
   "cell_type": "code",
   "execution_count": 56,
   "metadata": {},
   "outputs": [
    {
     "output_type": "display_data",
     "data": {
      "text/plain": "<Figure size 432x288 with 1 Axes>",
      "image/svg+xml": "<?xml version=\"1.0\" encoding=\"utf-8\" standalone=\"no\"?>\r\n<!DOCTYPE svg PUBLIC \"-//W3C//DTD SVG 1.1//EN\"\r\n  \"http://www.w3.org/Graphics/SVG/1.1/DTD/svg11.dtd\">\r\n<!-- Created with matplotlib (https://matplotlib.org/) -->\r\n<svg height=\"277.314375pt\" version=\"1.1\" viewBox=\"0 0 386.059375 277.314375\" width=\"386.059375pt\" xmlns=\"http://www.w3.org/2000/svg\" xmlns:xlink=\"http://www.w3.org/1999/xlink\">\r\n <metadata>\r\n  <rdf:RDF xmlns:cc=\"http://creativecommons.org/ns#\" xmlns:dc=\"http://purl.org/dc/elements/1.1/\" xmlns:rdf=\"http://www.w3.org/1999/02/22-rdf-syntax-ns#\">\r\n   <cc:Work>\r\n    <dc:type rdf:resource=\"http://purl.org/dc/dcmitype/StillImage\"/>\r\n    <dc:date>2020-12-29T14:53:44.640791</dc:date>\r\n    <dc:format>image/svg+xml</dc:format>\r\n    <dc:creator>\r\n     <cc:Agent>\r\n      <dc:title>Matplotlib v3.3.3, https://matplotlib.org/</dc:title>\r\n     </cc:Agent>\r\n    </dc:creator>\r\n   </cc:Work>\r\n  </rdf:RDF>\r\n </metadata>\r\n <defs>\r\n  <style type=\"text/css\">*{stroke-linecap:butt;stroke-linejoin:round;}</style>\r\n </defs>\r\n <g id=\"figure_1\">\r\n  <g id=\"patch_1\">\r\n   <path d=\"M 0 277.314375 \r\nL 386.059375 277.314375 \r\nL 386.059375 0 \r\nL 0 0 \r\nz\r\n\" style=\"fill:none;\"/>\r\n  </g>\r\n  <g id=\"axes_1\">\r\n   <g id=\"patch_2\">\r\n    <path d=\"M 44.059375 239.758125 \r\nL 378.859375 239.758125 \r\nL 378.859375 22.318125 \r\nL 44.059375 22.318125 \r\nz\r\n\" style=\"fill:#ffffff;\"/>\r\n   </g>\r\n   <g id=\"matplotlib.axis_1\">\r\n    <g id=\"xtick_1\">\r\n     <g id=\"line2d_1\">\r\n      <defs>\r\n       <path d=\"M 0 0 \r\nL 0 3.5 \r\n\" id=\"m86ad7ffadb\" style=\"stroke:#000000;stroke-width:0.8;\"/>\r\n      </defs>\r\n      <g>\r\n       <use style=\"stroke:#000000;stroke-width:0.8;\" x=\"51.267987\" xlink:href=\"#m86ad7ffadb\" y=\"239.758125\"/>\r\n      </g>\r\n     </g>\r\n     <g id=\"text_1\">\r\n      <!-- 0 -->\r\n      <g transform=\"translate(48.086737 254.356562)scale(0.1 -0.1)\">\r\n       <defs>\r\n        <path d=\"M 31.78125 66.40625 \r\nQ 24.171875 66.40625 20.328125 58.90625 \r\nQ 16.5 51.421875 16.5 36.375 \r\nQ 16.5 21.390625 20.328125 13.890625 \r\nQ 24.171875 6.390625 31.78125 6.390625 \r\nQ 39.453125 6.390625 43.28125 13.890625 \r\nQ 47.125 21.390625 47.125 36.375 \r\nQ 47.125 51.421875 43.28125 58.90625 \r\nQ 39.453125 66.40625 31.78125 66.40625 \r\nz\r\nM 31.78125 74.21875 \r\nQ 44.046875 74.21875 50.515625 64.515625 \r\nQ 56.984375 54.828125 56.984375 36.375 \r\nQ 56.984375 17.96875 50.515625 8.265625 \r\nQ 44.046875 -1.421875 31.78125 -1.421875 \r\nQ 19.53125 -1.421875 13.0625 8.265625 \r\nQ 6.59375 17.96875 6.59375 36.375 \r\nQ 6.59375 54.828125 13.0625 64.515625 \r\nQ 19.53125 74.21875 31.78125 74.21875 \r\nz\r\n\" id=\"DejaVuSans-48\"/>\r\n       </defs>\r\n       <use xlink:href=\"#DejaVuSans-48\"/>\r\n      </g>\r\n     </g>\r\n    </g>\r\n    <g id=\"xtick_2\">\r\n     <g id=\"line2d_2\">\r\n      <g>\r\n       <use style=\"stroke:#000000;stroke-width:0.8;\" x=\"91.315834\" xlink:href=\"#m86ad7ffadb\" y=\"239.758125\"/>\r\n      </g>\r\n     </g>\r\n     <g id=\"text_2\">\r\n      <!-- 5 -->\r\n      <g transform=\"translate(88.134584 254.356562)scale(0.1 -0.1)\">\r\n       <defs>\r\n        <path d=\"M 10.796875 72.90625 \r\nL 49.515625 72.90625 \r\nL 49.515625 64.59375 \r\nL 19.828125 64.59375 \r\nL 19.828125 46.734375 \r\nQ 21.96875 47.46875 24.109375 47.828125 \r\nQ 26.265625 48.1875 28.421875 48.1875 \r\nQ 40.625 48.1875 47.75 41.5 \r\nQ 54.890625 34.8125 54.890625 23.390625 \r\nQ 54.890625 11.625 47.5625 5.09375 \r\nQ 40.234375 -1.421875 26.90625 -1.421875 \r\nQ 22.3125 -1.421875 17.546875 -0.640625 \r\nQ 12.796875 0.140625 7.71875 1.703125 \r\nL 7.71875 11.625 \r\nQ 12.109375 9.234375 16.796875 8.0625 \r\nQ 21.484375 6.890625 26.703125 6.890625 \r\nQ 35.15625 6.890625 40.078125 11.328125 \r\nQ 45.015625 15.765625 45.015625 23.390625 \r\nQ 45.015625 31 40.078125 35.4375 \r\nQ 35.15625 39.890625 26.703125 39.890625 \r\nQ 22.75 39.890625 18.8125 39.015625 \r\nQ 14.890625 38.140625 10.796875 36.28125 \r\nz\r\n\" id=\"DejaVuSans-53\"/>\r\n       </defs>\r\n       <use xlink:href=\"#DejaVuSans-53\"/>\r\n      </g>\r\n     </g>\r\n    </g>\r\n    <g id=\"xtick_3\">\r\n     <g id=\"line2d_3\">\r\n      <g>\r\n       <use style=\"stroke:#000000;stroke-width:0.8;\" x=\"131.363681\" xlink:href=\"#m86ad7ffadb\" y=\"239.758125\"/>\r\n      </g>\r\n     </g>\r\n     <g id=\"text_3\">\r\n      <!-- 10 -->\r\n      <g transform=\"translate(125.001181 254.356562)scale(0.1 -0.1)\">\r\n       <defs>\r\n        <path d=\"M 12.40625 8.296875 \r\nL 28.515625 8.296875 \r\nL 28.515625 63.921875 \r\nL 10.984375 60.40625 \r\nL 10.984375 69.390625 \r\nL 28.421875 72.90625 \r\nL 38.28125 72.90625 \r\nL 38.28125 8.296875 \r\nL 54.390625 8.296875 \r\nL 54.390625 0 \r\nL 12.40625 0 \r\nz\r\n\" id=\"DejaVuSans-49\"/>\r\n       </defs>\r\n       <use xlink:href=\"#DejaVuSans-49\"/>\r\n       <use x=\"63.623047\" xlink:href=\"#DejaVuSans-48\"/>\r\n      </g>\r\n     </g>\r\n    </g>\r\n    <g id=\"xtick_4\">\r\n     <g id=\"line2d_4\">\r\n      <g>\r\n       <use style=\"stroke:#000000;stroke-width:0.8;\" x=\"171.411528\" xlink:href=\"#m86ad7ffadb\" y=\"239.758125\"/>\r\n      </g>\r\n     </g>\r\n     <g id=\"text_4\">\r\n      <!-- 15 -->\r\n      <g transform=\"translate(165.049028 254.356562)scale(0.1 -0.1)\">\r\n       <use xlink:href=\"#DejaVuSans-49\"/>\r\n       <use x=\"63.623047\" xlink:href=\"#DejaVuSans-53\"/>\r\n      </g>\r\n     </g>\r\n    </g>\r\n    <g id=\"xtick_5\">\r\n     <g id=\"line2d_5\">\r\n      <g>\r\n       <use style=\"stroke:#000000;stroke-width:0.8;\" x=\"211.459375\" xlink:href=\"#m86ad7ffadb\" y=\"239.758125\"/>\r\n      </g>\r\n     </g>\r\n     <g id=\"text_5\">\r\n      <!-- 20 -->\r\n      <g transform=\"translate(205.096875 254.356562)scale(0.1 -0.1)\">\r\n       <defs>\r\n        <path d=\"M 19.1875 8.296875 \r\nL 53.609375 8.296875 \r\nL 53.609375 0 \r\nL 7.328125 0 \r\nL 7.328125 8.296875 \r\nQ 12.9375 14.109375 22.625 23.890625 \r\nQ 32.328125 33.6875 34.8125 36.53125 \r\nQ 39.546875 41.84375 41.421875 45.53125 \r\nQ 43.3125 49.21875 43.3125 52.78125 \r\nQ 43.3125 58.59375 39.234375 62.25 \r\nQ 35.15625 65.921875 28.609375 65.921875 \r\nQ 23.96875 65.921875 18.8125 64.3125 \r\nQ 13.671875 62.703125 7.8125 59.421875 \r\nL 7.8125 69.390625 \r\nQ 13.765625 71.78125 18.9375 73 \r\nQ 24.125 74.21875 28.421875 74.21875 \r\nQ 39.75 74.21875 46.484375 68.546875 \r\nQ 53.21875 62.890625 53.21875 53.421875 \r\nQ 53.21875 48.921875 51.53125 44.890625 \r\nQ 49.859375 40.875 45.40625 35.40625 \r\nQ 44.1875 33.984375 37.640625 27.21875 \r\nQ 31.109375 20.453125 19.1875 8.296875 \r\nz\r\n\" id=\"DejaVuSans-50\"/>\r\n       </defs>\r\n       <use xlink:href=\"#DejaVuSans-50\"/>\r\n       <use x=\"63.623047\" xlink:href=\"#DejaVuSans-48\"/>\r\n      </g>\r\n     </g>\r\n    </g>\r\n    <g id=\"xtick_6\">\r\n     <g id=\"line2d_6\">\r\n      <g>\r\n       <use style=\"stroke:#000000;stroke-width:0.8;\" x=\"251.507222\" xlink:href=\"#m86ad7ffadb\" y=\"239.758125\"/>\r\n      </g>\r\n     </g>\r\n     <g id=\"text_6\">\r\n      <!-- 25 -->\r\n      <g transform=\"translate(245.144722 254.356562)scale(0.1 -0.1)\">\r\n       <use xlink:href=\"#DejaVuSans-50\"/>\r\n       <use x=\"63.623047\" xlink:href=\"#DejaVuSans-53\"/>\r\n      </g>\r\n     </g>\r\n    </g>\r\n    <g id=\"xtick_7\">\r\n     <g id=\"line2d_7\">\r\n      <g>\r\n       <use style=\"stroke:#000000;stroke-width:0.8;\" x=\"291.555069\" xlink:href=\"#m86ad7ffadb\" y=\"239.758125\"/>\r\n      </g>\r\n     </g>\r\n     <g id=\"text_7\">\r\n      <!-- 30 -->\r\n      <g transform=\"translate(285.192569 254.356562)scale(0.1 -0.1)\">\r\n       <defs>\r\n        <path d=\"M 40.578125 39.3125 \r\nQ 47.65625 37.796875 51.625 33 \r\nQ 55.609375 28.21875 55.609375 21.1875 \r\nQ 55.609375 10.40625 48.1875 4.484375 \r\nQ 40.765625 -1.421875 27.09375 -1.421875 \r\nQ 22.515625 -1.421875 17.65625 -0.515625 \r\nQ 12.796875 0.390625 7.625 2.203125 \r\nL 7.625 11.71875 \r\nQ 11.71875 9.328125 16.59375 8.109375 \r\nQ 21.484375 6.890625 26.8125 6.890625 \r\nQ 36.078125 6.890625 40.9375 10.546875 \r\nQ 45.796875 14.203125 45.796875 21.1875 \r\nQ 45.796875 27.640625 41.28125 31.265625 \r\nQ 36.765625 34.90625 28.71875 34.90625 \r\nL 20.21875 34.90625 \r\nL 20.21875 43.015625 \r\nL 29.109375 43.015625 \r\nQ 36.375 43.015625 40.234375 45.921875 \r\nQ 44.09375 48.828125 44.09375 54.296875 \r\nQ 44.09375 59.90625 40.109375 62.90625 \r\nQ 36.140625 65.921875 28.71875 65.921875 \r\nQ 24.65625 65.921875 20.015625 65.03125 \r\nQ 15.375 64.15625 9.8125 62.3125 \r\nL 9.8125 71.09375 \r\nQ 15.4375 72.65625 20.34375 73.4375 \r\nQ 25.25 74.21875 29.59375 74.21875 \r\nQ 40.828125 74.21875 47.359375 69.109375 \r\nQ 53.90625 64.015625 53.90625 55.328125 \r\nQ 53.90625 49.265625 50.4375 45.09375 \r\nQ 46.96875 40.921875 40.578125 39.3125 \r\nz\r\n\" id=\"DejaVuSans-51\"/>\r\n       </defs>\r\n       <use xlink:href=\"#DejaVuSans-51\"/>\r\n       <use x=\"63.623047\" xlink:href=\"#DejaVuSans-48\"/>\r\n      </g>\r\n     </g>\r\n    </g>\r\n    <g id=\"xtick_8\">\r\n     <g id=\"line2d_8\">\r\n      <g>\r\n       <use style=\"stroke:#000000;stroke-width:0.8;\" x=\"331.602916\" xlink:href=\"#m86ad7ffadb\" y=\"239.758125\"/>\r\n      </g>\r\n     </g>\r\n     <g id=\"text_8\">\r\n      <!-- 35 -->\r\n      <g transform=\"translate(325.240416 254.356562)scale(0.1 -0.1)\">\r\n       <use xlink:href=\"#DejaVuSans-51\"/>\r\n       <use x=\"63.623047\" xlink:href=\"#DejaVuSans-53\"/>\r\n      </g>\r\n     </g>\r\n    </g>\r\n    <g id=\"xtick_9\">\r\n     <g id=\"line2d_9\">\r\n      <g>\r\n       <use style=\"stroke:#000000;stroke-width:0.8;\" x=\"371.650763\" xlink:href=\"#m86ad7ffadb\" y=\"239.758125\"/>\r\n      </g>\r\n     </g>\r\n     <g id=\"text_9\">\r\n      <!-- 40 -->\r\n      <g transform=\"translate(365.288263 254.356562)scale(0.1 -0.1)\">\r\n       <defs>\r\n        <path d=\"M 37.796875 64.3125 \r\nL 12.890625 25.390625 \r\nL 37.796875 25.390625 \r\nz\r\nM 35.203125 72.90625 \r\nL 47.609375 72.90625 \r\nL 47.609375 25.390625 \r\nL 58.015625 25.390625 \r\nL 58.015625 17.1875 \r\nL 47.609375 17.1875 \r\nL 47.609375 0 \r\nL 37.796875 0 \r\nL 37.796875 17.1875 \r\nL 4.890625 17.1875 \r\nL 4.890625 26.703125 \r\nz\r\n\" id=\"DejaVuSans-52\"/>\r\n       </defs>\r\n       <use xlink:href=\"#DejaVuSans-52\"/>\r\n       <use x=\"63.623047\" xlink:href=\"#DejaVuSans-48\"/>\r\n      </g>\r\n     </g>\r\n    </g>\r\n    <g id=\"text_10\">\r\n     <!-- k -->\r\n     <g transform=\"translate(208.564063 268.034687)scale(0.1 -0.1)\">\r\n      <defs>\r\n       <path d=\"M 9.078125 75.984375 \r\nL 18.109375 75.984375 \r\nL 18.109375 31.109375 \r\nL 44.921875 54.6875 \r\nL 56.390625 54.6875 \r\nL 27.390625 29.109375 \r\nL 57.625 0 \r\nL 45.90625 0 \r\nL 18.109375 26.703125 \r\nL 18.109375 0 \r\nL 9.078125 0 \r\nz\r\n\" id=\"DejaVuSans-107\"/>\r\n      </defs>\r\n      <use xlink:href=\"#DejaVuSans-107\"/>\r\n     </g>\r\n    </g>\r\n   </g>\r\n   <g id=\"matplotlib.axis_2\">\r\n    <g id=\"ytick_1\">\r\n     <g id=\"line2d_10\">\r\n      <defs>\r\n       <path d=\"M 0 0 \r\nL -3.5 0 \r\n\" id=\"me4f8ee996a\" style=\"stroke:#000000;stroke-width:0.8;\"/>\r\n      </defs>\r\n      <g>\r\n       <use style=\"stroke:#000000;stroke-width:0.8;\" x=\"44.059375\" xlink:href=\"#me4f8ee996a\" y=\"229.874489\"/>\r\n      </g>\r\n     </g>\r\n     <g id=\"text_11\">\r\n      <!-- 0.0 -->\r\n      <g transform=\"translate(21.15625 233.673707)scale(0.1 -0.1)\">\r\n       <defs>\r\n        <path d=\"M 10.6875 12.40625 \r\nL 21 12.40625 \r\nL 21 0 \r\nL 10.6875 0 \r\nz\r\n\" id=\"DejaVuSans-46\"/>\r\n       </defs>\r\n       <use xlink:href=\"#DejaVuSans-48\"/>\r\n       <use x=\"63.623047\" xlink:href=\"#DejaVuSans-46\"/>\r\n       <use x=\"95.410156\" xlink:href=\"#DejaVuSans-48\"/>\r\n      </g>\r\n     </g>\r\n    </g>\r\n    <g id=\"ytick_2\">\r\n     <g id=\"line2d_11\">\r\n      <g>\r\n       <use style=\"stroke:#000000;stroke-width:0.8;\" x=\"44.059375\" xlink:href=\"#me4f8ee996a\" y=\"197.182254\"/>\r\n      </g>\r\n     </g>\r\n     <g id=\"text_12\">\r\n      <!-- 0.5 -->\r\n      <g transform=\"translate(21.15625 200.981473)scale(0.1 -0.1)\">\r\n       <use xlink:href=\"#DejaVuSans-48\"/>\r\n       <use x=\"63.623047\" xlink:href=\"#DejaVuSans-46\"/>\r\n       <use x=\"95.410156\" xlink:href=\"#DejaVuSans-53\"/>\r\n      </g>\r\n     </g>\r\n    </g>\r\n    <g id=\"ytick_3\">\r\n     <g id=\"line2d_12\">\r\n      <g>\r\n       <use style=\"stroke:#000000;stroke-width:0.8;\" x=\"44.059375\" xlink:href=\"#me4f8ee996a\" y=\"164.490019\"/>\r\n      </g>\r\n     </g>\r\n     <g id=\"text_13\">\r\n      <!-- 1.0 -->\r\n      <g transform=\"translate(21.15625 168.289238)scale(0.1 -0.1)\">\r\n       <use xlink:href=\"#DejaVuSans-49\"/>\r\n       <use x=\"63.623047\" xlink:href=\"#DejaVuSans-46\"/>\r\n       <use x=\"95.410156\" xlink:href=\"#DejaVuSans-48\"/>\r\n      </g>\r\n     </g>\r\n    </g>\r\n    <g id=\"ytick_4\">\r\n     <g id=\"line2d_13\">\r\n      <g>\r\n       <use style=\"stroke:#000000;stroke-width:0.8;\" x=\"44.059375\" xlink:href=\"#me4f8ee996a\" y=\"131.797784\"/>\r\n      </g>\r\n     </g>\r\n     <g id=\"text_14\">\r\n      <!-- 1.5 -->\r\n      <g transform=\"translate(21.15625 135.597003)scale(0.1 -0.1)\">\r\n       <use xlink:href=\"#DejaVuSans-49\"/>\r\n       <use x=\"63.623047\" xlink:href=\"#DejaVuSans-46\"/>\r\n       <use x=\"95.410156\" xlink:href=\"#DejaVuSans-53\"/>\r\n      </g>\r\n     </g>\r\n    </g>\r\n    <g id=\"ytick_5\">\r\n     <g id=\"line2d_14\">\r\n      <g>\r\n       <use style=\"stroke:#000000;stroke-width:0.8;\" x=\"44.059375\" xlink:href=\"#me4f8ee996a\" y=\"99.105549\"/>\r\n      </g>\r\n     </g>\r\n     <g id=\"text_15\">\r\n      <!-- 2.0 -->\r\n      <g transform=\"translate(21.15625 102.904768)scale(0.1 -0.1)\">\r\n       <use xlink:href=\"#DejaVuSans-50\"/>\r\n       <use x=\"63.623047\" xlink:href=\"#DejaVuSans-46\"/>\r\n       <use x=\"95.410156\" xlink:href=\"#DejaVuSans-48\"/>\r\n      </g>\r\n     </g>\r\n    </g>\r\n    <g id=\"ytick_6\">\r\n     <g id=\"line2d_15\">\r\n      <g>\r\n       <use style=\"stroke:#000000;stroke-width:0.8;\" x=\"44.059375\" xlink:href=\"#me4f8ee996a\" y=\"66.413314\"/>\r\n      </g>\r\n     </g>\r\n     <g id=\"text_16\">\r\n      <!-- 2.5 -->\r\n      <g transform=\"translate(21.15625 70.212533)scale(0.1 -0.1)\">\r\n       <use xlink:href=\"#DejaVuSans-50\"/>\r\n       <use x=\"63.623047\" xlink:href=\"#DejaVuSans-46\"/>\r\n       <use x=\"95.410156\" xlink:href=\"#DejaVuSans-53\"/>\r\n      </g>\r\n     </g>\r\n    </g>\r\n    <g id=\"ytick_7\">\r\n     <g id=\"line2d_16\">\r\n      <g>\r\n       <use style=\"stroke:#000000;stroke-width:0.8;\" x=\"44.059375\" xlink:href=\"#me4f8ee996a\" y=\"33.721079\"/>\r\n      </g>\r\n     </g>\r\n     <g id=\"text_17\">\r\n      <!-- 3.0 -->\r\n      <g transform=\"translate(21.15625 37.520298)scale(0.1 -0.1)\">\r\n       <use xlink:href=\"#DejaVuSans-51\"/>\r\n       <use x=\"63.623047\" xlink:href=\"#DejaVuSans-46\"/>\r\n       <use x=\"95.410156\" xlink:href=\"#DejaVuSans-48\"/>\r\n      </g>\r\n     </g>\r\n    </g>\r\n    <g id=\"text_18\">\r\n     <!-- Sum_of_squared_distances -->\r\n     <g transform=\"translate(14.798438 198.567813)rotate(-90)scale(0.1 -0.1)\">\r\n      <defs>\r\n       <path d=\"M 53.515625 70.515625 \r\nL 53.515625 60.890625 \r\nQ 47.90625 63.578125 42.921875 64.890625 \r\nQ 37.9375 66.21875 33.296875 66.21875 \r\nQ 25.25 66.21875 20.875 63.09375 \r\nQ 16.5 59.96875 16.5 54.203125 \r\nQ 16.5 49.359375 19.40625 46.890625 \r\nQ 22.3125 44.4375 30.421875 42.921875 \r\nL 36.375 41.703125 \r\nQ 47.40625 39.59375 52.65625 34.296875 \r\nQ 57.90625 29 57.90625 20.125 \r\nQ 57.90625 9.515625 50.796875 4.046875 \r\nQ 43.703125 -1.421875 29.984375 -1.421875 \r\nQ 24.8125 -1.421875 18.96875 -0.25 \r\nQ 13.140625 0.921875 6.890625 3.21875 \r\nL 6.890625 13.375 \r\nQ 12.890625 10.015625 18.65625 8.296875 \r\nQ 24.421875 6.59375 29.984375 6.59375 \r\nQ 38.421875 6.59375 43.015625 9.90625 \r\nQ 47.609375 13.234375 47.609375 19.390625 \r\nQ 47.609375 24.75 44.3125 27.78125 \r\nQ 41.015625 30.8125 33.5 32.328125 \r\nL 27.484375 33.5 \r\nQ 16.453125 35.6875 11.515625 40.375 \r\nQ 6.59375 45.0625 6.59375 53.421875 \r\nQ 6.59375 63.09375 13.40625 68.65625 \r\nQ 20.21875 74.21875 32.171875 74.21875 \r\nQ 37.3125 74.21875 42.625 73.28125 \r\nQ 47.953125 72.359375 53.515625 70.515625 \r\nz\r\n\" id=\"DejaVuSans-83\"/>\r\n       <path d=\"M 8.5 21.578125 \r\nL 8.5 54.6875 \r\nL 17.484375 54.6875 \r\nL 17.484375 21.921875 \r\nQ 17.484375 14.15625 20.5 10.265625 \r\nQ 23.53125 6.390625 29.59375 6.390625 \r\nQ 36.859375 6.390625 41.078125 11.03125 \r\nQ 45.3125 15.671875 45.3125 23.6875 \r\nL 45.3125 54.6875 \r\nL 54.296875 54.6875 \r\nL 54.296875 0 \r\nL 45.3125 0 \r\nL 45.3125 8.40625 \r\nQ 42.046875 3.421875 37.71875 1 \r\nQ 33.40625 -1.421875 27.6875 -1.421875 \r\nQ 18.265625 -1.421875 13.375 4.4375 \r\nQ 8.5 10.296875 8.5 21.578125 \r\nz\r\nM 31.109375 56 \r\nz\r\n\" id=\"DejaVuSans-117\"/>\r\n       <path d=\"M 52 44.1875 \r\nQ 55.375 50.25 60.0625 53.125 \r\nQ 64.75 56 71.09375 56 \r\nQ 79.640625 56 84.28125 50.015625 \r\nQ 88.921875 44.046875 88.921875 33.015625 \r\nL 88.921875 0 \r\nL 79.890625 0 \r\nL 79.890625 32.71875 \r\nQ 79.890625 40.578125 77.09375 44.375 \r\nQ 74.3125 48.1875 68.609375 48.1875 \r\nQ 61.625 48.1875 57.5625 43.546875 \r\nQ 53.515625 38.921875 53.515625 30.90625 \r\nL 53.515625 0 \r\nL 44.484375 0 \r\nL 44.484375 32.71875 \r\nQ 44.484375 40.625 41.703125 44.40625 \r\nQ 38.921875 48.1875 33.109375 48.1875 \r\nQ 26.21875 48.1875 22.15625 43.53125 \r\nQ 18.109375 38.875 18.109375 30.90625 \r\nL 18.109375 0 \r\nL 9.078125 0 \r\nL 9.078125 54.6875 \r\nL 18.109375 54.6875 \r\nL 18.109375 46.1875 \r\nQ 21.1875 51.21875 25.484375 53.609375 \r\nQ 29.78125 56 35.6875 56 \r\nQ 41.65625 56 45.828125 52.96875 \r\nQ 50 49.953125 52 44.1875 \r\nz\r\n\" id=\"DejaVuSans-109\"/>\r\n       <path d=\"M 50.984375 -16.609375 \r\nL 50.984375 -23.578125 \r\nL -0.984375 -23.578125 \r\nL -0.984375 -16.609375 \r\nz\r\n\" id=\"DejaVuSans-95\"/>\r\n       <path d=\"M 30.609375 48.390625 \r\nQ 23.390625 48.390625 19.1875 42.75 \r\nQ 14.984375 37.109375 14.984375 27.296875 \r\nQ 14.984375 17.484375 19.15625 11.84375 \r\nQ 23.34375 6.203125 30.609375 6.203125 \r\nQ 37.796875 6.203125 41.984375 11.859375 \r\nQ 46.1875 17.53125 46.1875 27.296875 \r\nQ 46.1875 37.015625 41.984375 42.703125 \r\nQ 37.796875 48.390625 30.609375 48.390625 \r\nz\r\nM 30.609375 56 \r\nQ 42.328125 56 49.015625 48.375 \r\nQ 55.71875 40.765625 55.71875 27.296875 \r\nQ 55.71875 13.875 49.015625 6.21875 \r\nQ 42.328125 -1.421875 30.609375 -1.421875 \r\nQ 18.84375 -1.421875 12.171875 6.21875 \r\nQ 5.515625 13.875 5.515625 27.296875 \r\nQ 5.515625 40.765625 12.171875 48.375 \r\nQ 18.84375 56 30.609375 56 \r\nz\r\n\" id=\"DejaVuSans-111\"/>\r\n       <path d=\"M 37.109375 75.984375 \r\nL 37.109375 68.5 \r\nL 28.515625 68.5 \r\nQ 23.6875 68.5 21.796875 66.546875 \r\nQ 19.921875 64.59375 19.921875 59.515625 \r\nL 19.921875 54.6875 \r\nL 34.71875 54.6875 \r\nL 34.71875 47.703125 \r\nL 19.921875 47.703125 \r\nL 19.921875 0 \r\nL 10.890625 0 \r\nL 10.890625 47.703125 \r\nL 2.296875 47.703125 \r\nL 2.296875 54.6875 \r\nL 10.890625 54.6875 \r\nL 10.890625 58.5 \r\nQ 10.890625 67.625 15.140625 71.796875 \r\nQ 19.390625 75.984375 28.609375 75.984375 \r\nz\r\n\" id=\"DejaVuSans-102\"/>\r\n       <path d=\"M 44.28125 53.078125 \r\nL 44.28125 44.578125 \r\nQ 40.484375 46.53125 36.375 47.5 \r\nQ 32.28125 48.484375 27.875 48.484375 \r\nQ 21.1875 48.484375 17.84375 46.4375 \r\nQ 14.5 44.390625 14.5 40.28125 \r\nQ 14.5 37.15625 16.890625 35.375 \r\nQ 19.28125 33.59375 26.515625 31.984375 \r\nL 29.59375 31.296875 \r\nQ 39.15625 29.25 43.1875 25.515625 \r\nQ 47.21875 21.78125 47.21875 15.09375 \r\nQ 47.21875 7.46875 41.1875 3.015625 \r\nQ 35.15625 -1.421875 24.609375 -1.421875 \r\nQ 20.21875 -1.421875 15.453125 -0.5625 \r\nQ 10.6875 0.296875 5.421875 2 \r\nL 5.421875 11.28125 \r\nQ 10.40625 8.6875 15.234375 7.390625 \r\nQ 20.0625 6.109375 24.8125 6.109375 \r\nQ 31.15625 6.109375 34.5625 8.28125 \r\nQ 37.984375 10.453125 37.984375 14.40625 \r\nQ 37.984375 18.0625 35.515625 20.015625 \r\nQ 33.0625 21.96875 24.703125 23.78125 \r\nL 21.578125 24.515625 \r\nQ 13.234375 26.265625 9.515625 29.90625 \r\nQ 5.8125 33.546875 5.8125 39.890625 \r\nQ 5.8125 47.609375 11.28125 51.796875 \r\nQ 16.75 56 26.8125 56 \r\nQ 31.78125 56 36.171875 55.265625 \r\nQ 40.578125 54.546875 44.28125 53.078125 \r\nz\r\n\" id=\"DejaVuSans-115\"/>\r\n       <path d=\"M 14.796875 27.296875 \r\nQ 14.796875 17.390625 18.875 11.75 \r\nQ 22.953125 6.109375 30.078125 6.109375 \r\nQ 37.203125 6.109375 41.296875 11.75 \r\nQ 45.40625 17.390625 45.40625 27.296875 \r\nQ 45.40625 37.203125 41.296875 42.84375 \r\nQ 37.203125 48.484375 30.078125 48.484375 \r\nQ 22.953125 48.484375 18.875 42.84375 \r\nQ 14.796875 37.203125 14.796875 27.296875 \r\nz\r\nM 45.40625 8.203125 \r\nQ 42.578125 3.328125 38.25 0.953125 \r\nQ 33.9375 -1.421875 27.875 -1.421875 \r\nQ 17.96875 -1.421875 11.734375 6.484375 \r\nQ 5.515625 14.40625 5.515625 27.296875 \r\nQ 5.515625 40.1875 11.734375 48.09375 \r\nQ 17.96875 56 27.875 56 \r\nQ 33.9375 56 38.25 53.625 \r\nQ 42.578125 51.265625 45.40625 46.390625 \r\nL 45.40625 54.6875 \r\nL 54.390625 54.6875 \r\nL 54.390625 -20.796875 \r\nL 45.40625 -20.796875 \r\nz\r\n\" id=\"DejaVuSans-113\"/>\r\n       <path d=\"M 34.28125 27.484375 \r\nQ 23.390625 27.484375 19.1875 25 \r\nQ 14.984375 22.515625 14.984375 16.5 \r\nQ 14.984375 11.71875 18.140625 8.90625 \r\nQ 21.296875 6.109375 26.703125 6.109375 \r\nQ 34.1875 6.109375 38.703125 11.40625 \r\nQ 43.21875 16.703125 43.21875 25.484375 \r\nL 43.21875 27.484375 \r\nz\r\nM 52.203125 31.203125 \r\nL 52.203125 0 \r\nL 43.21875 0 \r\nL 43.21875 8.296875 \r\nQ 40.140625 3.328125 35.546875 0.953125 \r\nQ 30.953125 -1.421875 24.3125 -1.421875 \r\nQ 15.921875 -1.421875 10.953125 3.296875 \r\nQ 6 8.015625 6 15.921875 \r\nQ 6 25.140625 12.171875 29.828125 \r\nQ 18.359375 34.515625 30.609375 34.515625 \r\nL 43.21875 34.515625 \r\nL 43.21875 35.40625 \r\nQ 43.21875 41.609375 39.140625 45 \r\nQ 35.0625 48.390625 27.6875 48.390625 \r\nQ 23 48.390625 18.546875 47.265625 \r\nQ 14.109375 46.140625 10.015625 43.890625 \r\nL 10.015625 52.203125 \r\nQ 14.9375 54.109375 19.578125 55.046875 \r\nQ 24.21875 56 28.609375 56 \r\nQ 40.484375 56 46.34375 49.84375 \r\nQ 52.203125 43.703125 52.203125 31.203125 \r\nz\r\n\" id=\"DejaVuSans-97\"/>\r\n       <path d=\"M 41.109375 46.296875 \r\nQ 39.59375 47.171875 37.8125 47.578125 \r\nQ 36.03125 48 33.890625 48 \r\nQ 26.265625 48 22.1875 43.046875 \r\nQ 18.109375 38.09375 18.109375 28.8125 \r\nL 18.109375 0 \r\nL 9.078125 0 \r\nL 9.078125 54.6875 \r\nL 18.109375 54.6875 \r\nL 18.109375 46.1875 \r\nQ 20.953125 51.171875 25.484375 53.578125 \r\nQ 30.03125 56 36.53125 56 \r\nQ 37.453125 56 38.578125 55.875 \r\nQ 39.703125 55.765625 41.0625 55.515625 \r\nz\r\n\" id=\"DejaVuSans-114\"/>\r\n       <path d=\"M 56.203125 29.59375 \r\nL 56.203125 25.203125 \r\nL 14.890625 25.203125 \r\nQ 15.484375 15.921875 20.484375 11.0625 \r\nQ 25.484375 6.203125 34.421875 6.203125 \r\nQ 39.59375 6.203125 44.453125 7.46875 \r\nQ 49.3125 8.734375 54.109375 11.28125 \r\nL 54.109375 2.78125 \r\nQ 49.265625 0.734375 44.1875 -0.34375 \r\nQ 39.109375 -1.421875 33.890625 -1.421875 \r\nQ 20.796875 -1.421875 13.15625 6.1875 \r\nQ 5.515625 13.8125 5.515625 26.8125 \r\nQ 5.515625 40.234375 12.765625 48.109375 \r\nQ 20.015625 56 32.328125 56 \r\nQ 43.359375 56 49.78125 48.890625 \r\nQ 56.203125 41.796875 56.203125 29.59375 \r\nz\r\nM 47.21875 32.234375 \r\nQ 47.125 39.59375 43.09375 43.984375 \r\nQ 39.0625 48.390625 32.421875 48.390625 \r\nQ 24.90625 48.390625 20.390625 44.140625 \r\nQ 15.875 39.890625 15.1875 32.171875 \r\nz\r\n\" id=\"DejaVuSans-101\"/>\r\n       <path d=\"M 45.40625 46.390625 \r\nL 45.40625 75.984375 \r\nL 54.390625 75.984375 \r\nL 54.390625 0 \r\nL 45.40625 0 \r\nL 45.40625 8.203125 \r\nQ 42.578125 3.328125 38.25 0.953125 \r\nQ 33.9375 -1.421875 27.875 -1.421875 \r\nQ 17.96875 -1.421875 11.734375 6.484375 \r\nQ 5.515625 14.40625 5.515625 27.296875 \r\nQ 5.515625 40.1875 11.734375 48.09375 \r\nQ 17.96875 56 27.875 56 \r\nQ 33.9375 56 38.25 53.625 \r\nQ 42.578125 51.265625 45.40625 46.390625 \r\nz\r\nM 14.796875 27.296875 \r\nQ 14.796875 17.390625 18.875 11.75 \r\nQ 22.953125 6.109375 30.078125 6.109375 \r\nQ 37.203125 6.109375 41.296875 11.75 \r\nQ 45.40625 17.390625 45.40625 27.296875 \r\nQ 45.40625 37.203125 41.296875 42.84375 \r\nQ 37.203125 48.484375 30.078125 48.484375 \r\nQ 22.953125 48.484375 18.875 42.84375 \r\nQ 14.796875 37.203125 14.796875 27.296875 \r\nz\r\n\" id=\"DejaVuSans-100\"/>\r\n       <path d=\"M 9.421875 54.6875 \r\nL 18.40625 54.6875 \r\nL 18.40625 0 \r\nL 9.421875 0 \r\nz\r\nM 9.421875 75.984375 \r\nL 18.40625 75.984375 \r\nL 18.40625 64.59375 \r\nL 9.421875 64.59375 \r\nz\r\n\" id=\"DejaVuSans-105\"/>\r\n       <path d=\"M 18.3125 70.21875 \r\nL 18.3125 54.6875 \r\nL 36.8125 54.6875 \r\nL 36.8125 47.703125 \r\nL 18.3125 47.703125 \r\nL 18.3125 18.015625 \r\nQ 18.3125 11.328125 20.140625 9.421875 \r\nQ 21.96875 7.515625 27.59375 7.515625 \r\nL 36.8125 7.515625 \r\nL 36.8125 0 \r\nL 27.59375 0 \r\nQ 17.1875 0 13.234375 3.875 \r\nQ 9.28125 7.765625 9.28125 18.015625 \r\nL 9.28125 47.703125 \r\nL 2.6875 47.703125 \r\nL 2.6875 54.6875 \r\nL 9.28125 54.6875 \r\nL 9.28125 70.21875 \r\nz\r\n\" id=\"DejaVuSans-116\"/>\r\n       <path d=\"M 54.890625 33.015625 \r\nL 54.890625 0 \r\nL 45.90625 0 \r\nL 45.90625 32.71875 \r\nQ 45.90625 40.484375 42.875 44.328125 \r\nQ 39.84375 48.1875 33.796875 48.1875 \r\nQ 26.515625 48.1875 22.3125 43.546875 \r\nQ 18.109375 38.921875 18.109375 30.90625 \r\nL 18.109375 0 \r\nL 9.078125 0 \r\nL 9.078125 54.6875 \r\nL 18.109375 54.6875 \r\nL 18.109375 46.1875 \r\nQ 21.34375 51.125 25.703125 53.5625 \r\nQ 30.078125 56 35.796875 56 \r\nQ 45.21875 56 50.046875 50.171875 \r\nQ 54.890625 44.34375 54.890625 33.015625 \r\nz\r\n\" id=\"DejaVuSans-110\"/>\r\n       <path d=\"M 48.78125 52.59375 \r\nL 48.78125 44.1875 \r\nQ 44.96875 46.296875 41.140625 47.34375 \r\nQ 37.3125 48.390625 33.40625 48.390625 \r\nQ 24.65625 48.390625 19.8125 42.84375 \r\nQ 14.984375 37.3125 14.984375 27.296875 \r\nQ 14.984375 17.28125 19.8125 11.734375 \r\nQ 24.65625 6.203125 33.40625 6.203125 \r\nQ 37.3125 6.203125 41.140625 7.25 \r\nQ 44.96875 8.296875 48.78125 10.40625 \r\nL 48.78125 2.09375 \r\nQ 45.015625 0.34375 40.984375 -0.53125 \r\nQ 36.96875 -1.421875 32.421875 -1.421875 \r\nQ 20.0625 -1.421875 12.78125 6.34375 \r\nQ 5.515625 14.109375 5.515625 27.296875 \r\nQ 5.515625 40.671875 12.859375 48.328125 \r\nQ 20.21875 56 33.015625 56 \r\nQ 37.15625 56 41.109375 55.140625 \r\nQ 45.0625 54.296875 48.78125 52.59375 \r\nz\r\n\" id=\"DejaVuSans-99\"/>\r\n      </defs>\r\n      <use xlink:href=\"#DejaVuSans-83\"/>\r\n      <use x=\"63.476562\" xlink:href=\"#DejaVuSans-117\"/>\r\n      <use x=\"126.855469\" xlink:href=\"#DejaVuSans-109\"/>\r\n      <use x=\"224.267578\" xlink:href=\"#DejaVuSans-95\"/>\r\n      <use x=\"274.267578\" xlink:href=\"#DejaVuSans-111\"/>\r\n      <use x=\"335.449219\" xlink:href=\"#DejaVuSans-102\"/>\r\n      <use x=\"370.654297\" xlink:href=\"#DejaVuSans-95\"/>\r\n      <use x=\"420.654297\" xlink:href=\"#DejaVuSans-115\"/>\r\n      <use x=\"472.753906\" xlink:href=\"#DejaVuSans-113\"/>\r\n      <use x=\"536.230469\" xlink:href=\"#DejaVuSans-117\"/>\r\n      <use x=\"599.609375\" xlink:href=\"#DejaVuSans-97\"/>\r\n      <use x=\"660.888672\" xlink:href=\"#DejaVuSans-114\"/>\r\n      <use x=\"699.751953\" xlink:href=\"#DejaVuSans-101\"/>\r\n      <use x=\"761.275391\" xlink:href=\"#DejaVuSans-100\"/>\r\n      <use x=\"824.751953\" xlink:href=\"#DejaVuSans-95\"/>\r\n      <use x=\"874.751953\" xlink:href=\"#DejaVuSans-100\"/>\r\n      <use x=\"938.228516\" xlink:href=\"#DejaVuSans-105\"/>\r\n      <use x=\"966.011719\" xlink:href=\"#DejaVuSans-115\"/>\r\n      <use x=\"1018.111328\" xlink:href=\"#DejaVuSans-116\"/>\r\n      <use x=\"1057.320312\" xlink:href=\"#DejaVuSans-97\"/>\r\n      <use x=\"1118.599609\" xlink:href=\"#DejaVuSans-110\"/>\r\n      <use x=\"1181.978516\" xlink:href=\"#DejaVuSans-99\"/>\r\n      <use x=\"1236.958984\" xlink:href=\"#DejaVuSans-101\"/>\r\n      <use x=\"1298.482422\" xlink:href=\"#DejaVuSans-115\"/>\r\n     </g>\r\n    </g>\r\n   </g>\r\n   <g id=\"line2d_17\">\r\n    <path clip-path=\"url(#pf80d4a7727)\" d=\"M 59.277557 32.201761 \r\nL 67.287126 71.733423 \r\nL 75.296696 88.354312 \r\nL 83.306265 101.093555 \r\nL 91.315834 112.451363 \r\nL 99.325404 124.983104 \r\nL 107.334973 139.907262 \r\nL 115.344542 151.092617 \r\nL 123.354112 161.818067 \r\nL 131.363681 165.922349 \r\nL 139.373251 173.46 \r\nL 147.38282 178.792571 \r\nL 155.392389 183.506817 \r\nL 163.401959 185.545647 \r\nL 171.411528 190.683932 \r\nL 179.421097 193.733738 \r\nL 187.430667 197.242975 \r\nL 195.440236 200.262357 \r\nL 203.449806 203.887613 \r\nL 211.459375 206.689389 \r\nL 219.468944 209.078998 \r\nL 227.478514 211.125029 \r\nL 235.488083 213.733986 \r\nL 243.497653 215.58065 \r\nL 251.507222 217.188907 \r\nL 259.516791 218.813706 \r\nL 267.526361 220.567572 \r\nL 275.53593 221.705447 \r\nL 283.545499 222.418318 \r\nL 291.555069 224.240473 \r\nL 299.564638 225.257766 \r\nL 307.574208 226.314106 \r\nL 315.583777 227.398599 \r\nL 323.593346 228.202342 \r\nL 331.602916 228.763075 \r\nL 339.612485 229.142833 \r\nL 347.622054 229.408079 \r\nL 355.631624 229.65872 \r\nL 363.641193 229.874489 \r\n\" style=\"fill:none;stroke:#0000ff;stroke-linecap:square;stroke-width:1.5;\"/>\r\n    <defs>\r\n     <path d=\"M -3 3 \r\nL 3 -3 \r\nM -3 -3 \r\nL 3 3 \r\n\" id=\"ma3c788fd47\" style=\"stroke:#0000ff;\"/>\r\n    </defs>\r\n    <g clip-path=\"url(#pf80d4a7727)\">\r\n     <use style=\"fill:#0000ff;stroke:#0000ff;\" x=\"59.277557\" xlink:href=\"#ma3c788fd47\" y=\"32.201761\"/>\r\n     <use style=\"fill:#0000ff;stroke:#0000ff;\" x=\"67.287126\" xlink:href=\"#ma3c788fd47\" y=\"71.733423\"/>\r\n     <use style=\"fill:#0000ff;stroke:#0000ff;\" x=\"75.296696\" xlink:href=\"#ma3c788fd47\" y=\"88.354312\"/>\r\n     <use style=\"fill:#0000ff;stroke:#0000ff;\" x=\"83.306265\" xlink:href=\"#ma3c788fd47\" y=\"101.093555\"/>\r\n     <use style=\"fill:#0000ff;stroke:#0000ff;\" x=\"91.315834\" xlink:href=\"#ma3c788fd47\" y=\"112.451363\"/>\r\n     <use style=\"fill:#0000ff;stroke:#0000ff;\" x=\"99.325404\" xlink:href=\"#ma3c788fd47\" y=\"124.983104\"/>\r\n     <use style=\"fill:#0000ff;stroke:#0000ff;\" x=\"107.334973\" xlink:href=\"#ma3c788fd47\" y=\"139.907262\"/>\r\n     <use style=\"fill:#0000ff;stroke:#0000ff;\" x=\"115.344542\" xlink:href=\"#ma3c788fd47\" y=\"151.092617\"/>\r\n     <use style=\"fill:#0000ff;stroke:#0000ff;\" x=\"123.354112\" xlink:href=\"#ma3c788fd47\" y=\"161.818067\"/>\r\n     <use style=\"fill:#0000ff;stroke:#0000ff;\" x=\"131.363681\" xlink:href=\"#ma3c788fd47\" y=\"165.922349\"/>\r\n     <use style=\"fill:#0000ff;stroke:#0000ff;\" x=\"139.373251\" xlink:href=\"#ma3c788fd47\" y=\"173.46\"/>\r\n     <use style=\"fill:#0000ff;stroke:#0000ff;\" x=\"147.38282\" xlink:href=\"#ma3c788fd47\" y=\"178.792571\"/>\r\n     <use style=\"fill:#0000ff;stroke:#0000ff;\" x=\"155.392389\" xlink:href=\"#ma3c788fd47\" y=\"183.506817\"/>\r\n     <use style=\"fill:#0000ff;stroke:#0000ff;\" x=\"163.401959\" xlink:href=\"#ma3c788fd47\" y=\"185.545647\"/>\r\n     <use style=\"fill:#0000ff;stroke:#0000ff;\" x=\"171.411528\" xlink:href=\"#ma3c788fd47\" y=\"190.683932\"/>\r\n     <use style=\"fill:#0000ff;stroke:#0000ff;\" x=\"179.421097\" xlink:href=\"#ma3c788fd47\" y=\"193.733738\"/>\r\n     <use style=\"fill:#0000ff;stroke:#0000ff;\" x=\"187.430667\" xlink:href=\"#ma3c788fd47\" y=\"197.242975\"/>\r\n     <use style=\"fill:#0000ff;stroke:#0000ff;\" x=\"195.440236\" xlink:href=\"#ma3c788fd47\" y=\"200.262357\"/>\r\n     <use style=\"fill:#0000ff;stroke:#0000ff;\" x=\"203.449806\" xlink:href=\"#ma3c788fd47\" y=\"203.887613\"/>\r\n     <use style=\"fill:#0000ff;stroke:#0000ff;\" x=\"211.459375\" xlink:href=\"#ma3c788fd47\" y=\"206.689389\"/>\r\n     <use style=\"fill:#0000ff;stroke:#0000ff;\" x=\"219.468944\" xlink:href=\"#ma3c788fd47\" y=\"209.078998\"/>\r\n     <use style=\"fill:#0000ff;stroke:#0000ff;\" x=\"227.478514\" xlink:href=\"#ma3c788fd47\" y=\"211.125029\"/>\r\n     <use style=\"fill:#0000ff;stroke:#0000ff;\" x=\"235.488083\" xlink:href=\"#ma3c788fd47\" y=\"213.733986\"/>\r\n     <use style=\"fill:#0000ff;stroke:#0000ff;\" x=\"243.497653\" xlink:href=\"#ma3c788fd47\" y=\"215.58065\"/>\r\n     <use style=\"fill:#0000ff;stroke:#0000ff;\" x=\"251.507222\" xlink:href=\"#ma3c788fd47\" y=\"217.188907\"/>\r\n     <use style=\"fill:#0000ff;stroke:#0000ff;\" x=\"259.516791\" xlink:href=\"#ma3c788fd47\" y=\"218.813706\"/>\r\n     <use style=\"fill:#0000ff;stroke:#0000ff;\" x=\"267.526361\" xlink:href=\"#ma3c788fd47\" y=\"220.567572\"/>\r\n     <use style=\"fill:#0000ff;stroke:#0000ff;\" x=\"275.53593\" xlink:href=\"#ma3c788fd47\" y=\"221.705447\"/>\r\n     <use style=\"fill:#0000ff;stroke:#0000ff;\" x=\"283.545499\" xlink:href=\"#ma3c788fd47\" y=\"222.418318\"/>\r\n     <use style=\"fill:#0000ff;stroke:#0000ff;\" x=\"291.555069\" xlink:href=\"#ma3c788fd47\" y=\"224.240473\"/>\r\n     <use style=\"fill:#0000ff;stroke:#0000ff;\" x=\"299.564638\" xlink:href=\"#ma3c788fd47\" y=\"225.257766\"/>\r\n     <use style=\"fill:#0000ff;stroke:#0000ff;\" x=\"307.574208\" xlink:href=\"#ma3c788fd47\" y=\"226.314106\"/>\r\n     <use style=\"fill:#0000ff;stroke:#0000ff;\" x=\"315.583777\" xlink:href=\"#ma3c788fd47\" y=\"227.398599\"/>\r\n     <use style=\"fill:#0000ff;stroke:#0000ff;\" x=\"323.593346\" xlink:href=\"#ma3c788fd47\" y=\"228.202342\"/>\r\n     <use style=\"fill:#0000ff;stroke:#0000ff;\" x=\"331.602916\" xlink:href=\"#ma3c788fd47\" y=\"228.763075\"/>\r\n     <use style=\"fill:#0000ff;stroke:#0000ff;\" x=\"339.612485\" xlink:href=\"#ma3c788fd47\" y=\"229.142833\"/>\r\n     <use style=\"fill:#0000ff;stroke:#0000ff;\" x=\"347.622054\" xlink:href=\"#ma3c788fd47\" y=\"229.408079\"/>\r\n     <use style=\"fill:#0000ff;stroke:#0000ff;\" x=\"355.631624\" xlink:href=\"#ma3c788fd47\" y=\"229.65872\"/>\r\n     <use style=\"fill:#0000ff;stroke:#0000ff;\" x=\"363.641193\" xlink:href=\"#ma3c788fd47\" y=\"229.874489\"/>\r\n    </g>\r\n   </g>\r\n   <g id=\"patch_3\">\r\n    <path d=\"M 44.059375 239.758125 \r\nL 44.059375 22.318125 \r\n\" style=\"fill:none;stroke:#000000;stroke-linecap:square;stroke-linejoin:miter;stroke-width:0.8;\"/>\r\n   </g>\r\n   <g id=\"patch_4\">\r\n    <path d=\"M 378.859375 239.758125 \r\nL 378.859375 22.318125 \r\n\" style=\"fill:none;stroke:#000000;stroke-linecap:square;stroke-linejoin:miter;stroke-width:0.8;\"/>\r\n   </g>\r\n   <g id=\"patch_5\">\r\n    <path d=\"M 44.059375 239.758125 \r\nL 378.859375 239.758125 \r\n\" style=\"fill:none;stroke:#000000;stroke-linecap:square;stroke-linejoin:miter;stroke-width:0.8;\"/>\r\n   </g>\r\n   <g id=\"patch_6\">\r\n    <path d=\"M 44.059375 22.318125 \r\nL 378.859375 22.318125 \r\n\" style=\"fill:none;stroke:#000000;stroke-linecap:square;stroke-linejoin:miter;stroke-width:0.8;\"/>\r\n   </g>\r\n   <g id=\"text_19\">\r\n    <!-- Elbow Method For Optimal k -->\r\n    <g transform=\"translate(126.897813 16.318125)scale(0.12 -0.12)\">\r\n     <defs>\r\n      <path d=\"M 9.8125 72.90625 \r\nL 55.90625 72.90625 \r\nL 55.90625 64.59375 \r\nL 19.671875 64.59375 \r\nL 19.671875 43.015625 \r\nL 54.390625 43.015625 \r\nL 54.390625 34.71875 \r\nL 19.671875 34.71875 \r\nL 19.671875 8.296875 \r\nL 56.78125 8.296875 \r\nL 56.78125 0 \r\nL 9.8125 0 \r\nz\r\n\" id=\"DejaVuSans-69\"/>\r\n      <path d=\"M 9.421875 75.984375 \r\nL 18.40625 75.984375 \r\nL 18.40625 0 \r\nL 9.421875 0 \r\nz\r\n\" id=\"DejaVuSans-108\"/>\r\n      <path d=\"M 48.6875 27.296875 \r\nQ 48.6875 37.203125 44.609375 42.84375 \r\nQ 40.53125 48.484375 33.40625 48.484375 \r\nQ 26.265625 48.484375 22.1875 42.84375 \r\nQ 18.109375 37.203125 18.109375 27.296875 \r\nQ 18.109375 17.390625 22.1875 11.75 \r\nQ 26.265625 6.109375 33.40625 6.109375 \r\nQ 40.53125 6.109375 44.609375 11.75 \r\nQ 48.6875 17.390625 48.6875 27.296875 \r\nz\r\nM 18.109375 46.390625 \r\nQ 20.953125 51.265625 25.265625 53.625 \r\nQ 29.59375 56 35.59375 56 \r\nQ 45.5625 56 51.78125 48.09375 \r\nQ 58.015625 40.1875 58.015625 27.296875 \r\nQ 58.015625 14.40625 51.78125 6.484375 \r\nQ 45.5625 -1.421875 35.59375 -1.421875 \r\nQ 29.59375 -1.421875 25.265625 0.953125 \r\nQ 20.953125 3.328125 18.109375 8.203125 \r\nL 18.109375 0 \r\nL 9.078125 0 \r\nL 9.078125 75.984375 \r\nL 18.109375 75.984375 \r\nz\r\n\" id=\"DejaVuSans-98\"/>\r\n      <path d=\"M 4.203125 54.6875 \r\nL 13.1875 54.6875 \r\nL 24.421875 12.015625 \r\nL 35.59375 54.6875 \r\nL 46.1875 54.6875 \r\nL 57.421875 12.015625 \r\nL 68.609375 54.6875 \r\nL 77.59375 54.6875 \r\nL 63.28125 0 \r\nL 52.6875 0 \r\nL 40.921875 44.828125 \r\nL 29.109375 0 \r\nL 18.5 0 \r\nz\r\n\" id=\"DejaVuSans-119\"/>\r\n      <path id=\"DejaVuSans-32\"/>\r\n      <path d=\"M 9.8125 72.90625 \r\nL 24.515625 72.90625 \r\nL 43.109375 23.296875 \r\nL 61.8125 72.90625 \r\nL 76.515625 72.90625 \r\nL 76.515625 0 \r\nL 66.890625 0 \r\nL 66.890625 64.015625 \r\nL 48.09375 14.015625 \r\nL 38.1875 14.015625 \r\nL 19.390625 64.015625 \r\nL 19.390625 0 \r\nL 9.8125 0 \r\nz\r\n\" id=\"DejaVuSans-77\"/>\r\n      <path d=\"M 54.890625 33.015625 \r\nL 54.890625 0 \r\nL 45.90625 0 \r\nL 45.90625 32.71875 \r\nQ 45.90625 40.484375 42.875 44.328125 \r\nQ 39.84375 48.1875 33.796875 48.1875 \r\nQ 26.515625 48.1875 22.3125 43.546875 \r\nQ 18.109375 38.921875 18.109375 30.90625 \r\nL 18.109375 0 \r\nL 9.078125 0 \r\nL 9.078125 75.984375 \r\nL 18.109375 75.984375 \r\nL 18.109375 46.1875 \r\nQ 21.34375 51.125 25.703125 53.5625 \r\nQ 30.078125 56 35.796875 56 \r\nQ 45.21875 56 50.046875 50.171875 \r\nQ 54.890625 44.34375 54.890625 33.015625 \r\nz\r\n\" id=\"DejaVuSans-104\"/>\r\n      <path d=\"M 9.8125 72.90625 \r\nL 51.703125 72.90625 \r\nL 51.703125 64.59375 \r\nL 19.671875 64.59375 \r\nL 19.671875 43.109375 \r\nL 48.578125 43.109375 \r\nL 48.578125 34.8125 \r\nL 19.671875 34.8125 \r\nL 19.671875 0 \r\nL 9.8125 0 \r\nz\r\n\" id=\"DejaVuSans-70\"/>\r\n      <path d=\"M 39.40625 66.21875 \r\nQ 28.65625 66.21875 22.328125 58.203125 \r\nQ 16.015625 50.203125 16.015625 36.375 \r\nQ 16.015625 22.609375 22.328125 14.59375 \r\nQ 28.65625 6.59375 39.40625 6.59375 \r\nQ 50.140625 6.59375 56.421875 14.59375 \r\nQ 62.703125 22.609375 62.703125 36.375 \r\nQ 62.703125 50.203125 56.421875 58.203125 \r\nQ 50.140625 66.21875 39.40625 66.21875 \r\nz\r\nM 39.40625 74.21875 \r\nQ 54.734375 74.21875 63.90625 63.9375 \r\nQ 73.09375 53.65625 73.09375 36.375 \r\nQ 73.09375 19.140625 63.90625 8.859375 \r\nQ 54.734375 -1.421875 39.40625 -1.421875 \r\nQ 24.03125 -1.421875 14.8125 8.828125 \r\nQ 5.609375 19.09375 5.609375 36.375 \r\nQ 5.609375 53.65625 14.8125 63.9375 \r\nQ 24.03125 74.21875 39.40625 74.21875 \r\nz\r\n\" id=\"DejaVuSans-79\"/>\r\n      <path d=\"M 18.109375 8.203125 \r\nL 18.109375 -20.796875 \r\nL 9.078125 -20.796875 \r\nL 9.078125 54.6875 \r\nL 18.109375 54.6875 \r\nL 18.109375 46.390625 \r\nQ 20.953125 51.265625 25.265625 53.625 \r\nQ 29.59375 56 35.59375 56 \r\nQ 45.5625 56 51.78125 48.09375 \r\nQ 58.015625 40.1875 58.015625 27.296875 \r\nQ 58.015625 14.40625 51.78125 6.484375 \r\nQ 45.5625 -1.421875 35.59375 -1.421875 \r\nQ 29.59375 -1.421875 25.265625 0.953125 \r\nQ 20.953125 3.328125 18.109375 8.203125 \r\nz\r\nM 48.6875 27.296875 \r\nQ 48.6875 37.203125 44.609375 42.84375 \r\nQ 40.53125 48.484375 33.40625 48.484375 \r\nQ 26.265625 48.484375 22.1875 42.84375 \r\nQ 18.109375 37.203125 18.109375 27.296875 \r\nQ 18.109375 17.390625 22.1875 11.75 \r\nQ 26.265625 6.109375 33.40625 6.109375 \r\nQ 40.53125 6.109375 44.609375 11.75 \r\nQ 48.6875 17.390625 48.6875 27.296875 \r\nz\r\n\" id=\"DejaVuSans-112\"/>\r\n     </defs>\r\n     <use xlink:href=\"#DejaVuSans-69\"/>\r\n     <use x=\"63.183594\" xlink:href=\"#DejaVuSans-108\"/>\r\n     <use x=\"90.966797\" xlink:href=\"#DejaVuSans-98\"/>\r\n     <use x=\"154.443359\" xlink:href=\"#DejaVuSans-111\"/>\r\n     <use x=\"215.625\" xlink:href=\"#DejaVuSans-119\"/>\r\n     <use x=\"297.412109\" xlink:href=\"#DejaVuSans-32\"/>\r\n     <use x=\"329.199219\" xlink:href=\"#DejaVuSans-77\"/>\r\n     <use x=\"415.478516\" xlink:href=\"#DejaVuSans-101\"/>\r\n     <use x=\"477.001953\" xlink:href=\"#DejaVuSans-116\"/>\r\n     <use x=\"516.210938\" xlink:href=\"#DejaVuSans-104\"/>\r\n     <use x=\"579.589844\" xlink:href=\"#DejaVuSans-111\"/>\r\n     <use x=\"640.771484\" xlink:href=\"#DejaVuSans-100\"/>\r\n     <use x=\"704.248047\" xlink:href=\"#DejaVuSans-32\"/>\r\n     <use x=\"736.035156\" xlink:href=\"#DejaVuSans-70\"/>\r\n     <use x=\"789.929688\" xlink:href=\"#DejaVuSans-111\"/>\r\n     <use x=\"851.111328\" xlink:href=\"#DejaVuSans-114\"/>\r\n     <use x=\"892.224609\" xlink:href=\"#DejaVuSans-32\"/>\r\n     <use x=\"924.011719\" xlink:href=\"#DejaVuSans-79\"/>\r\n     <use x=\"1002.722656\" xlink:href=\"#DejaVuSans-112\"/>\r\n     <use x=\"1066.199219\" xlink:href=\"#DejaVuSans-116\"/>\r\n     <use x=\"1105.408203\" xlink:href=\"#DejaVuSans-105\"/>\r\n     <use x=\"1133.191406\" xlink:href=\"#DejaVuSans-109\"/>\r\n     <use x=\"1230.603516\" xlink:href=\"#DejaVuSans-97\"/>\r\n     <use x=\"1291.882812\" xlink:href=\"#DejaVuSans-108\"/>\r\n     <use x=\"1319.666016\" xlink:href=\"#DejaVuSans-32\"/>\r\n     <use x=\"1351.453125\" xlink:href=\"#DejaVuSans-107\"/>\r\n    </g>\r\n   </g>\r\n  </g>\r\n </g>\r\n <defs>\r\n  <clipPath id=\"pf80d4a7727\">\r\n   <rect height=\"217.44\" width=\"334.8\" x=\"44.059375\" y=\"22.318125\"/>\r\n  </clipPath>\r\n </defs>\r\n</svg>\r\n",
      "image/png": "[encoded data removed]"
     },
     "metadata": {
      "needs_background": "light"
     }
    }
   ],
   "source": [
    "plt.plot(K, Sum_of_squared_distances, 'bx-')\n",
    "plt.xlabel('k')\n",
    "plt.ylabel('Sum_of_squared_distances')\n",
    "plt.title('Elbow Method For Optimal k')\n",
    "plt.show()"
   ]
  },
  {
   "source": [
    "### Run k-Means clustering\n",
    "\n",
    "Using the chosen number of clusters, I run k-Means clustering on the 39 neighbourhoods, and graph them using folium."
   ],
   "cell_type": "markdown",
   "metadata": {}
  },
  {
   "cell_type": "code",
   "execution_count": 57,
   "metadata": {},
   "outputs": [
    {
     "output_type": "execute_result",
     "data": {
      "text/plain": [
       "array([18,  1,  9, 10,  1, 13, 18,  1, 16, 12])"
      ]
     },
     "metadata": {},
     "execution_count": 57
    }
   ],
   "source": [
    "# set number of clusters\n",
    "kclusters = 20\n",
    "\n",
    "# run k-means clustering\n",
    "kmeans = KMeans(n_clusters=kclusters, random_state=0).fit(toronto_grouped_clustering)\n",
    "\n",
    "# check cluster labels generated for each row in the dataframe\n",
    "kmeans.labels_[0:10] "
   ]
  },
  {
   "cell_type": "code",
   "execution_count": 58,
   "metadata": {},
   "outputs": [
    {
     "output_type": "execute_result",
     "data": {
      "text/plain": [
       "   Postal Code           Borough                                Neighbourhood  \\\n",
       "2          M5A  Downtown Toronto                    Regent Park, Harbourfront   \n",
       "4          M7A  Downtown Toronto  Queen's Park, Ontario Provincial Government   \n",
       "9          M5B  Downtown Toronto                     Garden District, Ryerson   \n",
       "15         M5C  Downtown Toronto                               St. James Town   \n",
       "19         M4E      East Toronto                                  The Beaches   \n",
       "\n",
       "     Latitude  Longitude  Cluster Labels 1st Most Common Venue  \\\n",
       "2   43.654260 -79.360636              18           Coffee Shop   \n",
       "4   43.662301 -79.389494              18           Coffee Shop   \n",
       "9   43.657162 -79.378937              18           Coffee Shop   \n",
       "15  43.651494 -79.375418              18           Coffee Shop   \n",
       "19  43.676357 -79.293031               2      Asian Restaurant   \n",
       "\n",
       "   2nd Most Common Venue 3rd Most Common Venue 4th Most Common Venue  \\\n",
       "2                    Pub                Bakery                  Park   \n",
       "4       Sushi Restaurant           Yoga Studio                  Bank   \n",
       "9         Clothing Store                  Café   Japanese Restaurant   \n",
       "15                  Café          Cocktail Bar   American Restaurant   \n",
       "19                   Pub     Health Food Store                 Trail   \n",
       "\n",
       "   5th Most Common Venue      6th Most Common Venue 7th Most Common Venue  \\\n",
       "2                   Café             Breakfast Spot               Theater   \n",
       "4          Smoothie Shop                   Beer Bar        Sandwich Place   \n",
       "9                  Hotel  Middle Eastern Restaurant       Bubble Tea Shop   \n",
       "15        Cosmetics Shop        Japanese Restaurant        Lingerie Store   \n",
       "19          Neighborhood                    Dog Run          Dessert Shop   \n",
       "\n",
       "   8th Most Common Venue 9th Most Common Venue 10th Most Common Venue  \n",
       "2            Yoga Studio     French Restaurant      Health Food Store  \n",
       "4          Burrito Place                  Café  Portuguese Restaurant  \n",
       "9         Cosmetics Shop        Lingerie Store       Ramen Restaurant  \n",
       "15      Department Store              Creperie                 Bakery  \n",
       "19                 Diner        Discount Store    Distribution Center  "
      ],
      "text/html": "<div>\n<style scoped>\n    .dataframe tbody tr th:only-of-type {\n        vertical-align: middle;\n    }\n\n    .dataframe tbody tr th {\n        vertical-align: top;\n    }\n\n    .dataframe thead th {\n        text-align: right;\n    }\n</style>\n<table border=\"1\" class=\"dataframe\">\n  <thead>\n    <tr style=\"text-align: right;\">\n      <th></th>\n      <th>Postal Code</th>\n      <th>Borough</th>\n      <th>Neighbourhood</th>\n      <th>Latitude</th>\n      <th>Longitude</th>\n      <th>Cluster Labels</th>\n      <th>1st Most Common Venue</th>\n      <th>2nd Most Common Venue</th>\n      <th>3rd Most Common Venue</th>\n      <th>4th Most Common Venue</th>\n      <th>5th Most Common Venue</th>\n      <th>6th Most Common Venue</th>\n      <th>7th Most Common Venue</th>\n      <th>8th Most Common Venue</th>\n      <th>9th Most Common Venue</th>\n      <th>10th Most Common Venue</th>\n    </tr>\n  </thead>\n  <tbody>\n    <tr>\n      <th>2</th>\n      <td>M5A</td>\n      <td>Downtown Toronto</td>\n      <td>Regent Park, Harbourfront</td>\n      <td>43.654260</td>\n      <td>-79.360636</td>\n      <td>18</td>\n      <td>Coffee Shop</td>\n      <td>Pub</td>\n      <td>Bakery</td>\n      <td>Park</td>\n      <td>Café</td>\n      <td>Breakfast Spot</td>\n      <td>Theater</td>\n      <td>Yoga Studio</td>\n      <td>French Restaurant</td>\n      <td>Health Food Store</td>\n    </tr>\n    <tr>\n      <th>4</th>\n      <td>M7A</td>\n      <td>Downtown Toronto</td>\n      <td>Queen's Park, Ontario Provincial Government</td>\n      <td>43.662301</td>\n      <td>-79.389494</td>\n      <td>18</td>\n      <td>Coffee Shop</td>\n      <td>Sushi Restaurant</td>\n      <td>Yoga Studio</td>\n      <td>Bank</td>\n      <td>Smoothie Shop</td>\n      <td>Beer Bar</td>\n      <td>Sandwich Place</td>\n      <td>Burrito Place</td>\n      <td>Café</td>\n      <td>Portuguese Restaurant</td>\n    </tr>\n    <tr>\n      <th>9</th>\n      <td>M5B</td>\n      <td>Downtown Toronto</td>\n      <td>Garden District, Ryerson</td>\n      <td>43.657162</td>\n      <td>-79.378937</td>\n      <td>18</td>\n      <td>Coffee Shop</td>\n      <td>Clothing Store</td>\n      <td>Café</td>\n      <td>Japanese Restaurant</td>\n      <td>Hotel</td>\n      <td>Middle Eastern Restaurant</td>\n      <td>Bubble Tea Shop</td>\n      <td>Cosmetics Shop</td>\n      <td>Lingerie Store</td>\n      <td>Ramen Restaurant</td>\n    </tr>\n    <tr>\n      <th>15</th>\n      <td>M5C</td>\n      <td>Downtown Toronto</td>\n      <td>St. James Town</td>\n      <td>43.651494</td>\n      <td>-79.375418</td>\n      <td>18</td>\n      <td>Coffee Shop</td>\n      <td>Café</td>\n      <td>Cocktail Bar</td>\n      <td>American Restaurant</td>\n      <td>Cosmetics Shop</td>\n      <td>Japanese Restaurant</td>\n      <td>Lingerie Store</td>\n      <td>Department Store</td>\n      <td>Creperie</td>\n      <td>Bakery</td>\n    </tr>\n    <tr>\n      <th>19</th>\n      <td>M4E</td>\n      <td>East Toronto</td>\n      <td>The Beaches</td>\n      <td>43.676357</td>\n      <td>-79.293031</td>\n      <td>2</td>\n      <td>Asian Restaurant</td>\n      <td>Pub</td>\n      <td>Health Food Store</td>\n      <td>Trail</td>\n      <td>Neighborhood</td>\n      <td>Dog Run</td>\n      <td>Dessert Shop</td>\n      <td>Diner</td>\n      <td>Discount Store</td>\n      <td>Distribution Center</td>\n    </tr>\n  </tbody>\n</table>\n</div>"
     },
     "metadata": {},
     "execution_count": 58
    }
   ],
   "source": [
    "# add clustering labels\n",
    "neighborhoods_venues_sorted.insert(0, 'Cluster Labels', kmeans.labels_)\n",
    "\n",
    "toronto_merged = toronto_boroughs\n",
    "\n",
    "# merge manhattan_grouped with manhattan_data to add latitude/longitude for each neighborhood\n",
    "toronto_merged = toronto_merged.join(neighborhoods_venues_sorted.set_index('Neighbourhood'), on='Neighbourhood')\n",
    "\n",
    "toronto_merged.head()"
   ]
  },
  {
   "cell_type": "code",
   "execution_count": 59,
   "metadata": {},
   "outputs": [
    {
     "output_type": "execute_result",
     "data": {
      "text/plain": [
       "<folium.folium.Map at 0x1ceaf040880>"
      ],
      "text/html": "<div style=\"width:100%;\"><div style=\"position:relative;width:100%;height:0;padding-bottom:60%;\"><span style=\"color:#565656\">Make this Notebook Trusted to load map: File -> Trust Notebook</span><iframe src=\"about:blank\" style=\"position:absolute;width:100%;height:100%;left:0;top:0;border:none !important;\" data-html=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 onload=\"this.contentDocument.open();this.contentDocument.write(atob(this.getAttribute('data-html')));this.contentDocument.close();\" allowfullscreen webkitallowfullscreen mozallowfullscreen></iframe></div></div>"
     },
     "metadata": {},
     "execution_count": 59
    }
   ],
   "source": [
    "# create map\n",
    "map_clusters = folium.Map(location=[latitude, longitude], zoom_start=12)\n",
    "\n",
    "# set color scheme for the clusters\n",
    "x = np.arange(kclusters)\n",
    "ys = [i + x + (i*x)**2 for i in range(kclusters)]\n",
    "colors_array = cm.rainbow(np.linspace(0, 1, len(ys)))\n",
    "rainbow = [colors.rgb2hex(i) for i in colors_array]\n",
    "\n",
    "# add markers to the map\n",
    "markers_colors = []\n",
    "for lat, lon, poi, cluster in zip(toronto_merged['Latitude'], toronto_merged['Longitude'], toronto_merged['Neighbourhood'], toronto_merged['Cluster Labels']):\n",
    "    label = folium.Popup(str(poi) + ' Cluster ' + str(cluster), parse_html=True)\n",
    "    folium.CircleMarker(\n",
    "        [lat, lon],\n",
    "        radius=5,\n",
    "        popup=label,\n",
    "        color=rainbow[cluster-1],\n",
    "        fill=True,\n",
    "        fill_color=rainbow[cluster-1],\n",
    "        fill_opacity=0.7).add_to(map_clusters)\n",
    "       \n",
    "map_clusters"
   ]
  },
  {
   "source": [
    "## Observing clusters and final observations\n",
    "\n",
    "When using a smaller number of clusters I noticed that the neighbourhoods would normally split into two clusters while leaving the remaining clusters as clusters of one neighbourhood. The same behaviour was observed when the number of clusters was increased to 20, although there were roughly three clusters with similar sizes.\n",
    "\n",
    "For future work, I would explore other defining features other than popular venues that could potentially group neighbourhoods in a better way. Refining my search to a specific type of venue would potentially help as well.\n",
    "\n",
    "Listed below are the individual clusters.\n"
   ],
   "cell_type": "markdown",
   "metadata": {}
  },
  {
   "cell_type": "code",
   "execution_count": 60,
   "metadata": {},
   "outputs": [
    {
     "output_type": "execute_result",
     "data": {
      "text/plain": [
       "   Postal Code           Borough                              Neighbourhood  \\\n",
       "37         M6J      West Toronto                   Little Portugal, Trinity   \n",
       "69         M6P      West Toronto              High Park, The Junction South   \n",
       "80         M5S  Downtown Toronto             University of Toronto, Harbord   \n",
       "84         M5T  Downtown Toronto  Kensington Market, Chinatown, Grange Park   \n",
       "\n",
       "    Cluster Labels 1st Most Common Venue          2nd Most Common Venue  \\\n",
       "37               0                   Bar                    Men's Store   \n",
       "69               0                  Café                Thai Restaurant   \n",
       "80               0                  Café                            Bar   \n",
       "84               0                  Café  Vegetarian / Vegan Restaurant   \n",
       "\n",
       "   3rd Most Common Venue      4th Most Common Venue  \\\n",
       "37                  Café      Vietnamese Restaurant   \n",
       "69    Mexican Restaurant  Cajun / Creole Restaurant   \n",
       "80    Italian Restaurant        Japanese Restaurant   \n",
       "84           Coffee Shop         Mexican Restaurant   \n",
       "\n",
       "            5th Most Common Venue 6th Most Common Venue 7th Most Common Venue  \\\n",
       "37  Vegetarian / Vegan Restaurant           Coffee Shop      Asian Restaurant   \n",
       "69            Arts & Crafts Store                   Bar        Discount Store   \n",
       "80                      Bookstore                Bakery           Yoga Studio   \n",
       "84          Vietnamese Restaurant          Dessert Shop  Caribbean Restaurant   \n",
       "\n",
       "   8th Most Common Venue 9th Most Common Venue 10th Most Common Venue  \n",
       "37            Restaurant            Beer Store    Japanese Restaurant  \n",
       "69                Bakery                 Diner              Speakeasy  \n",
       "80              Beer Bar            Beer Store         Sandwich Place  \n",
       "84                  Park                Bakery    Arts & Crafts Store  "
      ],
      "text/html": "<div>\n<style scoped>\n    .dataframe tbody tr th:only-of-type {\n        vertical-align: middle;\n    }\n\n    .dataframe tbody tr th {\n        vertical-align: top;\n    }\n\n    .dataframe thead th {\n        text-align: right;\n    }\n</style>\n<table border=\"1\" class=\"dataframe\">\n  <thead>\n    <tr style=\"text-align: right;\">\n      <th></th>\n      <th>Postal Code</th>\n      <th>Borough</th>\n      <th>Neighbourhood</th>\n      <th>Cluster Labels</th>\n      <th>1st Most Common Venue</th>\n      <th>2nd Most Common Venue</th>\n      <th>3rd Most Common Venue</th>\n      <th>4th Most Common Venue</th>\n      <th>5th Most Common Venue</th>\n      <th>6th Most Common Venue</th>\n      <th>7th Most Common Venue</th>\n      <th>8th Most Common Venue</th>\n      <th>9th Most Common Venue</th>\n      <th>10th Most Common Venue</th>\n    </tr>\n  </thead>\n  <tbody>\n    <tr>\n      <th>37</th>\n      <td>M6J</td>\n      <td>West Toronto</td>\n      <td>Little Portugal, Trinity</td>\n      <td>0</td>\n      <td>Bar</td>\n      <td>Men's Store</td>\n      <td>Café</td>\n      <td>Vietnamese Restaurant</td>\n      <td>Vegetarian / Vegan Restaurant</td>\n      <td>Coffee Shop</td>\n      <td>Asian Restaurant</td>\n      <td>Restaurant</td>\n      <td>Beer Store</td>\n      <td>Japanese Restaurant</td>\n    </tr>\n    <tr>\n      <th>69</th>\n      <td>M6P</td>\n      <td>West Toronto</td>\n      <td>High Park, The Junction South</td>\n      <td>0</td>\n      <td>Café</td>\n      <td>Thai Restaurant</td>\n      <td>Mexican Restaurant</td>\n      <td>Cajun / Creole Restaurant</td>\n      <td>Arts &amp; Crafts Store</td>\n      <td>Bar</td>\n      <td>Discount Store</td>\n      <td>Bakery</td>\n      <td>Diner</td>\n      <td>Speakeasy</td>\n    </tr>\n    <tr>\n      <th>80</th>\n      <td>M5S</td>\n      <td>Downtown Toronto</td>\n      <td>University of Toronto, Harbord</td>\n      <td>0</td>\n      <td>Café</td>\n      <td>Bar</td>\n      <td>Italian Restaurant</td>\n      <td>Japanese Restaurant</td>\n      <td>Bookstore</td>\n      <td>Bakery</td>\n      <td>Yoga Studio</td>\n      <td>Beer Bar</td>\n      <td>Beer Store</td>\n      <td>Sandwich Place</td>\n    </tr>\n    <tr>\n      <th>84</th>\n      <td>M5T</td>\n      <td>Downtown Toronto</td>\n      <td>Kensington Market, Chinatown, Grange Park</td>\n      <td>0</td>\n      <td>Café</td>\n      <td>Vegetarian / Vegan Restaurant</td>\n      <td>Coffee Shop</td>\n      <td>Mexican Restaurant</td>\n      <td>Vietnamese Restaurant</td>\n      <td>Dessert Shop</td>\n      <td>Caribbean Restaurant</td>\n      <td>Park</td>\n      <td>Bakery</td>\n      <td>Arts &amp; Crafts Store</td>\n    </tr>\n  </tbody>\n</table>\n</div>"
     },
     "metadata": {},
     "execution_count": 60
    }
   ],
   "source": [
    "toronto_merged.loc[toronto_merged['Cluster Labels'] == 0, toronto_merged.columns[[0,1,2] + list(range(5, toronto_merged.shape[1]))]]"
   ]
  },
  {
   "cell_type": "code",
   "execution_count": 61,
   "metadata": {},
   "outputs": [
    {
     "output_type": "execute_result",
     "data": {
      "text/plain": [
       "   Postal Code           Borough  \\\n",
       "24         M5G  Downtown Toronto   \n",
       "30         M5H  Downtown Toronto   \n",
       "36         M5J  Downtown Toronto   \n",
       "42         M5K  Downtown Toronto   \n",
       "43         M6K      West Toronto   \n",
       "48         M5L  Downtown Toronto   \n",
       "97         M5X  Downtown Toronto   \n",
       "\n",
       "                                        Neighbourhood  Cluster Labels  \\\n",
       "24                                 Central Bay Street               1   \n",
       "30                           Richmond, Adelaide, King               1   \n",
       "36  Harbourfront East, Union Station, Toronto Islands               1   \n",
       "42           Toronto Dominion Centre, Design Exchange               1   \n",
       "43       Brockton, Parkdale Village, Exhibition Place               1   \n",
       "48                     Commerce Court, Victoria Hotel               1   \n",
       "97             First Canadian Place, Underground city               1   \n",
       "\n",
       "   1st Most Common Venue 2nd Most Common Venue 3rd Most Common Venue  \\\n",
       "24           Coffee Shop        Sandwich Place                  Café   \n",
       "30           Coffee Shop                  Café            Restaurant   \n",
       "36           Coffee Shop              Aquarium                 Hotel   \n",
       "42           Coffee Shop                 Hotel                  Café   \n",
       "43                  Café        Breakfast Spot           Coffee Shop   \n",
       "48           Coffee Shop            Restaurant                  Café   \n",
       "97           Coffee Shop                  Café                 Hotel   \n",
       "\n",
       "     4th Most Common Venue 5th Most Common Venue 6th Most Common Venue  \\\n",
       "24      Italian Restaurant       Bubble Tea Shop           Salad Place   \n",
       "30                   Hotel         Deli / Bodega                   Gym   \n",
       "36                    Café    Italian Restaurant               Brewery   \n",
       "42              Restaurant           Salad Place    Italian Restaurant   \n",
       "43  Furniture / Home Store                Office                   Bar   \n",
       "48                   Hotel   American Restaurant                   Gym   \n",
       "97              Restaurant   Japanese Restaurant                   Gym   \n",
       "\n",
       "   7th Most Common Venue 8th Most Common Venue       9th Most Common Venue  \\\n",
       "24       Thai Restaurant          Burger Joint  Modern European Restaurant   \n",
       "30       Thai Restaurant                Lounge                  Steakhouse   \n",
       "36   Fried Chicken Joint            Restaurant              Scenic Lookout   \n",
       "42    Seafood Restaurant   American Restaurant         Japanese Restaurant   \n",
       "43          Intersection                Bakery                  Restaurant   \n",
       "48   Japanese Restaurant         Deli / Bodega          Italian Restaurant   \n",
       "97            Steakhouse   American Restaurant          Seafood Restaurant   \n",
       "\n",
       "   10th Most Common Venue  \n",
       "24    Japanese Restaurant  \n",
       "30                 Bakery  \n",
       "36         History Museum  \n",
       "42           Concert Hall  \n",
       "43           Climbing Gym  \n",
       "48     Seafood Restaurant  \n",
       "97            Salad Place  "
      ],
      "text/html": "<div>\n<style scoped>\n    .dataframe tbody tr th:only-of-type {\n        vertical-align: middle;\n    }\n\n    .dataframe tbody tr th {\n        vertical-align: top;\n    }\n\n    .dataframe thead th {\n        text-align: right;\n    }\n</style>\n<table border=\"1\" class=\"dataframe\">\n  <thead>\n    <tr style=\"text-align: right;\">\n      <th></th>\n      <th>Postal Code</th>\n      <th>Borough</th>\n      <th>Neighbourhood</th>\n      <th>Cluster Labels</th>\n      <th>1st Most Common Venue</th>\n      <th>2nd Most Common Venue</th>\n      <th>3rd Most Common Venue</th>\n      <th>4th Most Common Venue</th>\n      <th>5th Most Common Venue</th>\n      <th>6th Most Common Venue</th>\n      <th>7th Most Common Venue</th>\n      <th>8th Most Common Venue</th>\n      <th>9th Most Common Venue</th>\n      <th>10th Most Common Venue</th>\n    </tr>\n  </thead>\n  <tbody>\n    <tr>\n      <th>24</th>\n      <td>M5G</td>\n      <td>Downtown Toronto</td>\n      <td>Central Bay Street</td>\n      <td>1</td>\n      <td>Coffee Shop</td>\n      <td>Sandwich Place</td>\n      <td>Café</td>\n      <td>Italian Restaurant</td>\n      <td>Bubble Tea Shop</td>\n      <td>Salad Place</td>\n      <td>Thai Restaurant</td>\n      <td>Burger Joint</td>\n      <td>Modern European Restaurant</td>\n      <td>Japanese Restaurant</td>\n    </tr>\n    <tr>\n      <th>30</th>\n      <td>M5H</td>\n      <td>Downtown Toronto</td>\n      <td>Richmond, Adelaide, King</td>\n      <td>1</td>\n      <td>Coffee Shop</td>\n      <td>Café</td>\n      <td>Restaurant</td>\n      <td>Hotel</td>\n      <td>Deli / Bodega</td>\n      <td>Gym</td>\n      <td>Thai Restaurant</td>\n      <td>Lounge</td>\n      <td>Steakhouse</td>\n      <td>Bakery</td>\n    </tr>\n    <tr>\n      <th>36</th>\n      <td>M5J</td>\n      <td>Downtown Toronto</td>\n      <td>Harbourfront East, Union Station, Toronto Islands</td>\n      <td>1</td>\n      <td>Coffee Shop</td>\n      <td>Aquarium</td>\n      <td>Hotel</td>\n      <td>Café</td>\n      <td>Italian Restaurant</td>\n      <td>Brewery</td>\n      <td>Fried Chicken Joint</td>\n      <td>Restaurant</td>\n      <td>Scenic Lookout</td>\n      <td>History Museum</td>\n    </tr>\n    <tr>\n      <th>42</th>\n      <td>M5K</td>\n      <td>Downtown Toronto</td>\n      <td>Toronto Dominion Centre, Design Exchange</td>\n      <td>1</td>\n      <td>Coffee Shop</td>\n      <td>Hotel</td>\n      <td>Café</td>\n      <td>Restaurant</td>\n      <td>Salad Place</td>\n      <td>Italian Restaurant</td>\n      <td>Seafood Restaurant</td>\n      <td>American Restaurant</td>\n      <td>Japanese Restaurant</td>\n      <td>Concert Hall</td>\n    </tr>\n    <tr>\n      <th>43</th>\n      <td>M6K</td>\n      <td>West Toronto</td>\n      <td>Brockton, Parkdale Village, Exhibition Place</td>\n      <td>1</td>\n      <td>Café</td>\n      <td>Breakfast Spot</td>\n      <td>Coffee Shop</td>\n      <td>Furniture / Home Store</td>\n      <td>Office</td>\n      <td>Bar</td>\n      <td>Intersection</td>\n      <td>Bakery</td>\n      <td>Restaurant</td>\n      <td>Climbing Gym</td>\n    </tr>\n    <tr>\n      <th>48</th>\n      <td>M5L</td>\n      <td>Downtown Toronto</td>\n      <td>Commerce Court, Victoria Hotel</td>\n      <td>1</td>\n      <td>Coffee Shop</td>\n      <td>Restaurant</td>\n      <td>Café</td>\n      <td>Hotel</td>\n      <td>American Restaurant</td>\n      <td>Gym</td>\n      <td>Japanese Restaurant</td>\n      <td>Deli / Bodega</td>\n      <td>Italian Restaurant</td>\n      <td>Seafood Restaurant</td>\n    </tr>\n    <tr>\n      <th>97</th>\n      <td>M5X</td>\n      <td>Downtown Toronto</td>\n      <td>First Canadian Place, Underground city</td>\n      <td>1</td>\n      <td>Coffee Shop</td>\n      <td>Café</td>\n      <td>Hotel</td>\n      <td>Restaurant</td>\n      <td>Japanese Restaurant</td>\n      <td>Gym</td>\n      <td>Steakhouse</td>\n      <td>American Restaurant</td>\n      <td>Seafood Restaurant</td>\n      <td>Salad Place</td>\n    </tr>\n  </tbody>\n</table>\n</div>"
     },
     "metadata": {},
     "execution_count": 61
    }
   ],
   "source": [
    "toronto_merged.loc[toronto_merged['Cluster Labels'] == 1, toronto_merged.columns[[0,1,2] + list(range(5, toronto_merged.shape[1]))]]"
   ]
  },
  {
   "cell_type": "code",
   "execution_count": 62,
   "metadata": {},
   "outputs": [
    {
     "output_type": "execute_result",
     "data": {
      "text/plain": [
       "   Postal Code       Borough Neighbourhood  Cluster Labels  \\\n",
       "19         M4E  East Toronto   The Beaches               2   \n",
       "\n",
       "   1st Most Common Venue 2nd Most Common Venue 3rd Most Common Venue  \\\n",
       "19      Asian Restaurant                   Pub     Health Food Store   \n",
       "\n",
       "   4th Most Common Venue 5th Most Common Venue 6th Most Common Venue  \\\n",
       "19                 Trail          Neighborhood               Dog Run   \n",
       "\n",
       "   7th Most Common Venue 8th Most Common Venue 9th Most Common Venue  \\\n",
       "19          Dessert Shop                 Diner        Discount Store   \n",
       "\n",
       "   10th Most Common Venue  \n",
       "19    Distribution Center  "
      ],
      "text/html": "<div>\n<style scoped>\n    .dataframe tbody tr th:only-of-type {\n        vertical-align: middle;\n    }\n\n    .dataframe tbody tr th {\n        vertical-align: top;\n    }\n\n    .dataframe thead th {\n        text-align: right;\n    }\n</style>\n<table border=\"1\" class=\"dataframe\">\n  <thead>\n    <tr style=\"text-align: right;\">\n      <th></th>\n      <th>Postal Code</th>\n      <th>Borough</th>\n      <th>Neighbourhood</th>\n      <th>Cluster Labels</th>\n      <th>1st Most Common Venue</th>\n      <th>2nd Most Common Venue</th>\n      <th>3rd Most Common Venue</th>\n      <th>4th Most Common Venue</th>\n      <th>5th Most Common Venue</th>\n      <th>6th Most Common Venue</th>\n      <th>7th Most Common Venue</th>\n      <th>8th Most Common Venue</th>\n      <th>9th Most Common Venue</th>\n      <th>10th Most Common Venue</th>\n    </tr>\n  </thead>\n  <tbody>\n    <tr>\n      <th>19</th>\n      <td>M4E</td>\n      <td>East Toronto</td>\n      <td>The Beaches</td>\n      <td>2</td>\n      <td>Asian Restaurant</td>\n      <td>Pub</td>\n      <td>Health Food Store</td>\n      <td>Trail</td>\n      <td>Neighborhood</td>\n      <td>Dog Run</td>\n      <td>Dessert Shop</td>\n      <td>Diner</td>\n      <td>Discount Store</td>\n      <td>Distribution Center</td>\n    </tr>\n  </tbody>\n</table>\n</div>"
     },
     "metadata": {},
     "execution_count": 62
    }
   ],
   "source": [
    "toronto_merged.loc[toronto_merged['Cluster Labels'] == 2, toronto_merged.columns[[0,1,2] + list(range(5, toronto_merged.shape[1]))]]"
   ]
  },
  {
   "cell_type": "code",
   "execution_count": 63,
   "metadata": {},
   "outputs": [
    {
     "output_type": "execute_result",
     "data": {
      "text/plain": [
       "   Postal Code           Borough Neighbourhood  Cluster Labels  \\\n",
       "91         M4W  Downtown Toronto      Rosedale               3   \n",
       "\n",
       "   1st Most Common Venue 2nd Most Common Venue 3rd Most Common Venue  \\\n",
       "91                  Park            Playground                 Trail   \n",
       "\n",
       "   4th Most Common Venue 5th Most Common Venue 6th Most Common Venue  \\\n",
       "91      Department Store           Event Space  Ethiopian Restaurant   \n",
       "\n",
       "   7th Most Common Venue 8th Most Common Venue        9th Most Common Venue  \\\n",
       "91           Escape Room     Electronics Store  Eastern European Restaurant   \n",
       "\n",
       "   10th Most Common Venue  \n",
       "91             Donut Shop  "
      ],
      "text/html": "<div>\n<style scoped>\n    .dataframe tbody tr th:only-of-type {\n        vertical-align: middle;\n    }\n\n    .dataframe tbody tr th {\n        vertical-align: top;\n    }\n\n    .dataframe thead th {\n        text-align: right;\n    }\n</style>\n<table border=\"1\" class=\"dataframe\">\n  <thead>\n    <tr style=\"text-align: right;\">\n      <th></th>\n      <th>Postal Code</th>\n      <th>Borough</th>\n      <th>Neighbourhood</th>\n      <th>Cluster Labels</th>\n      <th>1st Most Common Venue</th>\n      <th>2nd Most Common Venue</th>\n      <th>3rd Most Common Venue</th>\n      <th>4th Most Common Venue</th>\n      <th>5th Most Common Venue</th>\n      <th>6th Most Common Venue</th>\n      <th>7th Most Common Venue</th>\n      <th>8th Most Common Venue</th>\n      <th>9th Most Common Venue</th>\n      <th>10th Most Common Venue</th>\n    </tr>\n  </thead>\n  <tbody>\n    <tr>\n      <th>91</th>\n      <td>M4W</td>\n      <td>Downtown Toronto</td>\n      <td>Rosedale</td>\n      <td>3</td>\n      <td>Park</td>\n      <td>Playground</td>\n      <td>Trail</td>\n      <td>Department Store</td>\n      <td>Event Space</td>\n      <td>Ethiopian Restaurant</td>\n      <td>Escape Room</td>\n      <td>Electronics Store</td>\n      <td>Eastern European Restaurant</td>\n      <td>Donut Shop</td>\n    </tr>\n  </tbody>\n</table>\n</div>"
     },
     "metadata": {},
     "execution_count": 63
    }
   ],
   "source": [
    "toronto_merged.loc[toronto_merged['Cluster Labels'] == 3, toronto_merged.columns[[0,1,2] + list(range(5, toronto_merged.shape[1]))]]"
   ]
  },
  {
   "cell_type": "code",
   "execution_count": 64,
   "metadata": {},
   "outputs": [
    {
     "output_type": "execute_result",
     "data": {
      "text/plain": [
       "   Postal Code          Borough Neighbourhood  Cluster Labels  \\\n",
       "62         M5N  Central Toronto      Roselawn               4   \n",
       "\n",
       "   1st Most Common Venue 2nd Most Common Venue 3rd Most Common Venue  \\\n",
       "62        Ice Cream Shop          Home Service           Music Venue   \n",
       "\n",
       "   4th Most Common Venue 5th Most Common Venue 6th Most Common Venue  \\\n",
       "62                Garden                 Diner        Discount Store   \n",
       "\n",
       "   7th Most Common Venue 8th Most Common Venue 9th Most Common Venue  \\\n",
       "62   Distribution Center               Dog Run      Doner Restaurant   \n",
       "\n",
       "   10th Most Common Venue  \n",
       "62       Department Store  "
      ],
      "text/html": "<div>\n<style scoped>\n    .dataframe tbody tr th:only-of-type {\n        vertical-align: middle;\n    }\n\n    .dataframe tbody tr th {\n        vertical-align: top;\n    }\n\n    .dataframe thead th {\n        text-align: right;\n    }\n</style>\n<table border=\"1\" class=\"dataframe\">\n  <thead>\n    <tr style=\"text-align: right;\">\n      <th></th>\n      <th>Postal Code</th>\n      <th>Borough</th>\n      <th>Neighbourhood</th>\n      <th>Cluster Labels</th>\n      <th>1st Most Common Venue</th>\n      <th>2nd Most Common Venue</th>\n      <th>3rd Most Common Venue</th>\n      <th>4th Most Common Venue</th>\n      <th>5th Most Common Venue</th>\n      <th>6th Most Common Venue</th>\n      <th>7th Most Common Venue</th>\n      <th>8th Most Common Venue</th>\n      <th>9th Most Common Venue</th>\n      <th>10th Most Common Venue</th>\n    </tr>\n  </thead>\n  <tbody>\n    <tr>\n      <th>62</th>\n      <td>M5N</td>\n      <td>Central Toronto</td>\n      <td>Roselawn</td>\n      <td>4</td>\n      <td>Ice Cream Shop</td>\n      <td>Home Service</td>\n      <td>Music Venue</td>\n      <td>Garden</td>\n      <td>Diner</td>\n      <td>Discount Store</td>\n      <td>Distribution Center</td>\n      <td>Dog Run</td>\n      <td>Doner Restaurant</td>\n      <td>Department Store</td>\n    </tr>\n  </tbody>\n</table>\n</div>"
     },
     "metadata": {},
     "execution_count": 64
    }
   ],
   "source": [
    "toronto_merged.loc[toronto_merged['Cluster Labels'] == 4, toronto_merged.columns[[0,1,2] + list(range(5, toronto_merged.shape[1]))]]"
   ]
  },
  {
   "cell_type": "code",
   "execution_count": 65,
   "metadata": {},
   "outputs": [
    {
     "output_type": "execute_result",
     "data": {
      "text/plain": [
       "   Postal Code          Borough  Neighbourhood  Cluster Labels  \\\n",
       "61         M4N  Central Toronto  Lawrence Park               5   \n",
       "\n",
       "   1st Most Common Venue       2nd Most Common Venue 3rd Most Common Venue  \\\n",
       "61                  Park  Construction & Landscaping              Bus Line   \n",
       "\n",
       "   4th Most Common Venue 5th Most Common Venue 6th Most Common Venue  \\\n",
       "61           Swim School          Dessert Shop  Ethiopian Restaurant   \n",
       "\n",
       "   7th Most Common Venue 8th Most Common Venue        9th Most Common Venue  \\\n",
       "61           Escape Room     Electronics Store  Eastern European Restaurant   \n",
       "\n",
       "   10th Most Common Venue  \n",
       "61             Donut Shop  "
      ],
      "text/html": "<div>\n<style scoped>\n    .dataframe tbody tr th:only-of-type {\n        vertical-align: middle;\n    }\n\n    .dataframe tbody tr th {\n        vertical-align: top;\n    }\n\n    .dataframe thead th {\n        text-align: right;\n    }\n</style>\n<table border=\"1\" class=\"dataframe\">\n  <thead>\n    <tr style=\"text-align: right;\">\n      <th></th>\n      <th>Postal Code</th>\n      <th>Borough</th>\n      <th>Neighbourhood</th>\n      <th>Cluster Labels</th>\n      <th>1st Most Common Venue</th>\n      <th>2nd Most Common Venue</th>\n      <th>3rd Most Common Venue</th>\n      <th>4th Most Common Venue</th>\n      <th>5th Most Common Venue</th>\n      <th>6th Most Common Venue</th>\n      <th>7th Most Common Venue</th>\n      <th>8th Most Common Venue</th>\n      <th>9th Most Common Venue</th>\n      <th>10th Most Common Venue</th>\n    </tr>\n  </thead>\n  <tbody>\n    <tr>\n      <th>61</th>\n      <td>M4N</td>\n      <td>Central Toronto</td>\n      <td>Lawrence Park</td>\n      <td>5</td>\n      <td>Park</td>\n      <td>Construction &amp; Landscaping</td>\n      <td>Bus Line</td>\n      <td>Swim School</td>\n      <td>Dessert Shop</td>\n      <td>Ethiopian Restaurant</td>\n      <td>Escape Room</td>\n      <td>Electronics Store</td>\n      <td>Eastern European Restaurant</td>\n      <td>Donut Shop</td>\n    </tr>\n  </tbody>\n</table>\n</div>"
     },
     "metadata": {},
     "execution_count": 65
    }
   ],
   "source": [
    "toronto_merged.loc[toronto_merged['Cluster Labels'] == 5, toronto_merged.columns[[0,1,2] + list(range(5, toronto_merged.shape[1]))]]"
   ]
  },
  {
   "cell_type": "code",
   "execution_count": 66,
   "metadata": {},
   "outputs": [
    {
     "output_type": "execute_result",
     "data": {
      "text/plain": [
       "   Postal Code       Borough           Neighbourhood  Cluster Labels  \\\n",
       "75         M6R  West Toronto  Parkdale, Roncesvalles               6   \n",
       "\n",
       "   1st Most Common Venue 2nd Most Common Venue 3rd Most Common Venue  \\\n",
       "75        Breakfast Spot             Gift Shop          Dessert Shop   \n",
       "\n",
       "   4th Most Common Venue 5th Most Common Venue 6th Most Common Venue  \\\n",
       "75      Cuban Restaurant    Italian Restaurant             Bookstore   \n",
       "\n",
       "   7th Most Common Venue 8th Most Common Venue 9th Most Common Venue  \\\n",
       "75         Movie Theater               Dog Run                   Bar   \n",
       "\n",
       "   10th Most Common Venue  \n",
       "75             Restaurant  "
      ],
      "text/html": "<div>\n<style scoped>\n    .dataframe tbody tr th:only-of-type {\n        vertical-align: middle;\n    }\n\n    .dataframe tbody tr th {\n        vertical-align: top;\n    }\n\n    .dataframe thead th {\n        text-align: right;\n    }\n</style>\n<table border=\"1\" class=\"dataframe\">\n  <thead>\n    <tr style=\"text-align: right;\">\n      <th></th>\n      <th>Postal Code</th>\n      <th>Borough</th>\n      <th>Neighbourhood</th>\n      <th>Cluster Labels</th>\n      <th>1st Most Common Venue</th>\n      <th>2nd Most Common Venue</th>\n      <th>3rd Most Common Venue</th>\n      <th>4th Most Common Venue</th>\n      <th>5th Most Common Venue</th>\n      <th>6th Most Common Venue</th>\n      <th>7th Most Common Venue</th>\n      <th>8th Most Common Venue</th>\n      <th>9th Most Common Venue</th>\n      <th>10th Most Common Venue</th>\n    </tr>\n  </thead>\n  <tbody>\n    <tr>\n      <th>75</th>\n      <td>M6R</td>\n      <td>West Toronto</td>\n      <td>Parkdale, Roncesvalles</td>\n      <td>6</td>\n      <td>Breakfast Spot</td>\n      <td>Gift Shop</td>\n      <td>Dessert Shop</td>\n      <td>Cuban Restaurant</td>\n      <td>Italian Restaurant</td>\n      <td>Bookstore</td>\n      <td>Movie Theater</td>\n      <td>Dog Run</td>\n      <td>Bar</td>\n      <td>Restaurant</td>\n    </tr>\n  </tbody>\n</table>\n</div>"
     },
     "metadata": {},
     "execution_count": 66
    }
   ],
   "source": [
    "toronto_merged.loc[toronto_merged['Cluster Labels'] == 6, toronto_merged.columns[[0,1,2] + list(range(5, toronto_merged.shape[1]))]]"
   ]
  },
  {
   "cell_type": "code",
   "execution_count": 67,
   "metadata": {},
   "outputs": [
    {
     "output_type": "execute_result",
     "data": {
      "text/plain": [
       "   Postal Code          Borough                Neighbourhood  Cluster Labels  \\\n",
       "83         M4T  Central Toronto  Moore Park, Summerhill East               7   \n",
       "\n",
       "   1st Most Common Venue 2nd Most Common Venue 3rd Most Common Venue  \\\n",
       "83                   Gym                  Park          Dessert Shop   \n",
       "\n",
       "   4th Most Common Venue 5th Most Common Venue 6th Most Common Venue  \\\n",
       "83    Falafel Restaurant           Event Space  Ethiopian Restaurant   \n",
       "\n",
       "   7th Most Common Venue 8th Most Common Venue        9th Most Common Venue  \\\n",
       "83           Escape Room     Electronics Store  Eastern European Restaurant   \n",
       "\n",
       "   10th Most Common Venue  \n",
       "83             Donut Shop  "
      ],
      "text/html": "<div>\n<style scoped>\n    .dataframe tbody tr th:only-of-type {\n        vertical-align: middle;\n    }\n\n    .dataframe tbody tr th {\n        vertical-align: top;\n    }\n\n    .dataframe thead th {\n        text-align: right;\n    }\n</style>\n<table border=\"1\" class=\"dataframe\">\n  <thead>\n    <tr style=\"text-align: right;\">\n      <th></th>\n      <th>Postal Code</th>\n      <th>Borough</th>\n      <th>Neighbourhood</th>\n      <th>Cluster Labels</th>\n      <th>1st Most Common Venue</th>\n      <th>2nd Most Common Venue</th>\n      <th>3rd Most Common Venue</th>\n      <th>4th Most Common Venue</th>\n      <th>5th Most Common Venue</th>\n      <th>6th Most Common Venue</th>\n      <th>7th Most Common Venue</th>\n      <th>8th Most Common Venue</th>\n      <th>9th Most Common Venue</th>\n      <th>10th Most Common Venue</th>\n    </tr>\n  </thead>\n  <tbody>\n    <tr>\n      <th>83</th>\n      <td>M4T</td>\n      <td>Central Toronto</td>\n      <td>Moore Park, Summerhill East</td>\n      <td>7</td>\n      <td>Gym</td>\n      <td>Park</td>\n      <td>Dessert Shop</td>\n      <td>Falafel Restaurant</td>\n      <td>Event Space</td>\n      <td>Ethiopian Restaurant</td>\n      <td>Escape Room</td>\n      <td>Electronics Store</td>\n      <td>Eastern European Restaurant</td>\n      <td>Donut Shop</td>\n    </tr>\n  </tbody>\n</table>\n</div>"
     },
     "metadata": {},
     "execution_count": 67
    }
   ],
   "source": [
    "toronto_merged.loc[toronto_merged['Cluster Labels'] == 7, toronto_merged.columns[[0,1,2] + list(range(5, toronto_merged.shape[1]))]]"
   ]
  },
  {
   "cell_type": "code",
   "execution_count": 68,
   "metadata": {},
   "outputs": [
    {
     "output_type": "execute_result",
     "data": {
      "text/plain": [
       "   Postal Code          Borough  \\\n",
       "68         M5P  Central Toronto   \n",
       "\n",
       "                                      Neighbourhood  Cluster Labels  \\\n",
       "68  Forest Hill North & West, Forest Hill Road Park               8   \n",
       "\n",
       "   1st Most Common Venue 2nd Most Common Venue 3rd Most Common Venue  \\\n",
       "68                 Trail         Jewelry Store    Mexican Restaurant   \n",
       "\n",
       "   4th Most Common Venue 5th Most Common Venue 6th Most Common Venue  \\\n",
       "68      Sushi Restaurant           Yoga Studio          Dessert Shop   \n",
       "\n",
       "   7th Most Common Venue 8th Most Common Venue 9th Most Common Venue  \\\n",
       "68  Ethiopian Restaurant           Escape Room     Electronics Store   \n",
       "\n",
       "         10th Most Common Venue  \n",
       "68  Eastern European Restaurant  "
      ],
      "text/html": "<div>\n<style scoped>\n    .dataframe tbody tr th:only-of-type {\n        vertical-align: middle;\n    }\n\n    .dataframe tbody tr th {\n        vertical-align: top;\n    }\n\n    .dataframe thead th {\n        text-align: right;\n    }\n</style>\n<table border=\"1\" class=\"dataframe\">\n  <thead>\n    <tr style=\"text-align: right;\">\n      <th></th>\n      <th>Postal Code</th>\n      <th>Borough</th>\n      <th>Neighbourhood</th>\n      <th>Cluster Labels</th>\n      <th>1st Most Common Venue</th>\n      <th>2nd Most Common Venue</th>\n      <th>3rd Most Common Venue</th>\n      <th>4th Most Common Venue</th>\n      <th>5th Most Common Venue</th>\n      <th>6th Most Common Venue</th>\n      <th>7th Most Common Venue</th>\n      <th>8th Most Common Venue</th>\n      <th>9th Most Common Venue</th>\n      <th>10th Most Common Venue</th>\n    </tr>\n  </thead>\n  <tbody>\n    <tr>\n      <th>68</th>\n      <td>M5P</td>\n      <td>Central Toronto</td>\n      <td>Forest Hill North &amp; West, Forest Hill Road Park</td>\n      <td>8</td>\n      <td>Trail</td>\n      <td>Jewelry Store</td>\n      <td>Mexican Restaurant</td>\n      <td>Sushi Restaurant</td>\n      <td>Yoga Studio</td>\n      <td>Dessert Shop</td>\n      <td>Ethiopian Restaurant</td>\n      <td>Escape Room</td>\n      <td>Electronics Store</td>\n      <td>Eastern European Restaurant</td>\n    </tr>\n  </tbody>\n</table>\n</div>"
     },
     "metadata": {},
     "execution_count": 68
    }
   ],
   "source": [
    "toronto_merged.loc[toronto_merged['Cluster Labels'] == 8, toronto_merged.columns[[0,1,2] + list(range(5, toronto_merged.shape[1]))]]"
   ]
  },
  {
   "cell_type": "code",
   "execution_count": 69,
   "metadata": {},
   "outputs": [
    {
     "output_type": "execute_result",
     "data": {
      "text/plain": [
       "    Postal Code       Borough  \\\n",
       "100         M7Y  East Toronto   \n",
       "\n",
       "                                         Neighbourhood  Cluster Labels  \\\n",
       "100  Business reply mail Processing Centre, South C...               9   \n",
       "\n",
       "    1st Most Common Venue 2nd Most Common Venue 3rd Most Common Venue  \\\n",
       "100    Light Rail Station           Yoga Studio            Skate Park   \n",
       "\n",
       "    4th Most Common Venue 5th Most Common Venue 6th Most Common Venue  \\\n",
       "100         Auto Workshop               Brewery         Burrito Place   \n",
       "\n",
       "    7th Most Common Venue 8th Most Common Venue 9th Most Common Venue  \\\n",
       "100            Comic Shop        Farmers Market  Fast Food Restaurant   \n",
       "\n",
       "    10th Most Common Venue  \n",
       "100                 Garden  "
      ],
      "text/html": "<div>\n<style scoped>\n    .dataframe tbody tr th:only-of-type {\n        vertical-align: middle;\n    }\n\n    .dataframe tbody tr th {\n        vertical-align: top;\n    }\n\n    .dataframe thead th {\n        text-align: right;\n    }\n</style>\n<table border=\"1\" class=\"dataframe\">\n  <thead>\n    <tr style=\"text-align: right;\">\n      <th></th>\n      <th>Postal Code</th>\n      <th>Borough</th>\n      <th>Neighbourhood</th>\n      <th>Cluster Labels</th>\n      <th>1st Most Common Venue</th>\n      <th>2nd Most Common Venue</th>\n      <th>3rd Most Common Venue</th>\n      <th>4th Most Common Venue</th>\n      <th>5th Most Common Venue</th>\n      <th>6th Most Common Venue</th>\n      <th>7th Most Common Venue</th>\n      <th>8th Most Common Venue</th>\n      <th>9th Most Common Venue</th>\n      <th>10th Most Common Venue</th>\n    </tr>\n  </thead>\n  <tbody>\n    <tr>\n      <th>100</th>\n      <td>M7Y</td>\n      <td>East Toronto</td>\n      <td>Business reply mail Processing Centre, South C...</td>\n      <td>9</td>\n      <td>Light Rail Station</td>\n      <td>Yoga Studio</td>\n      <td>Skate Park</td>\n      <td>Auto Workshop</td>\n      <td>Brewery</td>\n      <td>Burrito Place</td>\n      <td>Comic Shop</td>\n      <td>Farmers Market</td>\n      <td>Fast Food Restaurant</td>\n      <td>Garden</td>\n    </tr>\n  </tbody>\n</table>\n</div>"
     },
     "metadata": {},
     "execution_count": 69
    }
   ],
   "source": [
    "toronto_merged.loc[toronto_merged['Cluster Labels'] == 9, toronto_merged.columns[[0,1,2] + list(range(5, toronto_merged.shape[1]))]]"
   ]
  },
  {
   "cell_type": "code",
   "execution_count": 70,
   "metadata": {},
   "outputs": [
    {
     "output_type": "execute_result",
     "data": {
      "text/plain": [
       "   Postal Code           Borough  \\\n",
       "87         M5V  Downtown Toronto   \n",
       "\n",
       "                                        Neighbourhood  Cluster Labels  \\\n",
       "87  CN Tower, King and Spadina, Railway Lands, Har...              10   \n",
       "\n",
       "   1st Most Common Venue 2nd Most Common Venue 3rd Most Common Venue  \\\n",
       "87       Airport Service      Airport Terminal        Airport Lounge   \n",
       "\n",
       "   4th Most Common Venue 5th Most Common Venue 6th Most Common Venue  \\\n",
       "87         Boat or Ferry   Rental Car Location                   Bar   \n",
       "\n",
       "   7th Most Common Venue 8th Most Common Venue 9th Most Common Venue  \\\n",
       "87                 Plane       Harbor / Marina      Sculpture Garden   \n",
       "\n",
       "   10th Most Common Venue  \n",
       "87           Airport Gate  "
      ],
      "text/html": "<div>\n<style scoped>\n    .dataframe tbody tr th:only-of-type {\n        vertical-align: middle;\n    }\n\n    .dataframe tbody tr th {\n        vertical-align: top;\n    }\n\n    .dataframe thead th {\n        text-align: right;\n    }\n</style>\n<table border=\"1\" class=\"dataframe\">\n  <thead>\n    <tr style=\"text-align: right;\">\n      <th></th>\n      <th>Postal Code</th>\n      <th>Borough</th>\n      <th>Neighbourhood</th>\n      <th>Cluster Labels</th>\n      <th>1st Most Common Venue</th>\n      <th>2nd Most Common Venue</th>\n      <th>3rd Most Common Venue</th>\n      <th>4th Most Common Venue</th>\n      <th>5th Most Common Venue</th>\n      <th>6th Most Common Venue</th>\n      <th>7th Most Common Venue</th>\n      <th>8th Most Common Venue</th>\n      <th>9th Most Common Venue</th>\n      <th>10th Most Common Venue</th>\n    </tr>\n  </thead>\n  <tbody>\n    <tr>\n      <th>87</th>\n      <td>M5V</td>\n      <td>Downtown Toronto</td>\n      <td>CN Tower, King and Spadina, Railway Lands, Har...</td>\n      <td>10</td>\n      <td>Airport Service</td>\n      <td>Airport Terminal</td>\n      <td>Airport Lounge</td>\n      <td>Boat or Ferry</td>\n      <td>Rental Car Location</td>\n      <td>Bar</td>\n      <td>Plane</td>\n      <td>Harbor / Marina</td>\n      <td>Sculpture Garden</td>\n      <td>Airport Gate</td>\n    </tr>\n  </tbody>\n</table>\n</div>"
     },
     "metadata": {},
     "execution_count": 70
    }
   ],
   "source": [
    "toronto_merged.loc[toronto_merged['Cluster Labels'] == 10, toronto_merged.columns[[0,1,2] + list(range(5, toronto_merged.shape[1]))]]"
   ]
  },
  {
   "cell_type": "code",
   "execution_count": 71,
   "metadata": {},
   "outputs": [
    {
     "output_type": "execute_result",
     "data": {
      "text/plain": [
       "   Postal Code          Borough  \\\n",
       "86         M4V  Central Toronto   \n",
       "\n",
       "                                        Neighbourhood  Cluster Labels  \\\n",
       "86  Summerhill West, Rathnelly, South Hill, Forest...              11   \n",
       "\n",
       "   1st Most Common Venue 2nd Most Common Venue 3rd Most Common Venue  \\\n",
       "86           Coffee Shop   Fried Chicken Joint          Liquor Store   \n",
       "\n",
       "   4th Most Common Venue 5th Most Common Venue 6th Most Common Venue  \\\n",
       "86            Restaurant                  Bank            Bagel Shop   \n",
       "\n",
       "   7th Most Common Venue 8th Most Common Venue 9th Most Common Venue  \\\n",
       "86                   Pub           Supermarket    Light Rail Station   \n",
       "\n",
       "   10th Most Common Venue  \n",
       "86     Athletics & Sports  "
      ],
      "text/html": "<div>\n<style scoped>\n    .dataframe tbody tr th:only-of-type {\n        vertical-align: middle;\n    }\n\n    .dataframe tbody tr th {\n        vertical-align: top;\n    }\n\n    .dataframe thead th {\n        text-align: right;\n    }\n</style>\n<table border=\"1\" class=\"dataframe\">\n  <thead>\n    <tr style=\"text-align: right;\">\n      <th></th>\n      <th>Postal Code</th>\n      <th>Borough</th>\n      <th>Neighbourhood</th>\n      <th>Cluster Labels</th>\n      <th>1st Most Common Venue</th>\n      <th>2nd Most Common Venue</th>\n      <th>3rd Most Common Venue</th>\n      <th>4th Most Common Venue</th>\n      <th>5th Most Common Venue</th>\n      <th>6th Most Common Venue</th>\n      <th>7th Most Common Venue</th>\n      <th>8th Most Common Venue</th>\n      <th>9th Most Common Venue</th>\n      <th>10th Most Common Venue</th>\n    </tr>\n  </thead>\n  <tbody>\n    <tr>\n      <th>86</th>\n      <td>M4V</td>\n      <td>Central Toronto</td>\n      <td>Summerhill West, Rathnelly, South Hill, Forest...</td>\n      <td>11</td>\n      <td>Coffee Shop</td>\n      <td>Fried Chicken Joint</td>\n      <td>Liquor Store</td>\n      <td>Restaurant</td>\n      <td>Bank</td>\n      <td>Bagel Shop</td>\n      <td>Pub</td>\n      <td>Supermarket</td>\n      <td>Light Rail Station</td>\n      <td>Athletics &amp; Sports</td>\n    </tr>\n  </tbody>\n</table>\n</div>"
     },
     "metadata": {},
     "execution_count": 71
    }
   ],
   "source": [
    "toronto_merged.loc[toronto_merged['Cluster Labels'] == 11, toronto_merged.columns[[0,1,2] + list(range(5, toronto_merged.shape[1]))]]"
   ]
  },
  {
   "cell_type": "code",
   "execution_count": 72,
   "metadata": {},
   "outputs": [
    {
     "output_type": "execute_result",
     "data": {
      "text/plain": [
       "   Postal Code          Borough     Neighbourhood  Cluster Labels  \\\n",
       "67         M4P  Central Toronto  Davisville North              12   \n",
       "\n",
       "   1st Most Common Venue 2nd Most Common Venue 3rd Most Common Venue  \\\n",
       "67                 Hotel  Gym / Fitness Center     Food & Drink Shop   \n",
       "\n",
       "   4th Most Common Venue 5th Most Common Venue 6th Most Common Venue  \\\n",
       "67                  Park           Pizza Place        Breakfast Spot   \n",
       "\n",
       "   7th Most Common Venue 8th Most Common Venue 9th Most Common Venue  \\\n",
       "67      Department Store        Sandwich Place                 Diner   \n",
       "\n",
       "   10th Most Common Venue  \n",
       "67         Discount Store  "
      ],
      "text/html": "<div>\n<style scoped>\n    .dataframe tbody tr th:only-of-type {\n        vertical-align: middle;\n    }\n\n    .dataframe tbody tr th {\n        vertical-align: top;\n    }\n\n    .dataframe thead th {\n        text-align: right;\n    }\n</style>\n<table border=\"1\" class=\"dataframe\">\n  <thead>\n    <tr style=\"text-align: right;\">\n      <th></th>\n      <th>Postal Code</th>\n      <th>Borough</th>\n      <th>Neighbourhood</th>\n      <th>Cluster Labels</th>\n      <th>1st Most Common Venue</th>\n      <th>2nd Most Common Venue</th>\n      <th>3rd Most Common Venue</th>\n      <th>4th Most Common Venue</th>\n      <th>5th Most Common Venue</th>\n      <th>6th Most Common Venue</th>\n      <th>7th Most Common Venue</th>\n      <th>8th Most Common Venue</th>\n      <th>9th Most Common Venue</th>\n      <th>10th Most Common Venue</th>\n    </tr>\n  </thead>\n  <tbody>\n    <tr>\n      <th>67</th>\n      <td>M4P</td>\n      <td>Central Toronto</td>\n      <td>Davisville North</td>\n      <td>12</td>\n      <td>Hotel</td>\n      <td>Gym / Fitness Center</td>\n      <td>Food &amp; Drink Shop</td>\n      <td>Park</td>\n      <td>Pizza Place</td>\n      <td>Breakfast Spot</td>\n      <td>Department Store</td>\n      <td>Sandwich Place</td>\n      <td>Diner</td>\n      <td>Discount Store</td>\n    </tr>\n  </tbody>\n</table>\n</div>"
     },
     "metadata": {},
     "execution_count": 72
    }
   ],
   "source": [
    "toronto_merged.loc[toronto_merged['Cluster Labels'] == 12, toronto_merged.columns[[0,1,2] + list(range(5, toronto_merged.shape[1]))]]"
   ]
  },
  {
   "cell_type": "code",
   "execution_count": 73,
   "metadata": {},
   "outputs": [
    {
     "output_type": "execute_result",
     "data": {
      "text/plain": [
       "   Postal Code           Borough Neighbourhood  Cluster Labels  \\\n",
       "25         M6G  Downtown Toronto      Christie              13   \n",
       "\n",
       "   1st Most Common Venue 2nd Most Common Venue 3rd Most Common Venue  \\\n",
       "25         Grocery Store                  Café                  Park   \n",
       "\n",
       "   4th Most Common Venue 5th Most Common Venue 6th Most Common Venue  \\\n",
       "25           Coffee Shop    Italian Restaurant            Restaurant   \n",
       "\n",
       "   7th Most Common Venue 8th Most Common Venue 9th Most Common Venue  \\\n",
       "25            Baby Store           Candy Store    Athletics & Sports   \n",
       "\n",
       "   10th Most Common Venue  \n",
       "25              Nightclub  "
      ],
      "text/html": "<div>\n<style scoped>\n    .dataframe tbody tr th:only-of-type {\n        vertical-align: middle;\n    }\n\n    .dataframe tbody tr th {\n        vertical-align: top;\n    }\n\n    .dataframe thead th {\n        text-align: right;\n    }\n</style>\n<table border=\"1\" class=\"dataframe\">\n  <thead>\n    <tr style=\"text-align: right;\">\n      <th></th>\n      <th>Postal Code</th>\n      <th>Borough</th>\n      <th>Neighbourhood</th>\n      <th>Cluster Labels</th>\n      <th>1st Most Common Venue</th>\n      <th>2nd Most Common Venue</th>\n      <th>3rd Most Common Venue</th>\n      <th>4th Most Common Venue</th>\n      <th>5th Most Common Venue</th>\n      <th>6th Most Common Venue</th>\n      <th>7th Most Common Venue</th>\n      <th>8th Most Common Venue</th>\n      <th>9th Most Common Venue</th>\n      <th>10th Most Common Venue</th>\n    </tr>\n  </thead>\n  <tbody>\n    <tr>\n      <th>25</th>\n      <td>M6G</td>\n      <td>Downtown Toronto</td>\n      <td>Christie</td>\n      <td>13</td>\n      <td>Grocery Store</td>\n      <td>Café</td>\n      <td>Park</td>\n      <td>Coffee Shop</td>\n      <td>Italian Restaurant</td>\n      <td>Restaurant</td>\n      <td>Baby Store</td>\n      <td>Candy Store</td>\n      <td>Athletics &amp; Sports</td>\n      <td>Nightclub</td>\n    </tr>\n  </tbody>\n</table>\n</div>"
     },
     "metadata": {},
     "execution_count": 73
    }
   ],
   "source": [
    "toronto_merged.loc[toronto_merged['Cluster Labels'] == 13, toronto_merged.columns[[0,1,2] + list(range(5, toronto_merged.shape[1]))]]"
   ]
  },
  {
   "cell_type": "code",
   "execution_count": 74,
   "metadata": {},
   "outputs": [
    {
     "output_type": "execute_result",
     "data": {
      "text/plain": [
       "   Postal Code       Borough                 Neighbourhood  Cluster Labels  \\\n",
       "31         M6H  West Toronto  Dufferin, Dovercourt Village              14   \n",
       "\n",
       "   1st Most Common Venue 2nd Most Common Venue 3rd Most Common Venue  \\\n",
       "31                Bakery              Pharmacy                  Park   \n",
       "\n",
       "   4th Most Common Venue 5th Most Common Venue 6th Most Common Venue  \\\n",
       "31           Art Gallery                  Café                   Bar   \n",
       "\n",
       "   7th Most Common Venue 8th Most Common Venue      9th Most Common Venue  \\\n",
       "31                  Bank           Supermarket  Middle Eastern Restaurant   \n",
       "\n",
       "   10th Most Common Venue  \n",
       "31  Portuguese Restaurant  "
      ],
      "text/html": "<div>\n<style scoped>\n    .dataframe tbody tr th:only-of-type {\n        vertical-align: middle;\n    }\n\n    .dataframe tbody tr th {\n        vertical-align: top;\n    }\n\n    .dataframe thead th {\n        text-align: right;\n    }\n</style>\n<table border=\"1\" class=\"dataframe\">\n  <thead>\n    <tr style=\"text-align: right;\">\n      <th></th>\n      <th>Postal Code</th>\n      <th>Borough</th>\n      <th>Neighbourhood</th>\n      <th>Cluster Labels</th>\n      <th>1st Most Common Venue</th>\n      <th>2nd Most Common Venue</th>\n      <th>3rd Most Common Venue</th>\n      <th>4th Most Common Venue</th>\n      <th>5th Most Common Venue</th>\n      <th>6th Most Common Venue</th>\n      <th>7th Most Common Venue</th>\n      <th>8th Most Common Venue</th>\n      <th>9th Most Common Venue</th>\n      <th>10th Most Common Venue</th>\n    </tr>\n  </thead>\n  <tbody>\n    <tr>\n      <th>31</th>\n      <td>M6H</td>\n      <td>West Toronto</td>\n      <td>Dufferin, Dovercourt Village</td>\n      <td>14</td>\n      <td>Bakery</td>\n      <td>Pharmacy</td>\n      <td>Park</td>\n      <td>Art Gallery</td>\n      <td>Café</td>\n      <td>Bar</td>\n      <td>Bank</td>\n      <td>Supermarket</td>\n      <td>Middle Eastern Restaurant</td>\n      <td>Portuguese Restaurant</td>\n    </tr>\n  </tbody>\n</table>\n</div>"
     },
     "metadata": {},
     "execution_count": 74
    }
   ],
   "source": [
    "toronto_merged.loc[toronto_merged['Cluster Labels'] == 14, toronto_merged.columns[[0,1,2] + list(range(5, toronto_merged.shape[1]))]]"
   ]
  },
  {
   "cell_type": "code",
   "execution_count": 75,
   "metadata": {},
   "outputs": [
    {
     "output_type": "execute_result",
     "data": {
      "text/plain": [
       "   Postal Code       Borough                 Neighbourhood  Cluster Labels  \\\n",
       "41         M4K  East Toronto  The Danforth West, Riverdale              15   \n",
       "\n",
       "   1st Most Common Venue 2nd Most Common Venue 3rd Most Common Venue  \\\n",
       "41      Greek Restaurant    Italian Restaurant           Coffee Shop   \n",
       "\n",
       "   4th Most Common Venue 5th Most Common Venue   6th Most Common Venue  \\\n",
       "41        Ice Cream Shop             Bookstore  Furniture / Home Store   \n",
       "\n",
       "   7th Most Common Venue 8th Most Common Venue 9th Most Common Venue  \\\n",
       "41           Yoga Studio                Bakery     Indian Restaurant   \n",
       "\n",
       "   10th Most Common Venue  \n",
       "41                    Spa  "
      ],
      "text/html": "<div>\n<style scoped>\n    .dataframe tbody tr th:only-of-type {\n        vertical-align: middle;\n    }\n\n    .dataframe tbody tr th {\n        vertical-align: top;\n    }\n\n    .dataframe thead th {\n        text-align: right;\n    }\n</style>\n<table border=\"1\" class=\"dataframe\">\n  <thead>\n    <tr style=\"text-align: right;\">\n      <th></th>\n      <th>Postal Code</th>\n      <th>Borough</th>\n      <th>Neighbourhood</th>\n      <th>Cluster Labels</th>\n      <th>1st Most Common Venue</th>\n      <th>2nd Most Common Venue</th>\n      <th>3rd Most Common Venue</th>\n      <th>4th Most Common Venue</th>\n      <th>5th Most Common Venue</th>\n      <th>6th Most Common Venue</th>\n      <th>7th Most Common Venue</th>\n      <th>8th Most Common Venue</th>\n      <th>9th Most Common Venue</th>\n      <th>10th Most Common Venue</th>\n    </tr>\n  </thead>\n  <tbody>\n    <tr>\n      <th>41</th>\n      <td>M4K</td>\n      <td>East Toronto</td>\n      <td>The Danforth West, Riverdale</td>\n      <td>15</td>\n      <td>Greek Restaurant</td>\n      <td>Italian Restaurant</td>\n      <td>Coffee Shop</td>\n      <td>Ice Cream Shop</td>\n      <td>Bookstore</td>\n      <td>Furniture / Home Store</td>\n      <td>Yoga Studio</td>\n      <td>Bakery</td>\n      <td>Indian Restaurant</td>\n      <td>Spa</td>\n    </tr>\n  </tbody>\n</table>\n</div>"
     },
     "metadata": {},
     "execution_count": 75
    }
   ],
   "source": [
    "toronto_merged.loc[toronto_merged['Cluster Labels'] == 15, toronto_merged.columns[[0,1,2] + list(range(5, toronto_merged.shape[1]))]]"
   ]
  },
  {
   "cell_type": "code",
   "execution_count": 76,
   "metadata": {},
   "outputs": [
    {
     "output_type": "execute_result",
     "data": {
      "text/plain": [
       "   Postal Code          Borough                        Neighbourhood  \\\n",
       "74         M5R  Central Toronto  The Annex, North Midtown, Yorkville   \n",
       "79         M4S  Central Toronto                           Davisville   \n",
       "81         M6S     West Toronto                   Runnymede, Swansea   \n",
       "\n",
       "    Cluster Labels 1st Most Common Venue 2nd Most Common Venue  \\\n",
       "74              16        Sandwich Place                  Café   \n",
       "79              16          Dessert Shop        Sandwich Place   \n",
       "81              16                  Café           Coffee Shop   \n",
       "\n",
       "   3rd Most Common Venue 4th Most Common Venue 5th Most Common Venue  \\\n",
       "74           Coffee Shop                  Park             BBQ Joint   \n",
       "79    Italian Restaurant                   Gym      Sushi Restaurant   \n",
       "81      Sushi Restaurant    Italian Restaurant                   Pub   \n",
       "\n",
       "   6th Most Common Venue 7th Most Common Venue 8th Most Common Venue  \\\n",
       "74            Donut Shop          Burger Joint           Flower Shop   \n",
       "79           Coffee Shop       Thai Restaurant           Pizza Place   \n",
       "81           Pizza Place          Dessert Shop         Smoothie Shop   \n",
       "\n",
       "        9th Most Common Venue 10th Most Common Venue  \n",
       "74  Middle Eastern Restaurant      Indian Restaurant  \n",
       "79                       Café               Pharmacy  \n",
       "81                  Bookstore         Sandwich Place  "
      ],
      "text/html": "<div>\n<style scoped>\n    .dataframe tbody tr th:only-of-type {\n        vertical-align: middle;\n    }\n\n    .dataframe tbody tr th {\n        vertical-align: top;\n    }\n\n    .dataframe thead th {\n        text-align: right;\n    }\n</style>\n<table border=\"1\" class=\"dataframe\">\n  <thead>\n    <tr style=\"text-align: right;\">\n      <th></th>\n      <th>Postal Code</th>\n      <th>Borough</th>\n      <th>Neighbourhood</th>\n      <th>Cluster Labels</th>\n      <th>1st Most Common Venue</th>\n      <th>2nd Most Common Venue</th>\n      <th>3rd Most Common Venue</th>\n      <th>4th Most Common Venue</th>\n      <th>5th Most Common Venue</th>\n      <th>6th Most Common Venue</th>\n      <th>7th Most Common Venue</th>\n      <th>8th Most Common Venue</th>\n      <th>9th Most Common Venue</th>\n      <th>10th Most Common Venue</th>\n    </tr>\n  </thead>\n  <tbody>\n    <tr>\n      <th>74</th>\n      <td>M5R</td>\n      <td>Central Toronto</td>\n      <td>The Annex, North Midtown, Yorkville</td>\n      <td>16</td>\n      <td>Sandwich Place</td>\n      <td>Café</td>\n      <td>Coffee Shop</td>\n      <td>Park</td>\n      <td>BBQ Joint</td>\n      <td>Donut Shop</td>\n      <td>Burger Joint</td>\n      <td>Flower Shop</td>\n      <td>Middle Eastern Restaurant</td>\n      <td>Indian Restaurant</td>\n    </tr>\n    <tr>\n      <th>79</th>\n      <td>M4S</td>\n      <td>Central Toronto</td>\n      <td>Davisville</td>\n      <td>16</td>\n      <td>Dessert Shop</td>\n      <td>Sandwich Place</td>\n      <td>Italian Restaurant</td>\n      <td>Gym</td>\n      <td>Sushi Restaurant</td>\n      <td>Coffee Shop</td>\n      <td>Thai Restaurant</td>\n      <td>Pizza Place</td>\n      <td>Café</td>\n      <td>Pharmacy</td>\n    </tr>\n    <tr>\n      <th>81</th>\n      <td>M6S</td>\n      <td>West Toronto</td>\n      <td>Runnymede, Swansea</td>\n      <td>16</td>\n      <td>Café</td>\n      <td>Coffee Shop</td>\n      <td>Sushi Restaurant</td>\n      <td>Italian Restaurant</td>\n      <td>Pub</td>\n      <td>Pizza Place</td>\n      <td>Dessert Shop</td>\n      <td>Smoothie Shop</td>\n      <td>Bookstore</td>\n      <td>Sandwich Place</td>\n    </tr>\n  </tbody>\n</table>\n</div>"
     },
     "metadata": {},
     "execution_count": 76
    }
   ],
   "source": [
    "toronto_merged.loc[toronto_merged['Cluster Labels'] == 16, toronto_merged.columns[[0,1,2] + list(range(5, toronto_merged.shape[1]))]]"
   ]
  },
  {
   "cell_type": "code",
   "execution_count": 77,
   "metadata": {},
   "outputs": [
    {
     "output_type": "execute_result",
     "data": {
      "text/plain": [
       "   Postal Code       Borough                   Neighbourhood  Cluster Labels  \\\n",
       "47         M4L  East Toronto  India Bazaar, The Beaches West              17   \n",
       "\n",
       "   1st Most Common Venue 2nd Most Common Venue 3rd Most Common Venue  \\\n",
       "47        Sandwich Place  Fast Food Restaurant                  Park   \n",
       "\n",
       "   4th Most Common Venue 5th Most Common Venue 6th Most Common Venue  \\\n",
       "47      Sushi Restaurant          Liquor Store         Burrito Place   \n",
       "\n",
       "   7th Most Common Venue 8th Most Common Venue 9th Most Common Venue  \\\n",
       "47            Restaurant    Italian Restaurant     Fish & Chips Shop   \n",
       "\n",
       "   10th Most Common Venue  \n",
       "47             Steakhouse  "
      ],
      "text/html": "<div>\n<style scoped>\n    .dataframe tbody tr th:only-of-type {\n        vertical-align: middle;\n    }\n\n    .dataframe tbody tr th {\n        vertical-align: top;\n    }\n\n    .dataframe thead th {\n        text-align: right;\n    }\n</style>\n<table border=\"1\" class=\"dataframe\">\n  <thead>\n    <tr style=\"text-align: right;\">\n      <th></th>\n      <th>Postal Code</th>\n      <th>Borough</th>\n      <th>Neighbourhood</th>\n      <th>Cluster Labels</th>\n      <th>1st Most Common Venue</th>\n      <th>2nd Most Common Venue</th>\n      <th>3rd Most Common Venue</th>\n      <th>4th Most Common Venue</th>\n      <th>5th Most Common Venue</th>\n      <th>6th Most Common Venue</th>\n      <th>7th Most Common Venue</th>\n      <th>8th Most Common Venue</th>\n      <th>9th Most Common Venue</th>\n      <th>10th Most Common Venue</th>\n    </tr>\n  </thead>\n  <tbody>\n    <tr>\n      <th>47</th>\n      <td>M4L</td>\n      <td>East Toronto</td>\n      <td>India Bazaar, The Beaches West</td>\n      <td>17</td>\n      <td>Sandwich Place</td>\n      <td>Fast Food Restaurant</td>\n      <td>Park</td>\n      <td>Sushi Restaurant</td>\n      <td>Liquor Store</td>\n      <td>Burrito Place</td>\n      <td>Restaurant</td>\n      <td>Italian Restaurant</td>\n      <td>Fish &amp; Chips Shop</td>\n      <td>Steakhouse</td>\n    </tr>\n  </tbody>\n</table>\n</div>"
     },
     "metadata": {},
     "execution_count": 77
    }
   ],
   "source": [
    "toronto_merged.loc[toronto_merged['Cluster Labels'] == 17, toronto_merged.columns[[0,1,2] + list(range(5, toronto_merged.shape[1]))]]"
   ]
  },
  {
   "cell_type": "code",
   "execution_count": 78,
   "metadata": {},
   "outputs": [
    {
     "output_type": "execute_result",
     "data": {
      "text/plain": [
       "   Postal Code           Borough                                Neighbourhood  \\\n",
       "2          M5A  Downtown Toronto                    Regent Park, Harbourfront   \n",
       "4          M7A  Downtown Toronto  Queen's Park, Ontario Provincial Government   \n",
       "9          M5B  Downtown Toronto                     Garden District, Ryerson   \n",
       "15         M5C  Downtown Toronto                               St. James Town   \n",
       "20         M5E  Downtown Toronto                                  Berczy Park   \n",
       "54         M4M      East Toronto                              Studio District   \n",
       "92         M5W  Downtown Toronto                               Stn A PO Boxes   \n",
       "96         M4X  Downtown Toronto                  St. James Town, Cabbagetown   \n",
       "99         M4Y  Downtown Toronto                         Church and Wellesley   \n",
       "\n",
       "    Cluster Labels 1st Most Common Venue 2nd Most Common Venue  \\\n",
       "2               18           Coffee Shop                   Pub   \n",
       "4               18           Coffee Shop      Sushi Restaurant   \n",
       "9               18           Coffee Shop        Clothing Store   \n",
       "15              18           Coffee Shop                  Café   \n",
       "20              18           Coffee Shop          Cocktail Bar   \n",
       "54              18           Coffee Shop   American Restaurant   \n",
       "92              18           Coffee Shop    Seafood Restaurant   \n",
       "96              18           Coffee Shop           Pizza Place   \n",
       "99              18           Coffee Shop      Sushi Restaurant   \n",
       "\n",
       "   3rd Most Common Venue 4th Most Common Venue 5th Most Common Venue  \\\n",
       "2                 Bakery                  Park                  Café   \n",
       "4            Yoga Studio                  Bank         Smoothie Shop   \n",
       "9                   Café   Japanese Restaurant                 Hotel   \n",
       "15          Cocktail Bar   American Restaurant        Cosmetics Shop   \n",
       "20              Beer Bar        Farmers Market                Bakery   \n",
       "54                Bakery               Brewery                  Café   \n",
       "92            Restaurant              Beer Bar                  Café   \n",
       "96                Bakery                  Café                   Pub   \n",
       "99   Japanese Restaurant            Restaurant               Gay Bar   \n",
       "\n",
       "        6th Most Common Venue 7th Most Common Venue 8th Most Common Venue  \\\n",
       "2              Breakfast Spot               Theater           Yoga Studio   \n",
       "4                    Beer Bar        Sandwich Place         Burrito Place   \n",
       "9   Middle Eastern Restaurant       Bubble Tea Shop        Cosmetics Shop   \n",
       "15        Japanese Restaurant        Lingerie Store      Department Store   \n",
       "20         Seafood Restaurant            Restaurant              Pharmacy   \n",
       "54                  Gastropub           Yoga Studio           Fish Market   \n",
       "92               Cocktail Bar   Japanese Restaurant    Italian Restaurant   \n",
       "96         Italian Restaurant            Restaurant                  Bank   \n",
       "99                Yoga Studio                   Pub  Fast Food Restaurant   \n",
       "\n",
       "   9th Most Common Venue    10th Most Common Venue  \n",
       "2      French Restaurant         Health Food Store  \n",
       "4                   Café     Portuguese Restaurant  \n",
       "9         Lingerie Store          Ramen Restaurant  \n",
       "15              Creperie                    Bakery  \n",
       "20           Cheese Shop                       Pub  \n",
       "54                  Park              Neighborhood  \n",
       "92                Bakery                     Hotel  \n",
       "96                   Bar                    Market  \n",
       "99           Men's Store  Mediterranean Restaurant  "
      ],
      "text/html": "<div>\n<style scoped>\n    .dataframe tbody tr th:only-of-type {\n        vertical-align: middle;\n    }\n\n    .dataframe tbody tr th {\n        vertical-align: top;\n    }\n\n    .dataframe thead th {\n        text-align: right;\n    }\n</style>\n<table border=\"1\" class=\"dataframe\">\n  <thead>\n    <tr style=\"text-align: right;\">\n      <th></th>\n      <th>Postal Code</th>\n      <th>Borough</th>\n      <th>Neighbourhood</th>\n      <th>Cluster Labels</th>\n      <th>1st Most Common Venue</th>\n      <th>2nd Most Common Venue</th>\n      <th>3rd Most Common Venue</th>\n      <th>4th Most Common Venue</th>\n      <th>5th Most Common Venue</th>\n      <th>6th Most Common Venue</th>\n      <th>7th Most Common Venue</th>\n      <th>8th Most Common Venue</th>\n      <th>9th Most Common Venue</th>\n      <th>10th Most Common Venue</th>\n    </tr>\n  </thead>\n  <tbody>\n    <tr>\n      <th>2</th>\n      <td>M5A</td>\n      <td>Downtown Toronto</td>\n      <td>Regent Park, Harbourfront</td>\n      <td>18</td>\n      <td>Coffee Shop</td>\n      <td>Pub</td>\n      <td>Bakery</td>\n      <td>Park</td>\n      <td>Café</td>\n      <td>Breakfast Spot</td>\n      <td>Theater</td>\n      <td>Yoga Studio</td>\n      <td>French Restaurant</td>\n      <td>Health Food Store</td>\n    </tr>\n    <tr>\n      <th>4</th>\n      <td>M7A</td>\n      <td>Downtown Toronto</td>\n      <td>Queen's Park, Ontario Provincial Government</td>\n      <td>18</td>\n      <td>Coffee Shop</td>\n      <td>Sushi Restaurant</td>\n      <td>Yoga Studio</td>\n      <td>Bank</td>\n      <td>Smoothie Shop</td>\n      <td>Beer Bar</td>\n      <td>Sandwich Place</td>\n      <td>Burrito Place</td>\n      <td>Café</td>\n      <td>Portuguese Restaurant</td>\n    </tr>\n    <tr>\n      <th>9</th>\n      <td>M5B</td>\n      <td>Downtown Toronto</td>\n      <td>Garden District, Ryerson</td>\n      <td>18</td>\n      <td>Coffee Shop</td>\n      <td>Clothing Store</td>\n      <td>Café</td>\n      <td>Japanese Restaurant</td>\n      <td>Hotel</td>\n      <td>Middle Eastern Restaurant</td>\n      <td>Bubble Tea Shop</td>\n      <td>Cosmetics Shop</td>\n      <td>Lingerie Store</td>\n      <td>Ramen Restaurant</td>\n    </tr>\n    <tr>\n      <th>15</th>\n      <td>M5C</td>\n      <td>Downtown Toronto</td>\n      <td>St. James Town</td>\n      <td>18</td>\n      <td>Coffee Shop</td>\n      <td>Café</td>\n      <td>Cocktail Bar</td>\n      <td>American Restaurant</td>\n      <td>Cosmetics Shop</td>\n      <td>Japanese Restaurant</td>\n      <td>Lingerie Store</td>\n      <td>Department Store</td>\n      <td>Creperie</td>\n      <td>Bakery</td>\n    </tr>\n    <tr>\n      <th>20</th>\n      <td>M5E</td>\n      <td>Downtown Toronto</td>\n      <td>Berczy Park</td>\n      <td>18</td>\n      <td>Coffee Shop</td>\n      <td>Cocktail Bar</td>\n      <td>Beer Bar</td>\n      <td>Farmers Market</td>\n      <td>Bakery</td>\n      <td>Seafood Restaurant</td>\n      <td>Restaurant</td>\n      <td>Pharmacy</td>\n      <td>Cheese Shop</td>\n      <td>Pub</td>\n    </tr>\n    <tr>\n      <th>54</th>\n      <td>M4M</td>\n      <td>East Toronto</td>\n      <td>Studio District</td>\n      <td>18</td>\n      <td>Coffee Shop</td>\n      <td>American Restaurant</td>\n      <td>Bakery</td>\n      <td>Brewery</td>\n      <td>Café</td>\n      <td>Gastropub</td>\n      <td>Yoga Studio</td>\n      <td>Fish Market</td>\n      <td>Park</td>\n      <td>Neighborhood</td>\n    </tr>\n    <tr>\n      <th>92</th>\n      <td>M5W</td>\n      <td>Downtown Toronto</td>\n      <td>Stn A PO Boxes</td>\n      <td>18</td>\n      <td>Coffee Shop</td>\n      <td>Seafood Restaurant</td>\n      <td>Restaurant</td>\n      <td>Beer Bar</td>\n      <td>Café</td>\n      <td>Cocktail Bar</td>\n      <td>Japanese Restaurant</td>\n      <td>Italian Restaurant</td>\n      <td>Bakery</td>\n      <td>Hotel</td>\n    </tr>\n    <tr>\n      <th>96</th>\n      <td>M4X</td>\n      <td>Downtown Toronto</td>\n      <td>St. James Town, Cabbagetown</td>\n      <td>18</td>\n      <td>Coffee Shop</td>\n      <td>Pizza Place</td>\n      <td>Bakery</td>\n      <td>Café</td>\n      <td>Pub</td>\n      <td>Italian Restaurant</td>\n      <td>Restaurant</td>\n      <td>Bank</td>\n      <td>Bar</td>\n      <td>Market</td>\n    </tr>\n    <tr>\n      <th>99</th>\n      <td>M4Y</td>\n      <td>Downtown Toronto</td>\n      <td>Church and Wellesley</td>\n      <td>18</td>\n      <td>Coffee Shop</td>\n      <td>Sushi Restaurant</td>\n      <td>Japanese Restaurant</td>\n      <td>Restaurant</td>\n      <td>Gay Bar</td>\n      <td>Yoga Studio</td>\n      <td>Pub</td>\n      <td>Fast Food Restaurant</td>\n      <td>Men's Store</td>\n      <td>Mediterranean Restaurant</td>\n    </tr>\n  </tbody>\n</table>\n</div>"
     },
     "metadata": {},
     "execution_count": 78
    }
   ],
   "source": [
    "toronto_merged.loc[toronto_merged['Cluster Labels'] == 18, toronto_merged.columns[[0,1,2] + list(range(5, toronto_merged.shape[1]))]]"
   ]
  },
  {
   "cell_type": "code",
   "execution_count": 79,
   "metadata": {},
   "outputs": [
    {
     "output_type": "execute_result",
     "data": {
      "text/plain": [
       "   Postal Code          Borough                       Neighbourhood  \\\n",
       "73         M4R  Central Toronto  North Toronto West,  Lawrence Park   \n",
       "\n",
       "    Cluster Labels 1st Most Common Venue 2nd Most Common Venue  \\\n",
       "73              19        Clothing Store           Coffee Shop   \n",
       "\n",
       "   3rd Most Common Venue 4th Most Common Venue 5th Most Common Venue  \\\n",
       "73           Yoga Studio   Sporting Goods Shop  Fast Food Restaurant   \n",
       "\n",
       "   6th Most Common Venue 7th Most Common Venue 8th Most Common Venue  \\\n",
       "73                 Diner    Mexican Restaurant             Pet Store   \n",
       "\n",
       "   9th Most Common Venue 10th Most Common Venue  \n",
       "73    Chinese Restaurant                   Café  "
      ],
      "text/html": "<div>\n<style scoped>\n    .dataframe tbody tr th:only-of-type {\n        vertical-align: middle;\n    }\n\n    .dataframe tbody tr th {\n        vertical-align: top;\n    }\n\n    .dataframe thead th {\n        text-align: right;\n    }\n</style>\n<table border=\"1\" class=\"dataframe\">\n  <thead>\n    <tr style=\"text-align: right;\">\n      <th></th>\n      <th>Postal Code</th>\n      <th>Borough</th>\n      <th>Neighbourhood</th>\n      <th>Cluster Labels</th>\n      <th>1st Most Common Venue</th>\n      <th>2nd Most Common Venue</th>\n      <th>3rd Most Common Venue</th>\n      <th>4th Most Common Venue</th>\n      <th>5th Most Common Venue</th>\n      <th>6th Most Common Venue</th>\n      <th>7th Most Common Venue</th>\n      <th>8th Most Common Venue</th>\n      <th>9th Most Common Venue</th>\n      <th>10th Most Common Venue</th>\n    </tr>\n  </thead>\n  <tbody>\n    <tr>\n      <th>73</th>\n      <td>M4R</td>\n      <td>Central Toronto</td>\n      <td>North Toronto West,  Lawrence Park</td>\n      <td>19</td>\n      <td>Clothing Store</td>\n      <td>Coffee Shop</td>\n      <td>Yoga Studio</td>\n      <td>Sporting Goods Shop</td>\n      <td>Fast Food Restaurant</td>\n      <td>Diner</td>\n      <td>Mexican Restaurant</td>\n      <td>Pet Store</td>\n      <td>Chinese Restaurant</td>\n      <td>Café</td>\n    </tr>\n  </tbody>\n</table>\n</div>"
     },
     "metadata": {},
     "execution_count": 79
    }
   ],
   "source": [
    "toronto_merged.loc[toronto_merged['Cluster Labels'] == 19, toronto_merged.columns[[0,1,2] + list(range(5, toronto_merged.shape[1]))]]"
   ]
  },
  {
   "cell_type": "code",
   "execution_count": null,
   "metadata": {},
   "outputs": [],
   "source": []
  }
 ],
 "metadata": {
  "kernelspec": {
   "name": "python3",
   "display_name": "Python 3.8.7 64-bit",
   "metadata": {
    "interpreter": {
     "hash": "d3fb37256ae555f29af941bd988fc3f776b1b44c8529fd793aff56a4d383cad8"
    }
   }
  },
  "language_info": {
   "codemirror_mode": {
    "name": "ipython",
    "version": 3
   },
   "file_extension": ".py",
   "mimetype": "text/x-python",
   "name": "python",
   "nbconvert_exporter": "python",
   "pygments_lexer": "ipython3",
   "version": "3.8.7-final"
  }
 },
 "nbformat": 4,
 "nbformat_minor": 4
}